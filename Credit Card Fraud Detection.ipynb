{
 "cells": [
  {
   "cell_type": "markdown",
   "metadata": {},
   "source": [
    "# Credit Card Fraud Detection\n",
    "\n",
    "We obtain credit card data where each datapoint represents a specific transaction. Due to privacy concerns, a PCA is performed, and we are only given 28 dimensions, in addition to two quantitative variables. We wish to build a model that will predict whether a particular transaction was fraudulent or not.\n",
    "\n",
    "Almost everyone uses a credit card nowadays, and security is a very important issue to both the consumers and the credit card companies. Fraudulent transactions can really disrupt a consumer's finances and day-to-day life. A good predictor can automatically decide whether a transaction is fraudulent, without having to cause too much trouble on the consumer's part.\n",
    "\n",
    "As we will see, the data is highly unbalanced, so using accuracy might lead to a model that simply predicts that all transactions are not fraud. We probably want to focus more on recall that precision, since fraudulent transactions are very rare, and a false positive case is usually easy to resolve. Of course, we shouldn't bother consumers with too many false cases of credit card fraud. We will look both at the ROC curve and precision-recall curve, but the latter may be more useful due to the imbalanced nature of the dataset.\n",
    "\n",
    "### Dataset:\n",
    "This is a Kaggle project, so the data can be found here: https://www.kaggle.com/mlg-ulb/creditcardfraud. \n",
    "\n",
    "There are two quantitative variables, `time` and `Amount`, where `time` is the number of seconds since the first transaction in the dataset (`time = 0`). `Amount` is the dollar amount of the transaction. `Class` is a binary variable that indicates whether a particular transaction was fraud or not. The rest of the variables, `V1`-`V28`, are the resulting dimensions after a PCA was performed on the original data."
   ]
  },
  {
   "cell_type": "code",
   "execution_count": 4,
   "metadata": {},
   "outputs": [],
   "source": [
    "import numpy as np\n",
    "import pandas as pd\n",
    "import matplotlib.pyplot as plt\n",
    "import seaborn as sns"
   ]
  },
  {
   "cell_type": "code",
   "execution_count": 6,
   "metadata": {},
   "outputs": [
    {
     "data": {
      "text/html": [
       "<div>\n",
       "<style scoped>\n",
       "    .dataframe tbody tr th:only-of-type {\n",
       "        vertical-align: middle;\n",
       "    }\n",
       "\n",
       "    .dataframe tbody tr th {\n",
       "        vertical-align: top;\n",
       "    }\n",
       "\n",
       "    .dataframe thead th {\n",
       "        text-align: right;\n",
       "    }\n",
       "</style>\n",
       "<table border=\"1\" class=\"dataframe\">\n",
       "  <thead>\n",
       "    <tr style=\"text-align: right;\">\n",
       "      <th></th>\n",
       "      <th>Time</th>\n",
       "      <th>V1</th>\n",
       "      <th>V2</th>\n",
       "      <th>V3</th>\n",
       "      <th>V4</th>\n",
       "      <th>V5</th>\n",
       "      <th>V6</th>\n",
       "      <th>V7</th>\n",
       "      <th>V8</th>\n",
       "      <th>V9</th>\n",
       "      <th>...</th>\n",
       "      <th>V21</th>\n",
       "      <th>V22</th>\n",
       "      <th>V23</th>\n",
       "      <th>V24</th>\n",
       "      <th>V25</th>\n",
       "      <th>V26</th>\n",
       "      <th>V27</th>\n",
       "      <th>V28</th>\n",
       "      <th>Amount</th>\n",
       "      <th>Class</th>\n",
       "    </tr>\n",
       "  </thead>\n",
       "  <tbody>\n",
       "    <tr>\n",
       "      <td>0</td>\n",
       "      <td>0.0</td>\n",
       "      <td>-1.359807</td>\n",
       "      <td>-0.072781</td>\n",
       "      <td>2.536347</td>\n",
       "      <td>1.378155</td>\n",
       "      <td>-0.338321</td>\n",
       "      <td>0.462388</td>\n",
       "      <td>0.239599</td>\n",
       "      <td>0.098698</td>\n",
       "      <td>0.363787</td>\n",
       "      <td>...</td>\n",
       "      <td>-0.018307</td>\n",
       "      <td>0.277838</td>\n",
       "      <td>-0.110474</td>\n",
       "      <td>0.066928</td>\n",
       "      <td>0.128539</td>\n",
       "      <td>-0.189115</td>\n",
       "      <td>0.133558</td>\n",
       "      <td>-0.021053</td>\n",
       "      <td>149.62</td>\n",
       "      <td>0</td>\n",
       "    </tr>\n",
       "    <tr>\n",
       "      <td>1</td>\n",
       "      <td>0.0</td>\n",
       "      <td>1.191857</td>\n",
       "      <td>0.266151</td>\n",
       "      <td>0.166480</td>\n",
       "      <td>0.448154</td>\n",
       "      <td>0.060018</td>\n",
       "      <td>-0.082361</td>\n",
       "      <td>-0.078803</td>\n",
       "      <td>0.085102</td>\n",
       "      <td>-0.255425</td>\n",
       "      <td>...</td>\n",
       "      <td>-0.225775</td>\n",
       "      <td>-0.638672</td>\n",
       "      <td>0.101288</td>\n",
       "      <td>-0.339846</td>\n",
       "      <td>0.167170</td>\n",
       "      <td>0.125895</td>\n",
       "      <td>-0.008983</td>\n",
       "      <td>0.014724</td>\n",
       "      <td>2.69</td>\n",
       "      <td>0</td>\n",
       "    </tr>\n",
       "    <tr>\n",
       "      <td>2</td>\n",
       "      <td>1.0</td>\n",
       "      <td>-1.358354</td>\n",
       "      <td>-1.340163</td>\n",
       "      <td>1.773209</td>\n",
       "      <td>0.379780</td>\n",
       "      <td>-0.503198</td>\n",
       "      <td>1.800499</td>\n",
       "      <td>0.791461</td>\n",
       "      <td>0.247676</td>\n",
       "      <td>-1.514654</td>\n",
       "      <td>...</td>\n",
       "      <td>0.247998</td>\n",
       "      <td>0.771679</td>\n",
       "      <td>0.909412</td>\n",
       "      <td>-0.689281</td>\n",
       "      <td>-0.327642</td>\n",
       "      <td>-0.139097</td>\n",
       "      <td>-0.055353</td>\n",
       "      <td>-0.059752</td>\n",
       "      <td>378.66</td>\n",
       "      <td>0</td>\n",
       "    </tr>\n",
       "    <tr>\n",
       "      <td>3</td>\n",
       "      <td>1.0</td>\n",
       "      <td>-0.966272</td>\n",
       "      <td>-0.185226</td>\n",
       "      <td>1.792993</td>\n",
       "      <td>-0.863291</td>\n",
       "      <td>-0.010309</td>\n",
       "      <td>1.247203</td>\n",
       "      <td>0.237609</td>\n",
       "      <td>0.377436</td>\n",
       "      <td>-1.387024</td>\n",
       "      <td>...</td>\n",
       "      <td>-0.108300</td>\n",
       "      <td>0.005274</td>\n",
       "      <td>-0.190321</td>\n",
       "      <td>-1.175575</td>\n",
       "      <td>0.647376</td>\n",
       "      <td>-0.221929</td>\n",
       "      <td>0.062723</td>\n",
       "      <td>0.061458</td>\n",
       "      <td>123.50</td>\n",
       "      <td>0</td>\n",
       "    </tr>\n",
       "    <tr>\n",
       "      <td>4</td>\n",
       "      <td>2.0</td>\n",
       "      <td>-1.158233</td>\n",
       "      <td>0.877737</td>\n",
       "      <td>1.548718</td>\n",
       "      <td>0.403034</td>\n",
       "      <td>-0.407193</td>\n",
       "      <td>0.095921</td>\n",
       "      <td>0.592941</td>\n",
       "      <td>-0.270533</td>\n",
       "      <td>0.817739</td>\n",
       "      <td>...</td>\n",
       "      <td>-0.009431</td>\n",
       "      <td>0.798278</td>\n",
       "      <td>-0.137458</td>\n",
       "      <td>0.141267</td>\n",
       "      <td>-0.206010</td>\n",
       "      <td>0.502292</td>\n",
       "      <td>0.219422</td>\n",
       "      <td>0.215153</td>\n",
       "      <td>69.99</td>\n",
       "      <td>0</td>\n",
       "    </tr>\n",
       "  </tbody>\n",
       "</table>\n",
       "<p>5 rows × 31 columns</p>\n",
       "</div>"
      ],
      "text/plain": [
       "   Time        V1        V2        V3        V4        V5        V6        V7  \\\n",
       "0   0.0 -1.359807 -0.072781  2.536347  1.378155 -0.338321  0.462388  0.239599   \n",
       "1   0.0  1.191857  0.266151  0.166480  0.448154  0.060018 -0.082361 -0.078803   \n",
       "2   1.0 -1.358354 -1.340163  1.773209  0.379780 -0.503198  1.800499  0.791461   \n",
       "3   1.0 -0.966272 -0.185226  1.792993 -0.863291 -0.010309  1.247203  0.237609   \n",
       "4   2.0 -1.158233  0.877737  1.548718  0.403034 -0.407193  0.095921  0.592941   \n",
       "\n",
       "         V8        V9  ...       V21       V22       V23       V24       V25  \\\n",
       "0  0.098698  0.363787  ... -0.018307  0.277838 -0.110474  0.066928  0.128539   \n",
       "1  0.085102 -0.255425  ... -0.225775 -0.638672  0.101288 -0.339846  0.167170   \n",
       "2  0.247676 -1.514654  ...  0.247998  0.771679  0.909412 -0.689281 -0.327642   \n",
       "3  0.377436 -1.387024  ... -0.108300  0.005274 -0.190321 -1.175575  0.647376   \n",
       "4 -0.270533  0.817739  ... -0.009431  0.798278 -0.137458  0.141267 -0.206010   \n",
       "\n",
       "        V26       V27       V28  Amount  Class  \n",
       "0 -0.189115  0.133558 -0.021053  149.62      0  \n",
       "1  0.125895 -0.008983  0.014724    2.69      0  \n",
       "2 -0.139097 -0.055353 -0.059752  378.66      0  \n",
       "3 -0.221929  0.062723  0.061458  123.50      0  \n",
       "4  0.502292  0.219422  0.215153   69.99      0  \n",
       "\n",
       "[5 rows x 31 columns]"
      ]
     },
     "metadata": {},
     "output_type": "display_data"
    }
   ],
   "source": [
    "data = pd.read_csv(\"creditcard.csv\")\n",
    "display(data.head())"
   ]
  },
  {
   "cell_type": "markdown",
   "metadata": {},
   "source": [
    "## Exploratory Analysis"
   ]
  },
  {
   "cell_type": "code",
   "execution_count": 7,
   "metadata": {},
   "outputs": [
    {
     "data": {
      "text/html": [
       "<div>\n",
       "<style scoped>\n",
       "    .dataframe tbody tr th:only-of-type {\n",
       "        vertical-align: middle;\n",
       "    }\n",
       "\n",
       "    .dataframe tbody tr th {\n",
       "        vertical-align: top;\n",
       "    }\n",
       "\n",
       "    .dataframe thead th {\n",
       "        text-align: right;\n",
       "    }\n",
       "</style>\n",
       "<table border=\"1\" class=\"dataframe\">\n",
       "  <thead>\n",
       "    <tr style=\"text-align: right;\">\n",
       "      <th></th>\n",
       "      <th>Time</th>\n",
       "      <th>V1</th>\n",
       "      <th>V2</th>\n",
       "      <th>V3</th>\n",
       "      <th>V4</th>\n",
       "      <th>V5</th>\n",
       "      <th>V6</th>\n",
       "      <th>V7</th>\n",
       "      <th>V8</th>\n",
       "      <th>V9</th>\n",
       "      <th>...</th>\n",
       "      <th>V21</th>\n",
       "      <th>V22</th>\n",
       "      <th>V23</th>\n",
       "      <th>V24</th>\n",
       "      <th>V25</th>\n",
       "      <th>V26</th>\n",
       "      <th>V27</th>\n",
       "      <th>V28</th>\n",
       "      <th>Amount</th>\n",
       "      <th>Class</th>\n",
       "    </tr>\n",
       "  </thead>\n",
       "  <tbody>\n",
       "    <tr>\n",
       "      <td>count</td>\n",
       "      <td>284807.000000</td>\n",
       "      <td>2.848070e+05</td>\n",
       "      <td>2.848070e+05</td>\n",
       "      <td>2.848070e+05</td>\n",
       "      <td>2.848070e+05</td>\n",
       "      <td>2.848070e+05</td>\n",
       "      <td>2.848070e+05</td>\n",
       "      <td>2.848070e+05</td>\n",
       "      <td>2.848070e+05</td>\n",
       "      <td>2.848070e+05</td>\n",
       "      <td>...</td>\n",
       "      <td>2.848070e+05</td>\n",
       "      <td>2.848070e+05</td>\n",
       "      <td>2.848070e+05</td>\n",
       "      <td>2.848070e+05</td>\n",
       "      <td>2.848070e+05</td>\n",
       "      <td>2.848070e+05</td>\n",
       "      <td>2.848070e+05</td>\n",
       "      <td>2.848070e+05</td>\n",
       "      <td>284807.000000</td>\n",
       "      <td>284807.000000</td>\n",
       "    </tr>\n",
       "    <tr>\n",
       "      <td>mean</td>\n",
       "      <td>94813.859575</td>\n",
       "      <td>3.919560e-15</td>\n",
       "      <td>5.688174e-16</td>\n",
       "      <td>-8.769071e-15</td>\n",
       "      <td>2.782312e-15</td>\n",
       "      <td>-1.552563e-15</td>\n",
       "      <td>2.010663e-15</td>\n",
       "      <td>-1.694249e-15</td>\n",
       "      <td>-1.927028e-16</td>\n",
       "      <td>-3.137024e-15</td>\n",
       "      <td>...</td>\n",
       "      <td>1.537294e-16</td>\n",
       "      <td>7.959909e-16</td>\n",
       "      <td>5.367590e-16</td>\n",
       "      <td>4.458112e-15</td>\n",
       "      <td>1.453003e-15</td>\n",
       "      <td>1.699104e-15</td>\n",
       "      <td>-3.660161e-16</td>\n",
       "      <td>-1.206049e-16</td>\n",
       "      <td>88.349619</td>\n",
       "      <td>0.001727</td>\n",
       "    </tr>\n",
       "    <tr>\n",
       "      <td>std</td>\n",
       "      <td>47488.145955</td>\n",
       "      <td>1.958696e+00</td>\n",
       "      <td>1.651309e+00</td>\n",
       "      <td>1.516255e+00</td>\n",
       "      <td>1.415869e+00</td>\n",
       "      <td>1.380247e+00</td>\n",
       "      <td>1.332271e+00</td>\n",
       "      <td>1.237094e+00</td>\n",
       "      <td>1.194353e+00</td>\n",
       "      <td>1.098632e+00</td>\n",
       "      <td>...</td>\n",
       "      <td>7.345240e-01</td>\n",
       "      <td>7.257016e-01</td>\n",
       "      <td>6.244603e-01</td>\n",
       "      <td>6.056471e-01</td>\n",
       "      <td>5.212781e-01</td>\n",
       "      <td>4.822270e-01</td>\n",
       "      <td>4.036325e-01</td>\n",
       "      <td>3.300833e-01</td>\n",
       "      <td>250.120109</td>\n",
       "      <td>0.041527</td>\n",
       "    </tr>\n",
       "    <tr>\n",
       "      <td>min</td>\n",
       "      <td>0.000000</td>\n",
       "      <td>-5.640751e+01</td>\n",
       "      <td>-7.271573e+01</td>\n",
       "      <td>-4.832559e+01</td>\n",
       "      <td>-5.683171e+00</td>\n",
       "      <td>-1.137433e+02</td>\n",
       "      <td>-2.616051e+01</td>\n",
       "      <td>-4.355724e+01</td>\n",
       "      <td>-7.321672e+01</td>\n",
       "      <td>-1.343407e+01</td>\n",
       "      <td>...</td>\n",
       "      <td>-3.483038e+01</td>\n",
       "      <td>-1.093314e+01</td>\n",
       "      <td>-4.480774e+01</td>\n",
       "      <td>-2.836627e+00</td>\n",
       "      <td>-1.029540e+01</td>\n",
       "      <td>-2.604551e+00</td>\n",
       "      <td>-2.256568e+01</td>\n",
       "      <td>-1.543008e+01</td>\n",
       "      <td>0.000000</td>\n",
       "      <td>0.000000</td>\n",
       "    </tr>\n",
       "    <tr>\n",
       "      <td>25%</td>\n",
       "      <td>54201.500000</td>\n",
       "      <td>-9.203734e-01</td>\n",
       "      <td>-5.985499e-01</td>\n",
       "      <td>-8.903648e-01</td>\n",
       "      <td>-8.486401e-01</td>\n",
       "      <td>-6.915971e-01</td>\n",
       "      <td>-7.682956e-01</td>\n",
       "      <td>-5.540759e-01</td>\n",
       "      <td>-2.086297e-01</td>\n",
       "      <td>-6.430976e-01</td>\n",
       "      <td>...</td>\n",
       "      <td>-2.283949e-01</td>\n",
       "      <td>-5.423504e-01</td>\n",
       "      <td>-1.618463e-01</td>\n",
       "      <td>-3.545861e-01</td>\n",
       "      <td>-3.171451e-01</td>\n",
       "      <td>-3.269839e-01</td>\n",
       "      <td>-7.083953e-02</td>\n",
       "      <td>-5.295979e-02</td>\n",
       "      <td>5.600000</td>\n",
       "      <td>0.000000</td>\n",
       "    </tr>\n",
       "    <tr>\n",
       "      <td>50%</td>\n",
       "      <td>84692.000000</td>\n",
       "      <td>1.810880e-02</td>\n",
       "      <td>6.548556e-02</td>\n",
       "      <td>1.798463e-01</td>\n",
       "      <td>-1.984653e-02</td>\n",
       "      <td>-5.433583e-02</td>\n",
       "      <td>-2.741871e-01</td>\n",
       "      <td>4.010308e-02</td>\n",
       "      <td>2.235804e-02</td>\n",
       "      <td>-5.142873e-02</td>\n",
       "      <td>...</td>\n",
       "      <td>-2.945017e-02</td>\n",
       "      <td>6.781943e-03</td>\n",
       "      <td>-1.119293e-02</td>\n",
       "      <td>4.097606e-02</td>\n",
       "      <td>1.659350e-02</td>\n",
       "      <td>-5.213911e-02</td>\n",
       "      <td>1.342146e-03</td>\n",
       "      <td>1.124383e-02</td>\n",
       "      <td>22.000000</td>\n",
       "      <td>0.000000</td>\n",
       "    </tr>\n",
       "    <tr>\n",
       "      <td>75%</td>\n",
       "      <td>139320.500000</td>\n",
       "      <td>1.315642e+00</td>\n",
       "      <td>8.037239e-01</td>\n",
       "      <td>1.027196e+00</td>\n",
       "      <td>7.433413e-01</td>\n",
       "      <td>6.119264e-01</td>\n",
       "      <td>3.985649e-01</td>\n",
       "      <td>5.704361e-01</td>\n",
       "      <td>3.273459e-01</td>\n",
       "      <td>5.971390e-01</td>\n",
       "      <td>...</td>\n",
       "      <td>1.863772e-01</td>\n",
       "      <td>5.285536e-01</td>\n",
       "      <td>1.476421e-01</td>\n",
       "      <td>4.395266e-01</td>\n",
       "      <td>3.507156e-01</td>\n",
       "      <td>2.409522e-01</td>\n",
       "      <td>9.104512e-02</td>\n",
       "      <td>7.827995e-02</td>\n",
       "      <td>77.165000</td>\n",
       "      <td>0.000000</td>\n",
       "    </tr>\n",
       "    <tr>\n",
       "      <td>max</td>\n",
       "      <td>172792.000000</td>\n",
       "      <td>2.454930e+00</td>\n",
       "      <td>2.205773e+01</td>\n",
       "      <td>9.382558e+00</td>\n",
       "      <td>1.687534e+01</td>\n",
       "      <td>3.480167e+01</td>\n",
       "      <td>7.330163e+01</td>\n",
       "      <td>1.205895e+02</td>\n",
       "      <td>2.000721e+01</td>\n",
       "      <td>1.559499e+01</td>\n",
       "      <td>...</td>\n",
       "      <td>2.720284e+01</td>\n",
       "      <td>1.050309e+01</td>\n",
       "      <td>2.252841e+01</td>\n",
       "      <td>4.584549e+00</td>\n",
       "      <td>7.519589e+00</td>\n",
       "      <td>3.517346e+00</td>\n",
       "      <td>3.161220e+01</td>\n",
       "      <td>3.384781e+01</td>\n",
       "      <td>25691.160000</td>\n",
       "      <td>1.000000</td>\n",
       "    </tr>\n",
       "  </tbody>\n",
       "</table>\n",
       "<p>8 rows × 31 columns</p>\n",
       "</div>"
      ],
      "text/plain": [
       "                Time            V1            V2            V3            V4  \\\n",
       "count  284807.000000  2.848070e+05  2.848070e+05  2.848070e+05  2.848070e+05   \n",
       "mean    94813.859575  3.919560e-15  5.688174e-16 -8.769071e-15  2.782312e-15   \n",
       "std     47488.145955  1.958696e+00  1.651309e+00  1.516255e+00  1.415869e+00   \n",
       "min         0.000000 -5.640751e+01 -7.271573e+01 -4.832559e+01 -5.683171e+00   \n",
       "25%     54201.500000 -9.203734e-01 -5.985499e-01 -8.903648e-01 -8.486401e-01   \n",
       "50%     84692.000000  1.810880e-02  6.548556e-02  1.798463e-01 -1.984653e-02   \n",
       "75%    139320.500000  1.315642e+00  8.037239e-01  1.027196e+00  7.433413e-01   \n",
       "max    172792.000000  2.454930e+00  2.205773e+01  9.382558e+00  1.687534e+01   \n",
       "\n",
       "                 V5            V6            V7            V8            V9  \\\n",
       "count  2.848070e+05  2.848070e+05  2.848070e+05  2.848070e+05  2.848070e+05   \n",
       "mean  -1.552563e-15  2.010663e-15 -1.694249e-15 -1.927028e-16 -3.137024e-15   \n",
       "std    1.380247e+00  1.332271e+00  1.237094e+00  1.194353e+00  1.098632e+00   \n",
       "min   -1.137433e+02 -2.616051e+01 -4.355724e+01 -7.321672e+01 -1.343407e+01   \n",
       "25%   -6.915971e-01 -7.682956e-01 -5.540759e-01 -2.086297e-01 -6.430976e-01   \n",
       "50%   -5.433583e-02 -2.741871e-01  4.010308e-02  2.235804e-02 -5.142873e-02   \n",
       "75%    6.119264e-01  3.985649e-01  5.704361e-01  3.273459e-01  5.971390e-01   \n",
       "max    3.480167e+01  7.330163e+01  1.205895e+02  2.000721e+01  1.559499e+01   \n",
       "\n",
       "       ...           V21           V22           V23           V24  \\\n",
       "count  ...  2.848070e+05  2.848070e+05  2.848070e+05  2.848070e+05   \n",
       "mean   ...  1.537294e-16  7.959909e-16  5.367590e-16  4.458112e-15   \n",
       "std    ...  7.345240e-01  7.257016e-01  6.244603e-01  6.056471e-01   \n",
       "min    ... -3.483038e+01 -1.093314e+01 -4.480774e+01 -2.836627e+00   \n",
       "25%    ... -2.283949e-01 -5.423504e-01 -1.618463e-01 -3.545861e-01   \n",
       "50%    ... -2.945017e-02  6.781943e-03 -1.119293e-02  4.097606e-02   \n",
       "75%    ...  1.863772e-01  5.285536e-01  1.476421e-01  4.395266e-01   \n",
       "max    ...  2.720284e+01  1.050309e+01  2.252841e+01  4.584549e+00   \n",
       "\n",
       "                V25           V26           V27           V28         Amount  \\\n",
       "count  2.848070e+05  2.848070e+05  2.848070e+05  2.848070e+05  284807.000000   \n",
       "mean   1.453003e-15  1.699104e-15 -3.660161e-16 -1.206049e-16      88.349619   \n",
       "std    5.212781e-01  4.822270e-01  4.036325e-01  3.300833e-01     250.120109   \n",
       "min   -1.029540e+01 -2.604551e+00 -2.256568e+01 -1.543008e+01       0.000000   \n",
       "25%   -3.171451e-01 -3.269839e-01 -7.083953e-02 -5.295979e-02       5.600000   \n",
       "50%    1.659350e-02 -5.213911e-02  1.342146e-03  1.124383e-02      22.000000   \n",
       "75%    3.507156e-01  2.409522e-01  9.104512e-02  7.827995e-02      77.165000   \n",
       "max    7.519589e+00  3.517346e+00  3.161220e+01  3.384781e+01   25691.160000   \n",
       "\n",
       "               Class  \n",
       "count  284807.000000  \n",
       "mean        0.001727  \n",
       "std         0.041527  \n",
       "min         0.000000  \n",
       "25%         0.000000  \n",
       "50%         0.000000  \n",
       "75%         0.000000  \n",
       "max         1.000000  \n",
       "\n",
       "[8 rows x 31 columns]"
      ]
     },
     "execution_count": 7,
     "metadata": {},
     "output_type": "execute_result"
    }
   ],
   "source": [
    "desc = data.describe()\n",
    "desc"
   ]
  },
  {
   "cell_type": "markdown",
   "metadata": {},
   "source": [
    "We see that there are 284,807 rows in the dataset. The last transaction in this dataset took place 172,792 seconds, about 48 days, after the first transaction in this dataset. The other explanatory quantitative variable is `Amount`, whose mean is 88 dollars and median is 22 dollars. Furthermore, all the other variables which correspond to principal components seem to be standardized: mean is close to zero, and standard deviation is close to 1. Let's quickly check for any missing variables."
   ]
  },
  {
   "cell_type": "code",
   "execution_count": 8,
   "metadata": {},
   "outputs": [],
   "source": [
    "# Check for missing data\n",
    "for var in data.columns:\n",
    "    if len(data[data[var].isnull()]) > 0:\n",
    "        print(var)"
   ]
  },
  {
   "cell_type": "markdown",
   "metadata": {},
   "source": [
    "Since nothing printed, this means that there are no missing data!"
   ]
  },
  {
   "cell_type": "markdown",
   "metadata": {},
   "source": [
    "We know that this dataset is unbalanced. Let us see exactly the distribution of the data between fraud/not fraud. We see that only about 0.17% of the credit card transactions in this dataset are fraud! This mirrors reality: security is a very important issue and is continuously being improved; barely anyone ever makes a fraudulent transaction. "
   ]
  },
  {
   "cell_type": "code",
   "execution_count": 10,
   "metadata": {},
   "outputs": [
    {
     "name": "stdout",
     "output_type": "stream",
     "text": [
      "Number of Frauds in Dataset: 492\n",
      "Fraction of fraudulent transactions: 0.001727485630620034\n",
      "Fraction of non-fraudulent transactions: 0.9982725143693799\n"
     ]
    }
   ],
   "source": [
    "n_fraud = len(data[data['Class'] == 1])\n",
    "print('Number of Frauds in Dataset:', n_fraud)\n",
    "print('Fraction of fraudulent transactions:', len(data[data['Class'] == 1]) / len(data))\n",
    "print('Fraction of non-fraudulent transactions:', len(data[data['Class'] == 0]) / len(data))"
   ]
  },
  {
   "cell_type": "markdown",
   "metadata": {},
   "source": [
    "For completeness, let's look at the distribution of the time variable. Since our dataset looks at transactions over a 48-day period, there is perhaps a periodic trend in the number of transactions over time, with a period of about 100,000 seconds, or about 27 days. However, we don't know much more about the data, i.e., perhaps this is a subset of credit card transactions so this periodic trend is only present in this case."
   ]
  },
  {
   "cell_type": "code",
   "execution_count": 11,
   "metadata": {},
   "outputs": [
    {
     "data": {
      "image/png": "[encoded data removed]",
      "text/plain": [
       "<Figure size 648x432 with 1 Axes>"
      ]
     },
     "metadata": {
      "needs_background": "light"
     },
     "output_type": "display_data"
    }
   ],
   "source": [
    "plt.figure(figsize=(9, 6))\n",
    "plt.xlabel('Time', fontsize=16)\n",
    "plt.title('Distribution of Time', fontsize=20)\n",
    "sns.distplot(data['Time']);"
   ]
  },
  {
   "cell_type": "markdown",
   "metadata": {},
   "source": [
    "Let's now take a look at the distribution of `Time` based on whether the transaction was fraud or not. To do this, we will make a violin plot. We see that the distributions are very similar: later we will judge from a correlation plot to determine if we shall keep this variable to use in our model."
   ]
  },
  {
   "cell_type": "code",
   "execution_count": 12,
   "metadata": {},
   "outputs": [
    {
     "data": {
      "image/png": "[encoded data removed]",
      "text/plain": [
       "<Figure size 648x432 with 1 Axes>"
      ]
     },
     "metadata": {
      "needs_background": "light"
     },
     "output_type": "display_data"
    }
   ],
   "source": [
    "plt.figure(figsize=(9, 6))\n",
    "plt.title('Distribution of Time on Class', fontsize=16)\n",
    "sns.violinplot(x='Class', y='Time', data=data)\n",
    "plt.xlabel('Not Fraud = 0, Fraud = 1');"
   ]
  },
  {
   "cell_type": "markdown",
   "metadata": {},
   "source": [
    "Below is a boxplot of the `Amount` values. We see that it is highly skewed to the right, with the vast majority of transaction amounts close to zero. In fact, about 99% of the transactions in this dataset were less than 1000 dollars in amount."
   ]
  },
  {
   "cell_type": "code",
   "execution_count": 13,
   "metadata": {},
   "outputs": [
    {
     "data": {
      "image/png": "[encoded data removed]",
      "text/plain": [
       "<Figure size 648x432 with 1 Axes>"
      ]
     },
     "metadata": {
      "needs_background": "light"
     },
     "output_type": "display_data"
    }
   ],
   "source": [
    "plt.figure(figsize=(9, 6))\n",
    "plt.title('Amount Boxplot', fontsize=18)\n",
    "sns.boxplot(data['Amount']);"
   ]
  },
  {
   "cell_type": "code",
   "execution_count": 14,
   "metadata": {},
   "outputs": [
    {
     "name": "stdout",
     "output_type": "stream",
     "text": [
      "Number of transactions bigger than 1000: 2940\n",
      "Fraction of transactions bigger than 1000: 0.010322779987851423\n"
     ]
    }
   ],
   "source": [
    "# How many transactions were bigger than 1000 dollars?\n",
    "print(\"Number of transactions bigger than 1000:\", np.sum(data['Amount'] > 1000))\n",
    "print(\"Fraction of transactions bigger than 1000:\", np.sum(data['Amount'] > 1000) / len(data))"
   ]
  },
  {
   "cell_type": "code",
   "execution_count": 15,
   "metadata": {},
   "outputs": [
    {
     "data": {
      "text/plain": [
       "176049    2125.87\n",
       "6971      1809.68\n",
       "249167    1504.93\n",
       "89190     1402.16\n",
       "81609     1389.56\n",
       "95597     1354.25\n",
       "199896    1335.00\n",
       "10690     1218.89\n",
       "249239    1096.99\n",
       "233258     996.27\n",
       "Name: Amount, dtype: float64"
      ]
     },
     "execution_count": 15,
     "metadata": {},
     "output_type": "execute_result"
    }
   ],
   "source": [
    "# Select the top 10 fraudulent examples by amount\n",
    "data[data['Class'] == 1].sort_values(by='Amount', ascending=False)['Amount'][:10]"
   ]
  },
  {
   "cell_type": "markdown",
   "metadata": {},
   "source": [
    "Notice that the largest fraudulent transaction by amount was \\\\$2125, which is much less than the other outliers in this dataset. We have a very small amount of fraudulent transactions in this dataset, so should not remove any amount less than \\\\$2500. Indeed, let us drop all transactions more than \\\\$9,000 in amount.  "
   ]
  },
  {
   "cell_type": "code",
   "execution_count": 16,
   "metadata": {},
   "outputs": [
    {
     "data": {
      "text/plain": [
       "284799"
      ]
     },
     "execution_count": 16,
     "metadata": {},
     "output_type": "execute_result"
    }
   ],
   "source": [
    "data = data[data['Amount'] <= 9000]\n",
    "len(data)"
   ]
  },
  {
   "cell_type": "markdown",
   "metadata": {},
   "source": [
    "## Baseline Logistic Regression\n",
    "\n",
    "A popular and effective technique in order to deal with such an imbalanced dataset is to perform undersampling: typical machine learning algorithms will not perform well on a dataset where 99.8% percent of the data are in the negative class. In fact, in this case, a useful baseline is to perform logistic regression on all the given variables in the original dataset."
   ]
  },
  {
   "cell_type": "code",
   "execution_count": 17,
   "metadata": {},
   "outputs": [
    {
     "name": "stdout",
     "output_type": "stream",
     "text": [
      "Train-shape: (170879, 31) Validation-shape: (56960, 31)\n"
     ]
    }
   ],
   "source": [
    "# First, let's divide our data into training, validation, and test sets\n",
    "from sklearn.model_selection import train_test_split\n",
    "\n",
    "train, val_test = train_test_split(data, train_size=0.6, test_size=0.4, random_state=0)\n",
    "validation, test = train_test_split(val_test, train_size=0.5, test_size=0.5, random_state=0)\n",
    "print('Train-shape:', train.shape, 'Validation-shape:', validation.shape)"
   ]
  },
  {
   "cell_type": "code",
   "execution_count": 18,
   "metadata": {},
   "outputs": [],
   "source": [
    "# We have to normalize the time and amount variables\n",
    "from sklearn.preprocessing import StandardScaler\n",
    "\n",
    "scaler = StandardScaler()\n",
    "time_amt = ['Time', 'Amount']\n",
    "pcs = ['V'+str(i) for i in range(1,29)]\n",
    "scaler.fit(train[time_amt])\n",
    "\n",
    "def unbalanced_design_matrix(df):\n",
    "    scaled = df[time_amt].copy()\n",
    "    scaled.iloc[:,:] = scaler.transform(scaled) # Convert numerical variables to standard units\n",
    "    return pd.concat([scaled, df[pcs]], axis=1)"
   ]
  },
  {
   "cell_type": "code",
   "execution_count": 19,
   "metadata": {},
   "outputs": [
    {
     "data": {
      "text/html": [
       "<div>\n",
       "<style scoped>\n",
       "    .dataframe tbody tr th:only-of-type {\n",
       "        vertical-align: middle;\n",
       "    }\n",
       "\n",
       "    .dataframe tbody tr th {\n",
       "        vertical-align: top;\n",
       "    }\n",
       "\n",
       "    .dataframe thead th {\n",
       "        text-align: right;\n",
       "    }\n",
       "</style>\n",
       "<table border=\"1\" class=\"dataframe\">\n",
       "  <thead>\n",
       "    <tr style=\"text-align: right;\">\n",
       "      <th></th>\n",
       "      <th>Time</th>\n",
       "      <th>Amount</th>\n",
       "      <th>V1</th>\n",
       "      <th>V2</th>\n",
       "      <th>V3</th>\n",
       "      <th>V4</th>\n",
       "      <th>V5</th>\n",
       "      <th>V6</th>\n",
       "      <th>V7</th>\n",
       "      <th>V8</th>\n",
       "      <th>...</th>\n",
       "      <th>V19</th>\n",
       "      <th>V20</th>\n",
       "      <th>V21</th>\n",
       "      <th>V22</th>\n",
       "      <th>V23</th>\n",
       "      <th>V24</th>\n",
       "      <th>V25</th>\n",
       "      <th>V26</th>\n",
       "      <th>V27</th>\n",
       "      <th>V28</th>\n",
       "    </tr>\n",
       "  </thead>\n",
       "  <tbody>\n",
       "    <tr>\n",
       "      <td>108740</td>\n",
       "      <td>-0.500851</td>\n",
       "      <td>-0.360569</td>\n",
       "      <td>-0.431989</td>\n",
       "      <td>1.150225</td>\n",
       "      <td>1.726934</td>\n",
       "      <td>0.031913</td>\n",
       "      <td>-0.128153</td>\n",
       "      <td>-1.050595</td>\n",
       "      <td>0.803387</td>\n",
       "      <td>-0.158782</td>\n",
       "      <td>...</td>\n",
       "      <td>-0.117954</td>\n",
       "      <td>0.165908</td>\n",
       "      <td>-0.192283</td>\n",
       "      <td>-0.432479</td>\n",
       "      <td>0.004092</td>\n",
       "      <td>0.726350</td>\n",
       "      <td>-0.195630</td>\n",
       "      <td>0.046781</td>\n",
       "      <td>0.273810</td>\n",
       "      <td>0.126906</td>\n",
       "    </tr>\n",
       "    <tr>\n",
       "      <td>96477</td>\n",
       "      <td>-0.611668</td>\n",
       "      <td>-0.371637</td>\n",
       "      <td>-3.041658</td>\n",
       "      <td>4.530215</td>\n",
       "      <td>-4.831100</td>\n",
       "      <td>1.429618</td>\n",
       "      <td>-1.126920</td>\n",
       "      <td>-1.888479</td>\n",
       "      <td>-1.402149</td>\n",
       "      <td>2.536622</td>\n",
       "      <td>...</td>\n",
       "      <td>-1.037074</td>\n",
       "      <td>0.406079</td>\n",
       "      <td>-0.109072</td>\n",
       "      <td>-0.324957</td>\n",
       "      <td>0.564989</td>\n",
       "      <td>-0.323859</td>\n",
       "      <td>0.014442</td>\n",
       "      <td>-0.317870</td>\n",
       "      <td>0.359012</td>\n",
       "      <td>0.123533</td>\n",
       "    </tr>\n",
       "    <tr>\n",
       "      <td>65012</td>\n",
       "      <td>-0.914758</td>\n",
       "      <td>-0.367304</td>\n",
       "      <td>1.293858</td>\n",
       "      <td>0.095085</td>\n",
       "      <td>-1.176230</td>\n",
       "      <td>0.062001</td>\n",
       "      <td>2.198086</td>\n",
       "      <td>3.382319</td>\n",
       "      <td>-0.452285</td>\n",
       "      <td>0.800100</td>\n",
       "      <td>...</td>\n",
       "      <td>-0.101721</td>\n",
       "      <td>-0.021680</td>\n",
       "      <td>0.015728</td>\n",
       "      <td>-0.049825</td>\n",
       "      <td>-0.142924</td>\n",
       "      <td>1.007464</td>\n",
       "      <td>0.834357</td>\n",
       "      <td>-0.265176</td>\n",
       "      <td>0.021087</td>\n",
       "      <td>0.014889</td>\n",
       "    </tr>\n",
       "    <tr>\n",
       "      <td>39803</td>\n",
       "      <td>-1.155415</td>\n",
       "      <td>0.344821</td>\n",
       "      <td>-10.270488</td>\n",
       "      <td>-10.525218</td>\n",
       "      <td>0.677339</td>\n",
       "      <td>0.944721</td>\n",
       "      <td>3.789107</td>\n",
       "      <td>-3.178982</td>\n",
       "      <td>-1.296424</td>\n",
       "      <td>-0.544558</td>\n",
       "      <td>...</td>\n",
       "      <td>0.905219</td>\n",
       "      <td>-5.622812</td>\n",
       "      <td>-1.737482</td>\n",
       "      <td>1.991186</td>\n",
       "      <td>5.442806</td>\n",
       "      <td>0.369127</td>\n",
       "      <td>2.203534</td>\n",
       "      <td>0.255019</td>\n",
       "      <td>2.018340</td>\n",
       "      <td>0.105865</td>\n",
       "    </tr>\n",
       "    <tr>\n",
       "      <td>201585</td>\n",
       "      <td>0.824097</td>\n",
       "      <td>-0.371594</td>\n",
       "      <td>-0.093274</td>\n",
       "      <td>0.593930</td>\n",
       "      <td>-0.423499</td>\n",
       "      <td>1.429939</td>\n",
       "      <td>0.343469</td>\n",
       "      <td>-0.560313</td>\n",
       "      <td>0.149329</td>\n",
       "      <td>0.307291</td>\n",
       "      <td>...</td>\n",
       "      <td>0.663276</td>\n",
       "      <td>-0.226089</td>\n",
       "      <td>0.579828</td>\n",
       "      <td>1.932190</td>\n",
       "      <td>-0.066921</td>\n",
       "      <td>-0.010787</td>\n",
       "      <td>-1.197248</td>\n",
       "      <td>-0.331871</td>\n",
       "      <td>0.294764</td>\n",
       "      <td>0.220682</td>\n",
       "    </tr>\n",
       "    <tr>\n",
       "      <td>...</td>\n",
       "      <td>...</td>\n",
       "      <td>...</td>\n",
       "      <td>...</td>\n",
       "      <td>...</td>\n",
       "      <td>...</td>\n",
       "      <td>...</td>\n",
       "      <td>...</td>\n",
       "      <td>...</td>\n",
       "      <td>...</td>\n",
       "      <td>...</td>\n",
       "      <td>...</td>\n",
       "      <td>...</td>\n",
       "      <td>...</td>\n",
       "      <td>...</td>\n",
       "      <td>...</td>\n",
       "      <td>...</td>\n",
       "      <td>...</td>\n",
       "      <td>...</td>\n",
       "      <td>...</td>\n",
       "      <td>...</td>\n",
       "      <td>...</td>\n",
       "    </tr>\n",
       "    <tr>\n",
       "      <td>275703</td>\n",
       "      <td>1.513628</td>\n",
       "      <td>-0.369620</td>\n",
       "      <td>-0.661752</td>\n",
       "      <td>1.230091</td>\n",
       "      <td>-0.555843</td>\n",
       "      <td>-1.621747</td>\n",
       "      <td>1.393377</td>\n",
       "      <td>-1.178232</td>\n",
       "      <td>1.687391</td>\n",
       "      <td>-0.344203</td>\n",
       "      <td>...</td>\n",
       "      <td>-0.409534</td>\n",
       "      <td>-0.172064</td>\n",
       "      <td>0.153579</td>\n",
       "      <td>0.361403</td>\n",
       "      <td>-0.488245</td>\n",
       "      <td>0.477766</td>\n",
       "      <td>0.635021</td>\n",
       "      <td>0.129741</td>\n",
       "      <td>-0.030232</td>\n",
       "      <td>0.161386</td>\n",
       "    </tr>\n",
       "    <tr>\n",
       "      <td>257809</td>\n",
       "      <td>1.338165</td>\n",
       "      <td>-0.373781</td>\n",
       "      <td>-5.210639</td>\n",
       "      <td>3.930743</td>\n",
       "      <td>-3.801079</td>\n",
       "      <td>1.040547</td>\n",
       "      <td>-1.694489</td>\n",
       "      <td>-1.566911</td>\n",
       "      <td>-1.690764</td>\n",
       "      <td>3.129128</td>\n",
       "      <td>...</td>\n",
       "      <td>0.672971</td>\n",
       "      <td>-0.715336</td>\n",
       "      <td>0.014574</td>\n",
       "      <td>0.432303</td>\n",
       "      <td>0.725045</td>\n",
       "      <td>-0.116252</td>\n",
       "      <td>0.688640</td>\n",
       "      <td>-0.287800</td>\n",
       "      <td>0.228164</td>\n",
       "      <td>-0.030510</td>\n",
       "    </tr>\n",
       "    <tr>\n",
       "      <td>216889</td>\n",
       "      <td>0.965816</td>\n",
       "      <td>0.042940</td>\n",
       "      <td>1.881132</td>\n",
       "      <td>-0.092927</td>\n",
       "      <td>-1.839517</td>\n",
       "      <td>0.545691</td>\n",
       "      <td>0.325353</td>\n",
       "      <td>-0.934168</td>\n",
       "      <td>0.336862</td>\n",
       "      <td>-0.278309</td>\n",
       "      <td>...</td>\n",
       "      <td>-0.047438</td>\n",
       "      <td>0.051934</td>\n",
       "      <td>-0.308870</td>\n",
       "      <td>-0.992942</td>\n",
       "      <td>0.262978</td>\n",
       "      <td>0.630776</td>\n",
       "      <td>-0.301593</td>\n",
       "      <td>0.154605</td>\n",
       "      <td>-0.077237</td>\n",
       "      <td>-0.007984</td>\n",
       "    </tr>\n",
       "    <tr>\n",
       "      <td>107728</td>\n",
       "      <td>-0.510603</td>\n",
       "      <td>-0.290128</td>\n",
       "      <td>1.159818</td>\n",
       "      <td>0.056773</td>\n",
       "      <td>0.896468</td>\n",
       "      <td>0.969984</td>\n",
       "      <td>-0.876632</td>\n",
       "      <td>-0.936265</td>\n",
       "      <td>-0.055483</td>\n",
       "      <td>-0.157938</td>\n",
       "      <td>...</td>\n",
       "      <td>0.013338</td>\n",
       "      <td>-0.080504</td>\n",
       "      <td>-0.250770</td>\n",
       "      <td>-0.566745</td>\n",
       "      <td>0.126194</td>\n",
       "      <td>0.959658</td>\n",
       "      <td>0.275825</td>\n",
       "      <td>0.144492</td>\n",
       "      <td>-0.014337</td>\n",
       "      <td>0.025829</td>\n",
       "    </tr>\n",
       "    <tr>\n",
       "      <td>68041</td>\n",
       "      <td>-0.885142</td>\n",
       "      <td>-0.256581</td>\n",
       "      <td>-0.336088</td>\n",
       "      <td>1.064353</td>\n",
       "      <td>2.150498</td>\n",
       "      <td>4.428434</td>\n",
       "      <td>0.463562</td>\n",
       "      <td>1.125410</td>\n",
       "      <td>0.579549</td>\n",
       "      <td>-0.118975</td>\n",
       "      <td>...</td>\n",
       "      <td>1.692245</td>\n",
       "      <td>0.398723</td>\n",
       "      <td>-0.069688</td>\n",
       "      <td>0.424335</td>\n",
       "      <td>-0.095214</td>\n",
       "      <td>0.014986</td>\n",
       "      <td>-0.458112</td>\n",
       "      <td>0.291475</td>\n",
       "      <td>-0.002170</td>\n",
       "      <td>-0.228903</td>\n",
       "    </tr>\n",
       "  </tbody>\n",
       "</table>\n",
       "<p>100 rows × 30 columns</p>\n",
       "</div>"
      ],
      "text/plain": [
       "            Time    Amount         V1         V2        V3        V4  \\\n",
       "108740 -0.500851 -0.360569  -0.431989   1.150225  1.726934  0.031913   \n",
       "96477  -0.611668 -0.371637  -3.041658   4.530215 -4.831100  1.429618   \n",
       "65012  -0.914758 -0.367304   1.293858   0.095085 -1.176230  0.062001   \n",
       "39803  -1.155415  0.344821 -10.270488 -10.525218  0.677339  0.944721   \n",
       "201585  0.824097 -0.371594  -0.093274   0.593930 -0.423499  1.429939   \n",
       "...          ...       ...        ...        ...       ...       ...   \n",
       "275703  1.513628 -0.369620  -0.661752   1.230091 -0.555843 -1.621747   \n",
       "257809  1.338165 -0.373781  -5.210639   3.930743 -3.801079  1.040547   \n",
       "216889  0.965816  0.042940   1.881132  -0.092927 -1.839517  0.545691   \n",
       "107728 -0.510603 -0.290128   1.159818   0.056773  0.896468  0.969984   \n",
       "68041  -0.885142 -0.256581  -0.336088   1.064353  2.150498  4.428434   \n",
       "\n",
       "              V5        V6        V7        V8  ...       V19       V20  \\\n",
       "108740 -0.128153 -1.050595  0.803387 -0.158782  ... -0.117954  0.165908   \n",
       "96477  -1.126920 -1.888479 -1.402149  2.536622  ... -1.037074  0.406079   \n",
       "65012   2.198086  3.382319 -0.452285  0.800100  ... -0.101721 -0.021680   \n",
       "39803   3.789107 -3.178982 -1.296424 -0.544558  ...  0.905219 -5.622812   \n",
       "201585  0.343469 -0.560313  0.149329  0.307291  ...  0.663276 -0.226089   \n",
       "...          ...       ...       ...       ...  ...       ...       ...   \n",
       "275703  1.393377 -1.178232  1.687391 -0.344203  ... -0.409534 -0.172064   \n",
       "257809 -1.694489 -1.566911 -1.690764  3.129128  ...  0.672971 -0.715336   \n",
       "216889  0.325353 -0.934168  0.336862 -0.278309  ... -0.047438  0.051934   \n",
       "107728 -0.876632 -0.936265 -0.055483 -0.157938  ...  0.013338 -0.080504   \n",
       "68041   0.463562  1.125410  0.579549 -0.118975  ...  1.692245  0.398723   \n",
       "\n",
       "             V21       V22       V23       V24       V25       V26       V27  \\\n",
       "108740 -0.192283 -0.432479  0.004092  0.726350 -0.195630  0.046781  0.273810   \n",
       "96477  -0.109072 -0.324957  0.564989 -0.323859  0.014442 -0.317870  0.359012   \n",
       "65012   0.015728 -0.049825 -0.142924  1.007464  0.834357 -0.265176  0.021087   \n",
       "39803  -1.737482  1.991186  5.442806  0.369127  2.203534  0.255019  2.018340   \n",
       "201585  0.579828  1.932190 -0.066921 -0.010787 -1.197248 -0.331871  0.294764   \n",
       "...          ...       ...       ...       ...       ...       ...       ...   \n",
       "275703  0.153579  0.361403 -0.488245  0.477766  0.635021  0.129741 -0.030232   \n",
       "257809  0.014574  0.432303  0.725045 -0.116252  0.688640 -0.287800  0.228164   \n",
       "216889 -0.308870 -0.992942  0.262978  0.630776 -0.301593  0.154605 -0.077237   \n",
       "107728 -0.250770 -0.566745  0.126194  0.959658  0.275825  0.144492 -0.014337   \n",
       "68041  -0.069688  0.424335 -0.095214  0.014986 -0.458112  0.291475 -0.002170   \n",
       "\n",
       "             V28  \n",
       "108740  0.126906  \n",
       "96477   0.123533  \n",
       "65012   0.014889  \n",
       "39803   0.105865  \n",
       "201585  0.220682  \n",
       "...          ...  \n",
       "275703  0.161386  \n",
       "257809 -0.030510  \n",
       "216889 -0.007984  \n",
       "107728  0.025829  \n",
       "68041  -0.228903  \n",
       "\n",
       "[100 rows x 30 columns]"
      ]
     },
     "execution_count": 19,
     "metadata": {},
     "output_type": "execute_result"
    }
   ],
   "source": [
    "X_train, y_train = unbalanced_design_matrix(train), train['Class']\n",
    "X_val, y_val = unbalanced_design_matrix(validation), validation['Class']\n",
    "X_test, y_test = unbalanced_design_matrix(test), test['Class']\n",
    "X_train.head(100)"
   ]
  },
  {
   "cell_type": "code",
   "execution_count": 20,
   "metadata": {},
   "outputs": [
    {
     "name": "stderr",
     "output_type": "stream",
     "text": [
      "/Users/jcp/opt/anaconda3/lib/python3.7/site-packages/sklearn/linear_model/logistic.py:432: FutureWarning: Default solver will be changed to 'lbfgs' in 0.22. Specify a solver to silence this warning.\n",
      "  FutureWarning)\n"
     ]
    },
    {
     "name": "stdout",
     "output_type": "stream",
     "text": [
      "Number of fraudulent cases in test set: 102\n",
      "Number of predicted fraudulent cases: 67\n"
     ]
    }
   ],
   "source": [
    "# Let's now perform logistic regression\n",
    "from sklearn.linear_model import LogisticRegression\n",
    "\n",
    "classifier_base = LogisticRegression(random_state=0)\n",
    "classifier_base.fit(X_train, y_train)\n",
    "classifications = classifier_base.predict(X_val)\n",
    "\n",
    "print(\"Number of fraudulent cases in test set:\", np.sum(y_val))\n",
    "print(\"Number of predicted fraudulent cases:\", np.sum(classifications))"
   ]
  },
  {
   "cell_type": "markdown",
   "metadata": {},
   "source": [
    "Now we will measure the performance of this model through various ways. First, we will take a look at the ROC and precision-recall curves."
   ]
  },
  {
   "cell_type": "code",
   "execution_count": 21,
   "metadata": {},
   "outputs": [],
   "source": [
    "from sklearn import metrics\n",
    "\n",
    "def curve_eval(y_true, probs, title_addition=\"\"):\n",
    "    \"\"\"This function plots both the ROC and precision-recall curves for given \n",
    "       class values and predicted probabilities. They must both be one-dimensional\n",
    "       vectors of the same shape.\"\"\"\n",
    "    \n",
    "    # ROC curve\n",
    "    fpr, tpr, thresholds = metrics.roc_curve(y_true, probs)\n",
    "    plt.figure(figsize=(9,6))\n",
    "    plt.plot(fpr, tpr)\n",
    "    plt.title(\"ROC curve\" + \" \" + title_addition, fontsize=18)\n",
    "    plt.show()\n",
    "    \n",
    "    # Precision-recall curve\n",
    "    precision, recall, _ = metrics.precision_recall_curve(y_true, probs)\n",
    "    plt.figure(figsize=(9,6))\n",
    "    plt.plot(recall, precision)\n",
    "    plt.title(\"Precision-recall curve\" + \" \" + title_addition, fontsize=18)\n",
    "    plt.show()\n",
    "    \n",
    "    # Give area-under-the-curve scores\n",
    "    print(\"AUC for ROC:\", metrics.auc(fpr, tpr))\n",
    "    print(\"AUC for precision-recall:\", metrics.auc(recall, precision))"
   ]
  },
  {
   "cell_type": "code",
   "execution_count": 22,
   "metadata": {},
   "outputs": [
    {
     "data": {
      "image/png": "[encoded data removed]",
      "text/plain": [
       "<Figure size 648x432 with 1 Axes>"
      ]
     },
     "metadata": {
      "needs_background": "light"
     },
     "output_type": "display_data"
    },
    {
     "data": {
      "image/png": "[encoded data removed]",
      "text/plain": [
       "<Figure size 648x432 with 1 Axes>"
      ]
     },
     "metadata": {
      "needs_background": "light"
     },
     "output_type": "display_data"
    },
    {
     "name": "stdout",
     "output_type": "stream",
     "text": [
      "AUC for ROC: 0.9686934220028016\n",
      "AUC for precision-recall: 0.7606863757576494\n"
     ]
    }
   ],
   "source": [
    "probs = classifier_base.predict_proba(X_val)\n",
    "curve_eval(y_val, probs[:,1], title_addition=\"Baseline Logistic Regression\")"
   ]
  },
  {
   "cell_type": "markdown",
   "metadata": {},
   "source": [
    "From above, we notice that the ROC curve suggests that this model is actually quite good; however, the precision-recall curve shows that our classifier can definitely improve quite a bit. Indeed, below is a confusion matrix. In the test set, we know of $102$ fraudulent transactions, of which the classifier was able to detect $60$. On the other hand, of the $67$ times we predicted a fraudulent case, $7$ of them were not fraud. Thus:\n",
    "\n",
    "$$\\text{Baseline Performance:}$$\n",
    "\n",
    "$$\\text{Precision}=\\frac{60}{67}=89.55\\%$$\n",
    "\n",
    "$$\\text{Recall}=\\frac{60}{102}=58.82\\%$$\n",
    "\n",
    "This is because the ROC curve, similar to accuracy, measures performance for __both__ classes (analogous to accuracy), while the precision-recall curve focuses on performance for the positive, or fraudulent, class. Since we prefer to identify fraudulent cases, unfortunately this performance is not too good, as the recall in this case is too close to 50%."
   ]
  },
  {
   "cell_type": "code",
   "execution_count": 23,
   "metadata": {},
   "outputs": [],
   "source": [
    "def make_confusion_matrix(y_true, preds):\n",
    "    cf_mat = metrics.confusion_matrix(y_true, preds)\n",
    "    df_cf_mat = pd.DataFrame(cf_mat)\n",
    "    plt.figure(figsize = (9,7))\n",
    "    sns.heatmap(df_cf_mat, annot=True, fmt=\"d\", annot_kws={'size':20})\n",
    "    plt.xticks([0.5, 1.5],labels=[0, 1])\n",
    "    plt.yticks([0, 2],labels=[0, 1])\n",
    "    plt.xlabel('Predicted', fontsize=16)\n",
    "    plt.ylabel('Actual', fontsize=16)\n",
    "    plt.title('Confusion Matrix', fontsize=20)\n",
    "    plt.show()"
   ]
  },
  {
   "cell_type": "code",
   "execution_count": 24,
   "metadata": {},
   "outputs": [
    {
     "data": {
      "image/png": "[encoded data removed]",
      "text/plain": [
       "<Figure size 648x504 with 2 Axes>"
      ]
     },
     "metadata": {
      "needs_background": "light"
     },
     "output_type": "display_data"
    }
   ],
   "source": [
    "make_confusion_matrix(y_val, classifications)"
   ]
  },
  {
   "cell_type": "markdown",
   "metadata": {},
   "source": [
    "## Feature Selection and Undersampling\n",
    "\n",
    "The method of undersampling has become more popular in this current age of \"big data.\" In the past, a popular technique was oversampling because collecting large amounts of data was indeed an issue. With too much data, particularly too much data in the majority class, this can be a nuisance. The idea is quite simple: randomly get rid of enough data in the majority class so that the resulting dataset is balanced. Note that this introduces bias since we train our model on only a subset of our entire dataset."
   ]
  },
  {
   "cell_type": "code",
   "execution_count": 25,
   "metadata": {},
   "outputs": [
    {
     "data": {
      "text/html": [
       "<div>\n",
       "<style scoped>\n",
       "    .dataframe tbody tr th:only-of-type {\n",
       "        vertical-align: middle;\n",
       "    }\n",
       "\n",
       "    .dataframe tbody tr th {\n",
       "        vertical-align: top;\n",
       "    }\n",
       "\n",
       "    .dataframe thead th {\n",
       "        text-align: right;\n",
       "    }\n",
       "</style>\n",
       "<table border=\"1\" class=\"dataframe\">\n",
       "  <thead>\n",
       "    <tr style=\"text-align: right;\">\n",
       "      <th></th>\n",
       "      <th>Time</th>\n",
       "      <th>V1</th>\n",
       "      <th>V2</th>\n",
       "      <th>V3</th>\n",
       "      <th>V4</th>\n",
       "      <th>V5</th>\n",
       "      <th>V6</th>\n",
       "      <th>V7</th>\n",
       "      <th>V8</th>\n",
       "      <th>V9</th>\n",
       "      <th>...</th>\n",
       "      <th>V21</th>\n",
       "      <th>V22</th>\n",
       "      <th>V23</th>\n",
       "      <th>V24</th>\n",
       "      <th>V25</th>\n",
       "      <th>V26</th>\n",
       "      <th>V27</th>\n",
       "      <th>V28</th>\n",
       "      <th>Amount</th>\n",
       "      <th>Class</th>\n",
       "    </tr>\n",
       "  </thead>\n",
       "  <tbody>\n",
       "    <tr>\n",
       "      <td>18466</td>\n",
       "      <td>29526.0</td>\n",
       "      <td>1.102804</td>\n",
       "      <td>2.829168</td>\n",
       "      <td>-3.932870</td>\n",
       "      <td>4.707691</td>\n",
       "      <td>2.937967</td>\n",
       "      <td>-1.800904</td>\n",
       "      <td>1.672734</td>\n",
       "      <td>-0.300240</td>\n",
       "      <td>-2.783011</td>\n",
       "      <td>...</td>\n",
       "      <td>-0.106994</td>\n",
       "      <td>-0.250050</td>\n",
       "      <td>-0.521627</td>\n",
       "      <td>-0.448950</td>\n",
       "      <td>1.291646</td>\n",
       "      <td>0.516327</td>\n",
       "      <td>0.009146</td>\n",
       "      <td>0.153318</td>\n",
       "      <td>0.68</td>\n",
       "      <td>1</td>\n",
       "    </tr>\n",
       "    <tr>\n",
       "      <td>149357</td>\n",
       "      <td>91075.0</td>\n",
       "      <td>-1.855061</td>\n",
       "      <td>1.554964</td>\n",
       "      <td>-1.405809</td>\n",
       "      <td>0.669327</td>\n",
       "      <td>-0.280230</td>\n",
       "      <td>1.178652</td>\n",
       "      <td>-3.459979</td>\n",
       "      <td>-2.815155</td>\n",
       "      <td>1.242229</td>\n",
       "      <td>...</td>\n",
       "      <td>-0.095308</td>\n",
       "      <td>0.946629</td>\n",
       "      <td>-0.297403</td>\n",
       "      <td>-0.368344</td>\n",
       "      <td>0.198731</td>\n",
       "      <td>-0.078591</td>\n",
       "      <td>0.366709</td>\n",
       "      <td>0.073767</td>\n",
       "      <td>38.76</td>\n",
       "      <td>1</td>\n",
       "    </tr>\n",
       "    <tr>\n",
       "      <td>238366</td>\n",
       "      <td>149640.0</td>\n",
       "      <td>0.754316</td>\n",
       "      <td>2.379822</td>\n",
       "      <td>-5.137274</td>\n",
       "      <td>3.818392</td>\n",
       "      <td>0.043203</td>\n",
       "      <td>-1.285451</td>\n",
       "      <td>-1.766684</td>\n",
       "      <td>0.756711</td>\n",
       "      <td>-1.765722</td>\n",
       "      <td>...</td>\n",
       "      <td>0.397058</td>\n",
       "      <td>0.141165</td>\n",
       "      <td>0.171985</td>\n",
       "      <td>0.394274</td>\n",
       "      <td>-0.444642</td>\n",
       "      <td>-0.263189</td>\n",
       "      <td>0.304703</td>\n",
       "      <td>-0.044362</td>\n",
       "      <td>2.00</td>\n",
       "      <td>1</td>\n",
       "    </tr>\n",
       "    <tr>\n",
       "      <td>15225</td>\n",
       "      <td>26585.0</td>\n",
       "      <td>-19.856322</td>\n",
       "      <td>12.095893</td>\n",
       "      <td>-22.464083</td>\n",
       "      <td>6.115541</td>\n",
       "      <td>-15.148022</td>\n",
       "      <td>-4.346724</td>\n",
       "      <td>-15.648507</td>\n",
       "      <td>13.276805</td>\n",
       "      <td>-3.974162</td>\n",
       "      <td>...</td>\n",
       "      <td>1.750730</td>\n",
       "      <td>-1.409636</td>\n",
       "      <td>-0.809809</td>\n",
       "      <td>0.121397</td>\n",
       "      <td>1.350300</td>\n",
       "      <td>-0.224292</td>\n",
       "      <td>1.597621</td>\n",
       "      <td>0.476920</td>\n",
       "      <td>99.99</td>\n",
       "      <td>1</td>\n",
       "    </tr>\n",
       "    <tr>\n",
       "      <td>143188</td>\n",
       "      <td>85181.0</td>\n",
       "      <td>-3.003459</td>\n",
       "      <td>2.096150</td>\n",
       "      <td>-0.487030</td>\n",
       "      <td>3.069453</td>\n",
       "      <td>-1.774329</td>\n",
       "      <td>0.251804</td>\n",
       "      <td>-4.328776</td>\n",
       "      <td>-2.425478</td>\n",
       "      <td>-0.985222</td>\n",
       "      <td>...</td>\n",
       "      <td>0.163967</td>\n",
       "      <td>1.245648</td>\n",
       "      <td>-0.269241</td>\n",
       "      <td>0.537102</td>\n",
       "      <td>-0.220757</td>\n",
       "      <td>-0.059555</td>\n",
       "      <td>0.460710</td>\n",
       "      <td>-0.033551</td>\n",
       "      <td>2.00</td>\n",
       "      <td>1</td>\n",
       "    </tr>\n",
       "    <tr>\n",
       "      <td>...</td>\n",
       "      <td>...</td>\n",
       "      <td>...</td>\n",
       "      <td>...</td>\n",
       "      <td>...</td>\n",
       "      <td>...</td>\n",
       "      <td>...</td>\n",
       "      <td>...</td>\n",
       "      <td>...</td>\n",
       "      <td>...</td>\n",
       "      <td>...</td>\n",
       "      <td>...</td>\n",
       "      <td>...</td>\n",
       "      <td>...</td>\n",
       "      <td>...</td>\n",
       "      <td>...</td>\n",
       "      <td>...</td>\n",
       "      <td>...</td>\n",
       "      <td>...</td>\n",
       "      <td>...</td>\n",
       "      <td>...</td>\n",
       "      <td>...</td>\n",
       "    </tr>\n",
       "    <tr>\n",
       "      <td>50911</td>\n",
       "      <td>44704.0</td>\n",
       "      <td>0.989857</td>\n",
       "      <td>-0.912736</td>\n",
       "      <td>0.705872</td>\n",
       "      <td>-1.147671</td>\n",
       "      <td>-1.399277</td>\n",
       "      <td>-0.847855</td>\n",
       "      <td>-0.400770</td>\n",
       "      <td>-0.156833</td>\n",
       "      <td>1.767770</td>\n",
       "      <td>...</td>\n",
       "      <td>0.213874</td>\n",
       "      <td>0.605010</td>\n",
       "      <td>-0.247121</td>\n",
       "      <td>0.490739</td>\n",
       "      <td>0.467580</td>\n",
       "      <td>0.095699</td>\n",
       "      <td>0.024726</td>\n",
       "      <td>0.050992</td>\n",
       "      <td>150.00</td>\n",
       "      <td>0</td>\n",
       "    </tr>\n",
       "    <tr>\n",
       "      <td>266746</td>\n",
       "      <td>162473.0</td>\n",
       "      <td>1.935206</td>\n",
       "      <td>-0.264627</td>\n",
       "      <td>-0.295627</td>\n",
       "      <td>1.362489</td>\n",
       "      <td>-0.673414</td>\n",
       "      <td>-0.524312</td>\n",
       "      <td>-0.500896</td>\n",
       "      <td>0.095423</td>\n",
       "      <td>1.227252</td>\n",
       "      <td>...</td>\n",
       "      <td>-0.238875</td>\n",
       "      <td>-0.693892</td>\n",
       "      <td>0.410135</td>\n",
       "      <td>-0.230518</td>\n",
       "      <td>-0.475412</td>\n",
       "      <td>-0.965896</td>\n",
       "      <td>0.039391</td>\n",
       "      <td>-0.030345</td>\n",
       "      <td>12.89</td>\n",
       "      <td>0</td>\n",
       "    </tr>\n",
       "    <tr>\n",
       "      <td>257833</td>\n",
       "      <td>158362.0</td>\n",
       "      <td>-4.877630</td>\n",
       "      <td>-4.737007</td>\n",
       "      <td>0.628923</td>\n",
       "      <td>-0.671027</td>\n",
       "      <td>1.871279</td>\n",
       "      <td>0.453433</td>\n",
       "      <td>0.036347</td>\n",
       "      <td>0.230997</td>\n",
       "      <td>0.770132</td>\n",
       "      <td>...</td>\n",
       "      <td>-0.301219</td>\n",
       "      <td>1.129709</td>\n",
       "      <td>2.045700</td>\n",
       "      <td>-1.533579</td>\n",
       "      <td>0.913491</td>\n",
       "      <td>1.160164</td>\n",
       "      <td>0.579032</td>\n",
       "      <td>-0.091544</td>\n",
       "      <td>347.00</td>\n",
       "      <td>0</td>\n",
       "    </tr>\n",
       "    <tr>\n",
       "      <td>22644</td>\n",
       "      <td>32355.0</td>\n",
       "      <td>1.183009</td>\n",
       "      <td>1.354927</td>\n",
       "      <td>-1.450851</td>\n",
       "      <td>1.661738</td>\n",
       "      <td>0.977732</td>\n",
       "      <td>-1.518109</td>\n",
       "      <td>0.791569</td>\n",
       "      <td>-0.341303</td>\n",
       "      <td>-0.665438</td>\n",
       "      <td>...</td>\n",
       "      <td>-0.146889</td>\n",
       "      <td>-0.226449</td>\n",
       "      <td>-0.153613</td>\n",
       "      <td>0.110094</td>\n",
       "      <td>0.784310</td>\n",
       "      <td>-0.288983</td>\n",
       "      <td>0.065237</td>\n",
       "      <td>0.099550</td>\n",
       "      <td>0.75</td>\n",
       "      <td>0</td>\n",
       "    </tr>\n",
       "    <tr>\n",
       "      <td>224398</td>\n",
       "      <td>143775.0</td>\n",
       "      <td>-0.639063</td>\n",
       "      <td>1.036665</td>\n",
       "      <td>1.284286</td>\n",
       "      <td>-0.066720</td>\n",
       "      <td>0.504950</td>\n",
       "      <td>-0.694095</td>\n",
       "      <td>0.979523</td>\n",
       "      <td>-0.227674</td>\n",
       "      <td>-0.690296</td>\n",
       "      <td>...</td>\n",
       "      <td>-0.251517</td>\n",
       "      <td>-0.715872</td>\n",
       "      <td>-0.275143</td>\n",
       "      <td>0.012799</td>\n",
       "      <td>0.331423</td>\n",
       "      <td>0.490784</td>\n",
       "      <td>-0.149062</td>\n",
       "      <td>0.067617</td>\n",
       "      <td>1.98</td>\n",
       "      <td>0</td>\n",
       "    </tr>\n",
       "  </tbody>\n",
       "</table>\n",
       "<p>586 rows × 31 columns</p>\n",
       "</div>"
      ],
      "text/plain": [
       "            Time         V1         V2         V3        V4         V5  \\\n",
       "18466    29526.0   1.102804   2.829168  -3.932870  4.707691   2.937967   \n",
       "149357   91075.0  -1.855061   1.554964  -1.405809  0.669327  -0.280230   \n",
       "238366  149640.0   0.754316   2.379822  -5.137274  3.818392   0.043203   \n",
       "15225    26585.0 -19.856322  12.095893 -22.464083  6.115541 -15.148022   \n",
       "143188   85181.0  -3.003459   2.096150  -0.487030  3.069453  -1.774329   \n",
       "...          ...        ...        ...        ...       ...        ...   \n",
       "50911    44704.0   0.989857  -0.912736   0.705872 -1.147671  -1.399277   \n",
       "266746  162473.0   1.935206  -0.264627  -0.295627  1.362489  -0.673414   \n",
       "257833  158362.0  -4.877630  -4.737007   0.628923 -0.671027   1.871279   \n",
       "22644    32355.0   1.183009   1.354927  -1.450851  1.661738   0.977732   \n",
       "224398  143775.0  -0.639063   1.036665   1.284286 -0.066720   0.504950   \n",
       "\n",
       "              V6         V7         V8        V9  ...       V21       V22  \\\n",
       "18466  -1.800904   1.672734  -0.300240 -2.783011  ... -0.106994 -0.250050   \n",
       "149357  1.178652  -3.459979  -2.815155  1.242229  ... -0.095308  0.946629   \n",
       "238366 -1.285451  -1.766684   0.756711 -1.765722  ...  0.397058  0.141165   \n",
       "15225  -4.346724 -15.648507  13.276805 -3.974162  ...  1.750730 -1.409636   \n",
       "143188  0.251804  -4.328776  -2.425478 -0.985222  ...  0.163967  1.245648   \n",
       "...          ...        ...        ...       ...  ...       ...       ...   \n",
       "50911  -0.847855  -0.400770  -0.156833  1.767770  ...  0.213874  0.605010   \n",
       "266746 -0.524312  -0.500896   0.095423  1.227252  ... -0.238875 -0.693892   \n",
       "257833  0.453433   0.036347   0.230997  0.770132  ... -0.301219  1.129709   \n",
       "22644  -1.518109   0.791569  -0.341303 -0.665438  ... -0.146889 -0.226449   \n",
       "224398 -0.694095   0.979523  -0.227674 -0.690296  ... -0.251517 -0.715872   \n",
       "\n",
       "             V23       V24       V25       V26       V27       V28  Amount  \\\n",
       "18466  -0.521627 -0.448950  1.291646  0.516327  0.009146  0.153318    0.68   \n",
       "149357 -0.297403 -0.368344  0.198731 -0.078591  0.366709  0.073767   38.76   \n",
       "238366  0.171985  0.394274 -0.444642 -0.263189  0.304703 -0.044362    2.00   \n",
       "15225  -0.809809  0.121397  1.350300 -0.224292  1.597621  0.476920   99.99   \n",
       "143188 -0.269241  0.537102 -0.220757 -0.059555  0.460710 -0.033551    2.00   \n",
       "...          ...       ...       ...       ...       ...       ...     ...   \n",
       "50911  -0.247121  0.490739  0.467580  0.095699  0.024726  0.050992  150.00   \n",
       "266746  0.410135 -0.230518 -0.475412 -0.965896  0.039391 -0.030345   12.89   \n",
       "257833  2.045700 -1.533579  0.913491  1.160164  0.579032 -0.091544  347.00   \n",
       "22644  -0.153613  0.110094  0.784310 -0.288983  0.065237  0.099550    0.75   \n",
       "224398 -0.275143  0.012799  0.331423  0.490784 -0.149062  0.067617    1.98   \n",
       "\n",
       "        Class  \n",
       "18466       1  \n",
       "149357      1  \n",
       "238366      1  \n",
       "15225       1  \n",
       "143188      1  \n",
       "...       ...  \n",
       "50911       0  \n",
       "266746      0  \n",
       "257833      0  \n",
       "22644       0  \n",
       "224398      0  \n",
       "\n",
       "[586 rows x 31 columns]"
      ]
     },
     "execution_count": 25,
     "metadata": {},
     "output_type": "execute_result"
    }
   ],
   "source": [
    "# Undersampling\n",
    "n_fraud = len(train[train['Class'] == 1])\n",
    "class0_samples = train[train['Class'] == 0].sample(n=n_fraud, random_state=0)\n",
    "\n",
    "# Append to all fraud samples\n",
    "frauds = train[train['Class'] == 1]\n",
    "train_u = pd.concat([frauds, class0_samples], axis=0)\n",
    "train_u"
   ]
  },
  {
   "cell_type": "markdown",
   "metadata": {},
   "source": [
    "Let's now perform feature selection to extract only the features that can best predict whether a transaction was fraudulent or not. To do this, we make a correlation heatmap and visually pick out the features that are most negatively/positively correlated with the `Class` variable."
   ]
  },
  {
   "cell_type": "code",
   "execution_count": 27,
   "metadata": {},
   "outputs": [
    {
     "data": {
      "image/png": "[encoded data removed]",
      "text/plain": [
       "<Figure size 1080x864 with 2 Axes>"
      ]
     },
     "metadata": {
      "needs_background": "light"
     },
     "output_type": "display_data"
    }
   ],
   "source": [
    "# Feature selection\n",
    "# Make correlation heatmap to select the columns that are most positively/negatively correlated with\n",
    "# whether the transaction was fraud or not\n",
    "plt.figure(figsize=(15, 12))\n",
    "sns.heatmap(train_u.corr(), cmap='coolwarm');"
   ]
  },
  {
   "cell_type": "markdown",
   "metadata": {},
   "source": [
    "Below, we pick out the most effective explanatory variables, i.e. the ones that are most correlated with the `Class` variable. We pick an initial cutoff of a 0.4 positive/negative correlation."
   ]
  },
  {
   "cell_type": "code",
   "execution_count": 121,
   "metadata": {},
   "outputs": [
    {
     "data": {
      "text/plain": [
       "V1      -0.415033\n",
       "V2       0.499860\n",
       "V3      -0.566317\n",
       "V4       0.716703\n",
       "V6      -0.402934\n",
       "V7      -0.500601\n",
       "V9      -0.556435\n",
       "V10     -0.623718\n",
       "V11      0.699944\n",
       "V12     -0.689327\n",
       "V14     -0.754842\n",
       "V16     -0.583193\n",
       "V17     -0.548845\n",
       "V18     -0.452977\n",
       "Class    1.000000\n",
       "Name: Class, dtype: float64"
      ]
     },
     "execution_count": 121,
     "metadata": {},
     "output_type": "execute_result"
    }
   ],
   "source": [
    "corr_matrix = train_u.corr()\n",
    "corr_matrix[corr_matrix['Class'].abs() > 0.4]['Class']"
   ]
  },
  {
   "cell_type": "code",
   "execution_count": 122,
   "metadata": {},
   "outputs": [],
   "source": [
    "# We can just do this visually\n",
    "# Negatively correlated variables:\n",
    "neg_vars = ['V1', 'V3', 'V6', 'V7', 'V9', 'V10', 'V12', 'V14', 'V16', 'V17', 'V18']\n",
    "# Positively correlated variables:\n",
    "pos_vars = ['V2', 'V4', 'V11']\n",
    "\n",
    "def design_matrix(df):\n",
    "    return df[neg_vars + pos_vars]"
   ]
  },
  {
   "cell_type": "markdown",
   "metadata": {},
   "source": [
    "Let's see some boxplots of some of these variables by fraud/not fraud. Indeed, these boxplots represent the correlations we see in the heatmap. For example, values for `V14` on average tend to be lower for fraudulent transactions than non-fraudulent transactions. Similarly, values for `V4` tend to be higher for frauds than non-frauds."
   ]
  },
  {
   "cell_type": "code",
   "execution_count": 123,
   "metadata": {},
   "outputs": [
    {
     "data": {
      "image/png": "[encoded data removed]",
      "text/plain": [
       "<Figure size 648x432 with 1 Axes>"
      ]
     },
     "metadata": {},
     "output_type": "display_data"
    }
   ],
   "source": [
    "# V14\n",
    "plt.figure(figsize=(9,6))\n",
    "sns.boxplot(x='Class', y='V14', data=train_u)\n",
    "plt.xlabel('Class', fontsize=16)\n",
    "plt.title('Boxplot of V14', fontsize=18);"
   ]
  },
  {
   "cell_type": "code",
   "execution_count": 124,
   "metadata": {},
   "outputs": [
    {
     "data": {
      "image/png": "[encoded data removed]",
      "text/plain": [
       "<Figure size 648x432 with 1 Axes>"
      ]
     },
     "metadata": {},
     "output_type": "display_data"
    }
   ],
   "source": [
    "# V4\n",
    "plt.figure(figsize=(9,6))\n",
    "sns.boxplot(x='Class', y='V4', data=train_u)\n",
    "plt.xlabel('Class', fontsize=16)\n",
    "plt.title('Boxplot of V4', fontsize=18);"
   ]
  },
  {
   "cell_type": "markdown",
   "metadata": {},
   "source": [
    "Below we project our data onto the principal components corresponding to `V4` and `V14` (the most correlated variables with `Class`), and make a scatterplot in order to better visualize the distribution of fraudulent/non-fraudulent transactions with respect to these two variables."
   ]
  },
  {
   "cell_type": "code",
   "execution_count": 125,
   "metadata": {},
   "outputs": [
    {
     "data": {
      "image/png": "[encoded data removed]",
      "text/plain": [
       "<Figure size 720x576 with 1 Axes>"
      ]
     },
     "metadata": {},
     "output_type": "display_data"
    }
   ],
   "source": [
    "sns.set()\n",
    "plt.figure(figsize=(10, 8))\n",
    "two_vars = ['V4', 'V14']\n",
    "train_u_pos = train_u[train_u['Class'] == 1][two_vars]\n",
    "train_u_neg = train_u[train_u['Class'] == 0][two_vars]\n",
    "sns.scatterplot(train_u_pos[two_vars[0]], train_u_pos[two_vars[1]])\n",
    "sns.scatterplot(train_u_neg[two_vars[0]], train_u_neg[two_vars[1]])\n",
    "plt.show()"
   ]
  },
  {
   "cell_type": "markdown",
   "metadata": {},
   "source": [
    "## Logistic Regression with Undersampling\n",
    "\n",
    "We now try to fit a logistic regression model on the undersampled data."
   ]
  },
  {
   "cell_type": "code",
   "execution_count": 126,
   "metadata": {},
   "outputs": [
    {
     "name": "stderr",
     "output_type": "stream",
     "text": [
      "/Users/jcp/opt/anaconda3/lib/python3.7/site-packages/sklearn/linear_model/logistic.py:432: FutureWarning: Default solver will be changed to 'lbfgs' in 0.22. Specify a solver to silence this warning.\n",
      "  FutureWarning)\n"
     ]
    }
   ],
   "source": [
    "X_train_u, y_train_u = design_matrix(train_u.drop('Class', axis=1)), train_u['Class']\n",
    "XX_val = design_matrix(X_val)\n",
    "\n",
    "clf_u = LogisticRegression(random_state=0)\n",
    "clf_u.fit(X_train_u, y_train_u)\n",
    "preds = clf_u.predict(XX_val)"
   ]
  },
  {
   "cell_type": "code",
   "execution_count": 127,
   "metadata": {},
   "outputs": [
    {
     "name": "stdout",
     "output_type": "stream",
     "text": [
      "Accuracy: 0.9696453651685393\n"
     ]
    }
   ],
   "source": [
    "# Accuracy seems pretty good, but it is misleading!\n",
    "acc_val = np.mean(preds == y_val)\n",
    "print(\"Accuracy:\", acc_val)"
   ]
  },
  {
   "cell_type": "markdown",
   "metadata": {},
   "source": [
    "Again, let's plot a ROC curve and a precision-recall curve, knowing that we prefer looking at the precision-recall curve."
   ]
  },
  {
   "cell_type": "code",
   "execution_count": 128,
   "metadata": {},
   "outputs": [
    {
     "data": {
      "image/png": "[encoded data removed]",
      "text/plain": [
       "<Figure size 648x432 with 1 Axes>"
      ]
     },
     "metadata": {},
     "output_type": "display_data"
    },
    {
     "data": {
      "image/png": "[encoded data removed]",
      "text/plain": [
       "<Figure size 648x432 with 1 Axes>"
      ]
     },
     "metadata": {},
     "output_type": "display_data"
    },
    {
     "name": "stdout",
     "output_type": "stream",
     "text": [
      "AUC for ROC: 0.953432838188566\n",
      "AUC for precision-recall: 0.7843885652570051\n"
     ]
    }
   ],
   "source": [
    "probs = clf_u.predict_proba(XX_val)\n",
    "curve_eval(y_val, probs[:,1])"
   ]
  },
  {
   "cell_type": "markdown",
   "metadata": {},
   "source": [
    "It seems that the AUC for the precision-recall curve did increase slightly, but we indeed get similar performance looking at the top-right corner of the plot. We will use the validation set to find an optimal threshold value. From below, our recall improved quite a bit, but the precision is quite low.\n",
    "\n",
    "$$\\text{Validation With Undersampling:}$$\n",
    "\n",
    "$$\\text{Precision}=\\frac{89}{89+1716}=4.93\\%$$\n",
    "\n",
    "$$\\text{Recall}=\\frac{89}{89+13}=87.25\\%$$"
   ]
  },
  {
   "cell_type": "code",
   "execution_count": 130,
   "metadata": {},
   "outputs": [
    {
     "data": {
      "image/png": "[encoded data removed]",
      "text/plain": [
       "<Figure size 648x504 with 2 Axes>"
      ]
     },
     "metadata": {},
     "output_type": "display_data"
    }
   ],
   "source": [
    "make_confusion_matrix(y_val, preds)"
   ]
  },
  {
   "cell_type": "code",
   "execution_count": 199,
   "metadata": {},
   "outputs": [
    {
     "name": "stdout",
     "output_type": "stream",
     "text": [
      "Threshold: 0.5 C: 0.01    Recall: 0.86    Precision: 0.13\n",
      "Threshold: 0.6 C: 0.01    Recall: 0.86    Precision: 0.14\n",
      "Threshold: 0.7 C: 0.1    Recall: 0.87    Precision: 0.12\n",
      "Threshold: 0.8 C: 1    Recall: 0.87    Precision: 0.12\n",
      "Threshold: 0.9 C: 1    Recall: 0.86    Precision: 0.15\n",
      "Threshold: 0.9 C: 10    Recall: 0.87    Precision: 0.13\n",
      "Threshold: 0.9 C: 100    Recall: 0.87    Precision: 0.13\n"
     ]
    }
   ],
   "source": [
    "def threshold_reg_grid_search(X_train, y_train, X_val, y_val, thresholds, c_vals, penalty='l2'):\n",
    "    for t in thresholds:\n",
    "        for c in c_vals:\n",
    "            if penalty=='l2':\n",
    "                clf_ct = LogisticRegression(penalty=penalty, C=c, random_state=0, solver='lbfgs')\n",
    "            else:\n",
    "                clf_ct = LogisticRegression(penalty=penalty, C=c, random_state=0)\n",
    "            clf_ct.fit(X_train, y_train)\n",
    "            probs = clf_ct.predict_proba(X_val)\n",
    "            preds = np.where(probs[:,1] > t, 1, 0)\n",
    "            true_pos = np.sum((preds == y_val) & (preds == 1))\n",
    "            recall = true_pos / np.sum(y_val)\n",
    "            precision = true_pos / np.sum(preds)\n",
    "            if recall > 0.86 and precision > 0.1:\n",
    "                print(\"Threshold:\", round(t, 2), \"C:\", c, \"   Recall:\", round(recall, 2), \"   Precision:\", round(precision, 2))\n",
    "                \n",
    "\n",
    "thresholds = np.arange(start = 0.1, stop = 1, step = 0.1)\n",
    "c_vals = [0.01, 0.1, 1, 10, 100]\n",
    "threshold_reg_grid_search(X_train_u, y_train_u, XX_val, y_val, thresholds, c_vals)"
   ]
  },
  {
   "cell_type": "markdown",
   "metadata": {},
   "source": [
    "From the script above, we see that the best performance seems to occur when we set the threshold at 0.9 and $C$ at 10. Note that depending on the company's/application's needs and desires, we can tune the threshold and $C$-value appropriately."
   ]
  },
  {
   "cell_type": "code",
   "execution_count": 179,
   "metadata": {},
   "outputs": [
    {
     "data": {
      "image/png": "[encoded data removed]",
      "text/plain": [
       "<Figure size 648x504 with 2 Axes>"
      ]
     },
     "metadata": {},
     "output_type": "display_data"
    }
   ],
   "source": [
    "clf_u_opt = LogisticRegression(C=10, random_state=0, solver='lbfgs')\n",
    "clf_u_opt.fit(X_train_u, y_train_u)\n",
    "probs = clf_u_opt.predict_proba(XX_val)\n",
    "preds = np.where(probs[:,1] > 0.9, 1, 0)\n",
    "make_confusion_matrix(y_val, preds)"
   ]
  },
  {
   "cell_type": "markdown",
   "metadata": {},
   "source": [
    "Finally, we see this model's performance on the test set. It suffices to look at the confusion matrix. Here, we get the following final results for the precision and recall.\n",
    "\n",
    "\n",
    "$$\\text{Final Test With Undersampling:}$$\n",
    "\n",
    "$$\\text{Precision}=\\frac{84}{84+578}=12.7\\%$$\n",
    "\n",
    "$$\\text{Recall}=\\frac{85}{85+12}=87.6\\%$$"
   ]
  },
  {
   "cell_type": "code",
   "execution_count": 135,
   "metadata": {},
   "outputs": [
    {
     "data": {
      "image/png": "[encoded data removed]",
      "text/plain": [
       "<Figure size 648x504 with 2 Axes>"
      ]
     },
     "metadata": {},
     "output_type": "display_data"
    }
   ],
   "source": [
    "probs_test = clf_u_opt.predict_proba(design_matrix(X_test))\n",
    "preds_test = np.where(probs_test[:,1] > 0.9, 1, 0)\n",
    "make_confusion_matrix(y_test, preds_test)"
   ]
  },
  {
   "cell_type": "markdown",
   "metadata": {},
   "source": [
    "A logistic regression model performs considerably well in detecting fraudulent samples as long as we perform the undersampling method. With undersampling, the recall considerably improves, although precision may decrease as a result. However, as in the test set, we notice that $541/(541+56322)=0.96\\%$ of non-fraudulent transactions were flagged falsely as fraud. Of course, we could continue work in order to improve the performance of a classifier that both increases detection and decreases false positives."
   ]
  },
  {
   "cell_type": "markdown",
   "metadata": {},
   "source": [
    "## Logistic Regression using SMOTE\n",
    "\n",
    "SMOTE stands for the synthetic minority oversampling technique. The name explains the method quite well: we will oversample the minority class in order to have more examples, in this case, of fraudulent credit card transactions. We will combine this with the undersampling technique we have done above.\n",
    "\n",
    "The way the oversampling is done is as follows: to synthetically create an additional data point in the minority class, first we pick a point $x$ already in the minority class. Then, search for its five nearest neighbors in the minority class. We pick 5 because it is best practice, and this is the recommended number to use in the paper below. We uniformly at random choose one of these five datapoints, call it $x'.$ Finally, choose a random $\\lambda\\in (0,1)$ so that our added synthetic datapoint is \n",
    "$s=\\lambda x+(1-\\lambda)x'.$\n",
    "\n",
    "In other words, we are simply picking two nearby minority-class data points, drawing a line between them, and randomly selecting a point on that line. Note that performing a nearest neighbor search is not easy, especially in high dimensions. We will use scikit-learn's Nearest Neighbors package in order to compute these. Before doing this, however, it is best to combine both undersampling and SMOTE, so that fitting the nearest neighbors algorithm will not take too long."
   ]
  },
  {
   "cell_type": "code",
   "execution_count": 136,
   "metadata": {},
   "outputs": [
    {
     "data": {
      "text/html": [
       "<div>\n",
       "<style scoped>\n",
       "    .dataframe tbody tr th:only-of-type {\n",
       "        vertical-align: middle;\n",
       "    }\n",
       "\n",
       "    .dataframe tbody tr th {\n",
       "        vertical-align: top;\n",
       "    }\n",
       "\n",
       "    .dataframe thead th {\n",
       "        text-align: right;\n",
       "    }\n",
       "</style>\n",
       "<table border=\"1\" class=\"dataframe\">\n",
       "  <thead>\n",
       "    <tr style=\"text-align: right;\">\n",
       "      <th></th>\n",
       "      <th>Time</th>\n",
       "      <th>V1</th>\n",
       "      <th>V2</th>\n",
       "      <th>V3</th>\n",
       "      <th>V4</th>\n",
       "      <th>V5</th>\n",
       "      <th>V6</th>\n",
       "      <th>V7</th>\n",
       "      <th>V8</th>\n",
       "      <th>V9</th>\n",
       "      <th>...</th>\n",
       "      <th>V21</th>\n",
       "      <th>V22</th>\n",
       "      <th>V23</th>\n",
       "      <th>V24</th>\n",
       "      <th>V25</th>\n",
       "      <th>V26</th>\n",
       "      <th>V27</th>\n",
       "      <th>V28</th>\n",
       "      <th>Amount</th>\n",
       "      <th>Class</th>\n",
       "    </tr>\n",
       "  </thead>\n",
       "  <tbody>\n",
       "    <tr>\n",
       "      <td>18466</td>\n",
       "      <td>29526.0</td>\n",
       "      <td>1.102804</td>\n",
       "      <td>2.829168</td>\n",
       "      <td>-3.932870</td>\n",
       "      <td>4.707691</td>\n",
       "      <td>2.937967</td>\n",
       "      <td>-1.800904</td>\n",
       "      <td>1.672734</td>\n",
       "      <td>-0.300240</td>\n",
       "      <td>-2.783011</td>\n",
       "      <td>...</td>\n",
       "      <td>-0.106994</td>\n",
       "      <td>-0.250050</td>\n",
       "      <td>-0.521627</td>\n",
       "      <td>-0.448950</td>\n",
       "      <td>1.291646</td>\n",
       "      <td>0.516327</td>\n",
       "      <td>0.009146</td>\n",
       "      <td>0.153318</td>\n",
       "      <td>0.68</td>\n",
       "      <td>1</td>\n",
       "    </tr>\n",
       "    <tr>\n",
       "      <td>149357</td>\n",
       "      <td>91075.0</td>\n",
       "      <td>-1.855061</td>\n",
       "      <td>1.554964</td>\n",
       "      <td>-1.405809</td>\n",
       "      <td>0.669327</td>\n",
       "      <td>-0.280230</td>\n",
       "      <td>1.178652</td>\n",
       "      <td>-3.459979</td>\n",
       "      <td>-2.815155</td>\n",
       "      <td>1.242229</td>\n",
       "      <td>...</td>\n",
       "      <td>-0.095308</td>\n",
       "      <td>0.946629</td>\n",
       "      <td>-0.297403</td>\n",
       "      <td>-0.368344</td>\n",
       "      <td>0.198731</td>\n",
       "      <td>-0.078591</td>\n",
       "      <td>0.366709</td>\n",
       "      <td>0.073767</td>\n",
       "      <td>38.76</td>\n",
       "      <td>1</td>\n",
       "    </tr>\n",
       "    <tr>\n",
       "      <td>238366</td>\n",
       "      <td>149640.0</td>\n",
       "      <td>0.754316</td>\n",
       "      <td>2.379822</td>\n",
       "      <td>-5.137274</td>\n",
       "      <td>3.818392</td>\n",
       "      <td>0.043203</td>\n",
       "      <td>-1.285451</td>\n",
       "      <td>-1.766684</td>\n",
       "      <td>0.756711</td>\n",
       "      <td>-1.765722</td>\n",
       "      <td>...</td>\n",
       "      <td>0.397058</td>\n",
       "      <td>0.141165</td>\n",
       "      <td>0.171985</td>\n",
       "      <td>0.394274</td>\n",
       "      <td>-0.444642</td>\n",
       "      <td>-0.263189</td>\n",
       "      <td>0.304703</td>\n",
       "      <td>-0.044362</td>\n",
       "      <td>2.00</td>\n",
       "      <td>1</td>\n",
       "    </tr>\n",
       "    <tr>\n",
       "      <td>15225</td>\n",
       "      <td>26585.0</td>\n",
       "      <td>-19.856322</td>\n",
       "      <td>12.095893</td>\n",
       "      <td>-22.464083</td>\n",
       "      <td>6.115541</td>\n",
       "      <td>-15.148022</td>\n",
       "      <td>-4.346724</td>\n",
       "      <td>-15.648507</td>\n",
       "      <td>13.276805</td>\n",
       "      <td>-3.974162</td>\n",
       "      <td>...</td>\n",
       "      <td>1.750730</td>\n",
       "      <td>-1.409636</td>\n",
       "      <td>-0.809809</td>\n",
       "      <td>0.121397</td>\n",
       "      <td>1.350300</td>\n",
       "      <td>-0.224292</td>\n",
       "      <td>1.597621</td>\n",
       "      <td>0.476920</td>\n",
       "      <td>99.99</td>\n",
       "      <td>1</td>\n",
       "    </tr>\n",
       "    <tr>\n",
       "      <td>143188</td>\n",
       "      <td>85181.0</td>\n",
       "      <td>-3.003459</td>\n",
       "      <td>2.096150</td>\n",
       "      <td>-0.487030</td>\n",
       "      <td>3.069453</td>\n",
       "      <td>-1.774329</td>\n",
       "      <td>0.251804</td>\n",
       "      <td>-4.328776</td>\n",
       "      <td>-2.425478</td>\n",
       "      <td>-0.985222</td>\n",
       "      <td>...</td>\n",
       "      <td>0.163967</td>\n",
       "      <td>1.245648</td>\n",
       "      <td>-0.269241</td>\n",
       "      <td>0.537102</td>\n",
       "      <td>-0.220757</td>\n",
       "      <td>-0.059555</td>\n",
       "      <td>0.460710</td>\n",
       "      <td>-0.033551</td>\n",
       "      <td>2.00</td>\n",
       "      <td>1</td>\n",
       "    </tr>\n",
       "    <tr>\n",
       "      <td>...</td>\n",
       "      <td>...</td>\n",
       "      <td>...</td>\n",
       "      <td>...</td>\n",
       "      <td>...</td>\n",
       "      <td>...</td>\n",
       "      <td>...</td>\n",
       "      <td>...</td>\n",
       "      <td>...</td>\n",
       "      <td>...</td>\n",
       "      <td>...</td>\n",
       "      <td>...</td>\n",
       "      <td>...</td>\n",
       "      <td>...</td>\n",
       "      <td>...</td>\n",
       "      <td>...</td>\n",
       "      <td>...</td>\n",
       "      <td>...</td>\n",
       "      <td>...</td>\n",
       "      <td>...</td>\n",
       "      <td>...</td>\n",
       "      <td>...</td>\n",
       "    </tr>\n",
       "    <tr>\n",
       "      <td>254219</td>\n",
       "      <td>156632.0</td>\n",
       "      <td>2.006389</td>\n",
       "      <td>-0.528727</td>\n",
       "      <td>-0.558014</td>\n",
       "      <td>0.069515</td>\n",
       "      <td>-0.491254</td>\n",
       "      <td>-0.086976</td>\n",
       "      <td>-0.688956</td>\n",
       "      <td>0.042567</td>\n",
       "      <td>1.539668</td>\n",
       "      <td>...</td>\n",
       "      <td>0.158294</td>\n",
       "      <td>0.651051</td>\n",
       "      <td>0.126556</td>\n",
       "      <td>0.514068</td>\n",
       "      <td>-0.116418</td>\n",
       "      <td>0.107347</td>\n",
       "      <td>0.008454</td>\n",
       "      <td>-0.036399</td>\n",
       "      <td>17.95</td>\n",
       "      <td>0</td>\n",
       "    </tr>\n",
       "    <tr>\n",
       "      <td>246267</td>\n",
       "      <td>153104.0</td>\n",
       "      <td>-0.720522</td>\n",
       "      <td>0.867849</td>\n",
       "      <td>-1.925609</td>\n",
       "      <td>-1.788049</td>\n",
       "      <td>3.332040</td>\n",
       "      <td>2.873082</td>\n",
       "      <td>0.671837</td>\n",
       "      <td>1.035365</td>\n",
       "      <td>-1.145031</td>\n",
       "      <td>...</td>\n",
       "      <td>0.272783</td>\n",
       "      <td>0.517922</td>\n",
       "      <td>-0.386203</td>\n",
       "      <td>0.766883</td>\n",
       "      <td>0.598950</td>\n",
       "      <td>0.353061</td>\n",
       "      <td>-0.069111</td>\n",
       "      <td>0.002680</td>\n",
       "      <td>17.95</td>\n",
       "      <td>0</td>\n",
       "    </tr>\n",
       "    <tr>\n",
       "      <td>197297</td>\n",
       "      <td>131945.0</td>\n",
       "      <td>-0.576237</td>\n",
       "      <td>1.082302</td>\n",
       "      <td>-0.435705</td>\n",
       "      <td>-0.688156</td>\n",
       "      <td>1.374334</td>\n",
       "      <td>-0.907804</td>\n",
       "      <td>1.407457</td>\n",
       "      <td>-0.042162</td>\n",
       "      <td>-0.773974</td>\n",
       "      <td>...</td>\n",
       "      <td>0.007138</td>\n",
       "      <td>-0.002345</td>\n",
       "      <td>-0.539525</td>\n",
       "      <td>0.689038</td>\n",
       "      <td>1.261377</td>\n",
       "      <td>0.815593</td>\n",
       "      <td>0.053435</td>\n",
       "      <td>-0.014078</td>\n",
       "      <td>19.33</td>\n",
       "      <td>0</td>\n",
       "    </tr>\n",
       "    <tr>\n",
       "      <td>136382</td>\n",
       "      <td>81678.0</td>\n",
       "      <td>-1.076934</td>\n",
       "      <td>1.260707</td>\n",
       "      <td>-0.192460</td>\n",
       "      <td>1.233287</td>\n",
       "      <td>-3.242435</td>\n",
       "      <td>1.864497</td>\n",
       "      <td>4.031571</td>\n",
       "      <td>-1.951299</td>\n",
       "      <td>-0.376492</td>\n",
       "      <td>...</td>\n",
       "      <td>0.504870</td>\n",
       "      <td>0.221750</td>\n",
       "      <td>-0.185040</td>\n",
       "      <td>0.465599</td>\n",
       "      <td>-0.164749</td>\n",
       "      <td>-0.300267</td>\n",
       "      <td>-0.088894</td>\n",
       "      <td>-0.417848</td>\n",
       "      <td>721.00</td>\n",
       "      <td>0</td>\n",
       "    </tr>\n",
       "    <tr>\n",
       "      <td>248007</td>\n",
       "      <td>153766.0</td>\n",
       "      <td>2.141214</td>\n",
       "      <td>-1.615703</td>\n",
       "      <td>-0.769484</td>\n",
       "      <td>-1.396589</td>\n",
       "      <td>-1.586283</td>\n",
       "      <td>-0.915374</td>\n",
       "      <td>-1.060364</td>\n",
       "      <td>-0.265292</td>\n",
       "      <td>-1.095303</td>\n",
       "      <td>...</td>\n",
       "      <td>-0.116453</td>\n",
       "      <td>0.026060</td>\n",
       "      <td>0.180167</td>\n",
       "      <td>-0.040696</td>\n",
       "      <td>-0.273398</td>\n",
       "      <td>-0.184220</td>\n",
       "      <td>0.006703</td>\n",
       "      <td>-0.033796</td>\n",
       "      <td>91.65</td>\n",
       "      <td>0</td>\n",
       "    </tr>\n",
       "  </tbody>\n",
       "</table>\n",
       "<p>986 rows × 31 columns</p>\n",
       "</div>"
      ],
      "text/plain": [
       "            Time         V1         V2         V3        V4         V5  \\\n",
       "18466    29526.0   1.102804   2.829168  -3.932870  4.707691   2.937967   \n",
       "149357   91075.0  -1.855061   1.554964  -1.405809  0.669327  -0.280230   \n",
       "238366  149640.0   0.754316   2.379822  -5.137274  3.818392   0.043203   \n",
       "15225    26585.0 -19.856322  12.095893 -22.464083  6.115541 -15.148022   \n",
       "143188   85181.0  -3.003459   2.096150  -0.487030  3.069453  -1.774329   \n",
       "...          ...        ...        ...        ...       ...        ...   \n",
       "254219  156632.0   2.006389  -0.528727  -0.558014  0.069515  -0.491254   \n",
       "246267  153104.0  -0.720522   0.867849  -1.925609 -1.788049   3.332040   \n",
       "197297  131945.0  -0.576237   1.082302  -0.435705 -0.688156   1.374334   \n",
       "136382   81678.0  -1.076934   1.260707  -0.192460  1.233287  -3.242435   \n",
       "248007  153766.0   2.141214  -1.615703  -0.769484 -1.396589  -1.586283   \n",
       "\n",
       "              V6         V7         V8        V9  ...       V21       V22  \\\n",
       "18466  -1.800904   1.672734  -0.300240 -2.783011  ... -0.106994 -0.250050   \n",
       "149357  1.178652  -3.459979  -2.815155  1.242229  ... -0.095308  0.946629   \n",
       "238366 -1.285451  -1.766684   0.756711 -1.765722  ...  0.397058  0.141165   \n",
       "15225  -4.346724 -15.648507  13.276805 -3.974162  ...  1.750730 -1.409636   \n",
       "143188  0.251804  -4.328776  -2.425478 -0.985222  ...  0.163967  1.245648   \n",
       "...          ...        ...        ...       ...  ...       ...       ...   \n",
       "254219 -0.086976  -0.688956   0.042567  1.539668  ...  0.158294  0.651051   \n",
       "246267  2.873082   0.671837   1.035365 -1.145031  ...  0.272783  0.517922   \n",
       "197297 -0.907804   1.407457  -0.042162 -0.773974  ...  0.007138 -0.002345   \n",
       "136382  1.864497   4.031571  -1.951299 -0.376492  ...  0.504870  0.221750   \n",
       "248007 -0.915374  -1.060364  -0.265292 -1.095303  ... -0.116453  0.026060   \n",
       "\n",
       "             V23       V24       V25       V26       V27       V28  Amount  \\\n",
       "18466  -0.521627 -0.448950  1.291646  0.516327  0.009146  0.153318    0.68   \n",
       "149357 -0.297403 -0.368344  0.198731 -0.078591  0.366709  0.073767   38.76   \n",
       "238366  0.171985  0.394274 -0.444642 -0.263189  0.304703 -0.044362    2.00   \n",
       "15225  -0.809809  0.121397  1.350300 -0.224292  1.597621  0.476920   99.99   \n",
       "143188 -0.269241  0.537102 -0.220757 -0.059555  0.460710 -0.033551    2.00   \n",
       "...          ...       ...       ...       ...       ...       ...     ...   \n",
       "254219  0.126556  0.514068 -0.116418  0.107347  0.008454 -0.036399   17.95   \n",
       "246267 -0.386203  0.766883  0.598950  0.353061 -0.069111  0.002680   17.95   \n",
       "197297 -0.539525  0.689038  1.261377  0.815593  0.053435 -0.014078   19.33   \n",
       "136382 -0.185040  0.465599 -0.164749 -0.300267 -0.088894 -0.417848  721.00   \n",
       "248007  0.180167 -0.040696 -0.273398 -0.184220  0.006703 -0.033796   91.65   \n",
       "\n",
       "        Class  \n",
       "18466       1  \n",
       "149357      1  \n",
       "238366      1  \n",
       "15225       1  \n",
       "143188      1  \n",
       "...       ...  \n",
       "254219      0  \n",
       "246267      0  \n",
       "197297      0  \n",
       "136382      0  \n",
       "248007      0  \n",
       "\n",
       "[986 rows x 31 columns]"
      ]
     },
     "execution_count": 136,
     "metadata": {},
     "output_type": "execute_result"
    }
   ],
   "source": [
    "# We will perform undersampling exactly as done above, but we will add 100 synthetic \n",
    "# fraudulent transaction datapoints\n",
    "\n",
    "n_fraud_smote = len(train[train['Class'] == 1]) + 400\n",
    "class0_samples_smote = train[train['Class'] == 0].sample(n=n_fraud_smote, random_state=0)\n",
    "\n",
    "# Append to all fraud samples\n",
    "frauds_smote = train[train['Class'] == 1]\n",
    "train_smote = pd.concat([frauds_smote, class0_samples_smote], axis=0)\n",
    "train_smote"
   ]
  },
  {
   "cell_type": "code",
   "execution_count": 137,
   "metadata": {},
   "outputs": [
    {
     "data": {
      "text/plain": [
       "NearestNeighbors(algorithm='auto', leaf_size=30, metric='minkowski',\n",
       "                 metric_params=None, n_jobs=None, n_neighbors=5, p=2,\n",
       "                 radius=1.0)"
      ]
     },
     "execution_count": 137,
     "metadata": {},
     "output_type": "execute_result"
    }
   ],
   "source": [
    "# Fit a nearest neighbors model using sklearn\n",
    "from sklearn.neighbors import NearestNeighbors\n",
    "\n",
    "train_smote_frauds = train_smote[train_smote['Class'] == 1]\n",
    "knn = NearestNeighbors(n_neighbors=5)\n",
    "knn.fit(train_smote_frauds)"
   ]
  },
  {
   "cell_type": "markdown",
   "metadata": {},
   "source": [
    "The following function returns a list, where each list gives the 5 nearest neighbors of each point."
   ]
  },
  {
   "cell_type": "code",
   "execution_count": 138,
   "metadata": {},
   "outputs": [
    {
     "data": {
      "text/plain": [
       "array([[  0,  83,  11, 208, 153],\n",
       "       [  1,  93, 102, 143, 111],\n",
       "       [  2, 247, 278, 228,  49],\n",
       "       [  3, 271, 182, 274, 162],\n",
       "       [  4,   8, 145, 171, 214],\n",
       "       [  5, 263, 168, 244, 173],\n",
       "       [  6, 125,  95,  39, 127],\n",
       "       [  7, 214,   8,   4, 171],\n",
       "       [  8,   4, 171, 214, 145],\n",
       "       [  9, 184, 281, 231, 172]])"
      ]
     },
     "metadata": {},
     "output_type": "display_data"
    },
    {
     "name": "stdout",
     "output_type": "stream",
     "text": [
      "Length of nearest_neighbors_list: 293\n"
     ]
    }
   ],
   "source": [
    "nearest_neighbors_list = knn.kneighbors(train_smote_frauds)[1]\n",
    "display(nearest_neighbors_list[:10])\n",
    "print(\"Length of nearest_neighbors_list:\", len(nearest_neighbors_list))"
   ]
  },
  {
   "cell_type": "code",
   "execution_count": 139,
   "metadata": {},
   "outputs": [],
   "source": [
    "# Randomly select 100 indices\n",
    "np.random.seed(0)\n",
    "sample_inds = np.random.randint(low=0, high=293, size=400)\n",
    "smote_nn_sample = nearest_neighbors_list[sample_inds]\n",
    "\n",
    "smote_pairs = np.zeros((400, 2))\n",
    "# Randomly select one of the five nearest neighbors for each point\n",
    "for i in range(400):\n",
    "    rand_ind = np.random.randint(low=1, high=5)\n",
    "    smote_pairs[i] = [smote_nn_sample[i, 0], smote_nn_sample[i, rand_ind]]\n",
    "\n",
    "# Randomly select 100 numbers between 0 and 1\n",
    "sample_lambdas = np.random.uniform(low=0, high=1, size=400).reshape(400,1)"
   ]
  },
  {
   "cell_type": "markdown",
   "metadata": {},
   "source": [
    "Now, we use the formula $s=\\lambda x+(1-\\lambda)x'$ to select our new synthetic points."
   ]
  },
  {
   "cell_type": "code",
   "execution_count": 140,
   "metadata": {},
   "outputs": [
    {
     "data": {
      "text/html": [
       "<div>\n",
       "<style scoped>\n",
       "    .dataframe tbody tr th:only-of-type {\n",
       "        vertical-align: middle;\n",
       "    }\n",
       "\n",
       "    .dataframe tbody tr th {\n",
       "        vertical-align: top;\n",
       "    }\n",
       "\n",
       "    .dataframe thead th {\n",
       "        text-align: right;\n",
       "    }\n",
       "</style>\n",
       "<table border=\"1\" class=\"dataframe\">\n",
       "  <thead>\n",
       "    <tr style=\"text-align: right;\">\n",
       "      <th></th>\n",
       "      <th>Time</th>\n",
       "      <th>V1</th>\n",
       "      <th>V2</th>\n",
       "      <th>V3</th>\n",
       "      <th>V4</th>\n",
       "      <th>V5</th>\n",
       "      <th>V6</th>\n",
       "      <th>V7</th>\n",
       "      <th>V8</th>\n",
       "      <th>V9</th>\n",
       "      <th>...</th>\n",
       "      <th>V21</th>\n",
       "      <th>V22</th>\n",
       "      <th>V23</th>\n",
       "      <th>V24</th>\n",
       "      <th>V25</th>\n",
       "      <th>V26</th>\n",
       "      <th>V27</th>\n",
       "      <th>V28</th>\n",
       "      <th>Amount</th>\n",
       "      <th>Class</th>\n",
       "    </tr>\n",
       "  </thead>\n",
       "  <tbody>\n",
       "    <tr>\n",
       "      <td>0</td>\n",
       "      <td>7570.313565</td>\n",
       "      <td>0.219156</td>\n",
       "      <td>3.618396</td>\n",
       "      <td>-5.935302</td>\n",
       "      <td>5.990064</td>\n",
       "      <td>-0.123765</td>\n",
       "      <td>-3.144996</td>\n",
       "      <td>-2.313543</td>\n",
       "      <td>0.384292</td>\n",
       "      <td>-1.997734</td>\n",
       "      <td>...</td>\n",
       "      <td>0.421170</td>\n",
       "      <td>-0.426476</td>\n",
       "      <td>-0.156724</td>\n",
       "      <td>0.233443</td>\n",
       "      <td>0.442018</td>\n",
       "      <td>0.450754</td>\n",
       "      <td>0.694745</td>\n",
       "      <td>0.396941</td>\n",
       "      <td>1.000000</td>\n",
       "      <td>1.0</td>\n",
       "    </tr>\n",
       "    <tr>\n",
       "      <td>1</td>\n",
       "      <td>50788.995222</td>\n",
       "      <td>-9.037885</td>\n",
       "      <td>7.050088</td>\n",
       "      <td>-12.257938</td>\n",
       "      <td>4.233966</td>\n",
       "      <td>-7.129235</td>\n",
       "      <td>-3.355787</td>\n",
       "      <td>-7.964010</td>\n",
       "      <td>6.363295</td>\n",
       "      <td>-2.422891</td>\n",
       "      <td>...</td>\n",
       "      <td>0.924683</td>\n",
       "      <td>-0.798638</td>\n",
       "      <td>-0.083139</td>\n",
       "      <td>-0.043264</td>\n",
       "      <td>0.490092</td>\n",
       "      <td>-0.263013</td>\n",
       "      <td>1.161616</td>\n",
       "      <td>0.232114</td>\n",
       "      <td>99.990000</td>\n",
       "      <td>1.0</td>\n",
       "    </tr>\n",
       "    <tr>\n",
       "      <td>2</td>\n",
       "      <td>155749.351556</td>\n",
       "      <td>0.363518</td>\n",
       "      <td>3.079467</td>\n",
       "      <td>-5.099761</td>\n",
       "      <td>5.878839</td>\n",
       "      <td>0.549954</td>\n",
       "      <td>-1.737115</td>\n",
       "      <td>-1.265077</td>\n",
       "      <td>0.728815</td>\n",
       "      <td>-2.931922</td>\n",
       "      <td>...</td>\n",
       "      <td>0.107487</td>\n",
       "      <td>-0.690513</td>\n",
       "      <td>0.199769</td>\n",
       "      <td>-0.476871</td>\n",
       "      <td>-0.046350</td>\n",
       "      <td>0.129737</td>\n",
       "      <td>0.181965</td>\n",
       "      <td>-0.017247</td>\n",
       "      <td>1.978243</td>\n",
       "      <td>1.0</td>\n",
       "    </tr>\n",
       "    <tr>\n",
       "      <td>3</td>\n",
       "      <td>45717.409235</td>\n",
       "      <td>0.217675</td>\n",
       "      <td>0.744086</td>\n",
       "      <td>-0.851737</td>\n",
       "      <td>1.702032</td>\n",
       "      <td>-0.232961</td>\n",
       "      <td>-0.237724</td>\n",
       "      <td>-0.745812</td>\n",
       "      <td>0.444130</td>\n",
       "      <td>-0.246459</td>\n",
       "      <td>...</td>\n",
       "      <td>-0.019179</td>\n",
       "      <td>-0.607816</td>\n",
       "      <td>-0.105839</td>\n",
       "      <td>-0.692593</td>\n",
       "      <td>0.297961</td>\n",
       "      <td>-0.396614</td>\n",
       "      <td>0.163122</td>\n",
       "      <td>0.120951</td>\n",
       "      <td>70.927028</td>\n",
       "      <td>1.0</td>\n",
       "    </tr>\n",
       "    <tr>\n",
       "      <td>4</td>\n",
       "      <td>96667.332314</td>\n",
       "      <td>-14.040235</td>\n",
       "      <td>10.097698</td>\n",
       "      <td>-15.996132</td>\n",
       "      <td>9.980512</td>\n",
       "      <td>-10.908487</td>\n",
       "      <td>-0.409257</td>\n",
       "      <td>-18.522787</td>\n",
       "      <td>-3.963326</td>\n",
       "      <td>-6.750913</td>\n",
       "      <td>...</td>\n",
       "      <td>-3.424092</td>\n",
       "      <td>2.003286</td>\n",
       "      <td>1.109945</td>\n",
       "      <td>0.217444</td>\n",
       "      <td>-0.229696</td>\n",
       "      <td>0.271033</td>\n",
       "      <td>-2.605201</td>\n",
       "      <td>-0.404384</td>\n",
       "      <td>126.363523</td>\n",
       "      <td>1.0</td>\n",
       "    </tr>\n",
       "  </tbody>\n",
       "</table>\n",
       "<p>5 rows × 31 columns</p>\n",
       "</div>"
      ],
      "text/plain": [
       "            Time         V1         V2         V3        V4         V5  \\\n",
       "0    7570.313565   0.219156   3.618396  -5.935302  5.990064  -0.123765   \n",
       "1   50788.995222  -9.037885   7.050088 -12.257938  4.233966  -7.129235   \n",
       "2  155749.351556   0.363518   3.079467  -5.099761  5.878839   0.549954   \n",
       "3   45717.409235   0.217675   0.744086  -0.851737  1.702032  -0.232961   \n",
       "4   96667.332314 -14.040235  10.097698 -15.996132  9.980512 -10.908487   \n",
       "\n",
       "         V6         V7        V8        V9  ...       V21       V22       V23  \\\n",
       "0 -3.144996  -2.313543  0.384292 -1.997734  ...  0.421170 -0.426476 -0.156724   \n",
       "1 -3.355787  -7.964010  6.363295 -2.422891  ...  0.924683 -0.798638 -0.083139   \n",
       "2 -1.737115  -1.265077  0.728815 -2.931922  ...  0.107487 -0.690513  0.199769   \n",
       "3 -0.237724  -0.745812  0.444130 -0.246459  ... -0.019179 -0.607816 -0.105839   \n",
       "4 -0.409257 -18.522787 -3.963326 -6.750913  ... -3.424092  2.003286  1.109945   \n",
       "\n",
       "        V24       V25       V26       V27       V28      Amount  Class  \n",
       "0  0.233443  0.442018  0.450754  0.694745  0.396941    1.000000    1.0  \n",
       "1 -0.043264  0.490092 -0.263013  1.161616  0.232114   99.990000    1.0  \n",
       "2 -0.476871 -0.046350  0.129737  0.181965 -0.017247    1.978243    1.0  \n",
       "3 -0.692593  0.297961 -0.396614  0.163122  0.120951   70.927028    1.0  \n",
       "4  0.217444 -0.229696  0.271033 -2.605201 -0.404384  126.363523    1.0  \n",
       "\n",
       "[5 rows x 31 columns]"
      ]
     },
     "metadata": {},
     "output_type": "display_data"
    },
    {
     "name": "stdout",
     "output_type": "stream",
     "text": [
      "(400, 31)\n"
     ]
    }
   ],
   "source": [
    "smotes0 = train_smote.iloc[smote_pairs[:,0],:]\n",
    "smotes1 = train_smote.iloc[smote_pairs[:,1],:]\n",
    "smotes = sample_lambdas * np.array(smotes0) + (1-sample_lambdas) * np.array(smotes1)\n",
    "smotes = pd.DataFrame(smotes)\n",
    "smotes.columns = train_smote.columns\n",
    "display(smotes.head(5))\n",
    "print(smotes.shape)"
   ]
  },
  {
   "cell_type": "code",
   "execution_count": 141,
   "metadata": {},
   "outputs": [],
   "source": [
    "# Add the new synthetic datapoints to the dataframe!\n",
    "train_smote = pd.concat([train_smote, smotes], axis=0)"
   ]
  },
  {
   "cell_type": "code",
   "execution_count": 156,
   "metadata": {},
   "outputs": [
    {
     "name": "stdout",
     "output_type": "stream",
     "text": [
      "Fraction of fraudulent cases: 0.5\n"
     ]
    },
    {
     "data": {
      "text/html": [
       "<div>\n",
       "<style scoped>\n",
       "    .dataframe tbody tr th:only-of-type {\n",
       "        vertical-align: middle;\n",
       "    }\n",
       "\n",
       "    .dataframe tbody tr th {\n",
       "        vertical-align: top;\n",
       "    }\n",
       "\n",
       "    .dataframe thead th {\n",
       "        text-align: right;\n",
       "    }\n",
       "</style>\n",
       "<table border=\"1\" class=\"dataframe\">\n",
       "  <thead>\n",
       "    <tr style=\"text-align: right;\">\n",
       "      <th></th>\n",
       "      <th>V1</th>\n",
       "      <th>V3</th>\n",
       "      <th>V6</th>\n",
       "      <th>V7</th>\n",
       "      <th>V9</th>\n",
       "      <th>V10</th>\n",
       "      <th>V12</th>\n",
       "      <th>V14</th>\n",
       "      <th>V16</th>\n",
       "      <th>V17</th>\n",
       "      <th>V18</th>\n",
       "      <th>V2</th>\n",
       "      <th>V4</th>\n",
       "      <th>V11</th>\n",
       "    </tr>\n",
       "  </thead>\n",
       "  <tbody>\n",
       "    <tr>\n",
       "      <td>18466</td>\n",
       "      <td>1.102804</td>\n",
       "      <td>-3.932870</td>\n",
       "      <td>-1.800904</td>\n",
       "      <td>1.672734</td>\n",
       "      <td>-2.783011</td>\n",
       "      <td>-1.884842</td>\n",
       "      <td>-1.460471</td>\n",
       "      <td>-7.077361</td>\n",
       "      <td>2.493228</td>\n",
       "      <td>6.244987</td>\n",
       "      <td>2.971749</td>\n",
       "      <td>2.829168</td>\n",
       "      <td>4.707691</td>\n",
       "      <td>3.792565</td>\n",
       "    </tr>\n",
       "    <tr>\n",
       "      <td>149357</td>\n",
       "      <td>-1.855061</td>\n",
       "      <td>-1.405809</td>\n",
       "      <td>1.178652</td>\n",
       "      <td>-3.459979</td>\n",
       "      <td>1.242229</td>\n",
       "      <td>-4.156354</td>\n",
       "      <td>-5.122314</td>\n",
       "      <td>-3.103938</td>\n",
       "      <td>-2.425016</td>\n",
       "      <td>-3.960623</td>\n",
       "      <td>-0.125018</td>\n",
       "      <td>1.554964</td>\n",
       "      <td>0.669327</td>\n",
       "      <td>2.209441</td>\n",
       "    </tr>\n",
       "    <tr>\n",
       "      <td>238366</td>\n",
       "      <td>0.754316</td>\n",
       "      <td>-5.137274</td>\n",
       "      <td>-1.285451</td>\n",
       "      <td>-1.766684</td>\n",
       "      <td>-1.765722</td>\n",
       "      <td>-3.263007</td>\n",
       "      <td>-2.772349</td>\n",
       "      <td>-6.281094</td>\n",
       "      <td>-2.679171</td>\n",
       "      <td>-1.385557</td>\n",
       "      <td>0.249057</td>\n",
       "      <td>2.379822</td>\n",
       "      <td>3.818392</td>\n",
       "      <td>3.592797</td>\n",
       "    </tr>\n",
       "    <tr>\n",
       "      <td>15225</td>\n",
       "      <td>-19.856322</td>\n",
       "      <td>-22.464083</td>\n",
       "      <td>-4.346724</td>\n",
       "      <td>-15.648507</td>\n",
       "      <td>-3.974162</td>\n",
       "      <td>-8.859194</td>\n",
       "      <td>-8.088034</td>\n",
       "      <td>-8.578973</td>\n",
       "      <td>-6.947746</td>\n",
       "      <td>-13.472897</td>\n",
       "      <td>-4.940211</td>\n",
       "      <td>12.095893</td>\n",
       "      <td>6.115541</td>\n",
       "      <td>5.730816</td>\n",
       "    </tr>\n",
       "    <tr>\n",
       "      <td>143188</td>\n",
       "      <td>-3.003459</td>\n",
       "      <td>-0.487030</td>\n",
       "      <td>0.251804</td>\n",
       "      <td>-4.328776</td>\n",
       "      <td>-0.985222</td>\n",
       "      <td>-3.995211</td>\n",
       "      <td>-2.325179</td>\n",
       "      <td>-5.417499</td>\n",
       "      <td>-3.818086</td>\n",
       "      <td>-3.700707</td>\n",
       "      <td>-1.991412</td>\n",
       "      <td>2.096150</td>\n",
       "      <td>3.069453</td>\n",
       "      <td>1.880602</td>\n",
       "    </tr>\n",
       "    <tr>\n",
       "      <td>...</td>\n",
       "      <td>...</td>\n",
       "      <td>...</td>\n",
       "      <td>...</td>\n",
       "      <td>...</td>\n",
       "      <td>...</td>\n",
       "      <td>...</td>\n",
       "      <td>...</td>\n",
       "      <td>...</td>\n",
       "      <td>...</td>\n",
       "      <td>...</td>\n",
       "      <td>...</td>\n",
       "      <td>...</td>\n",
       "      <td>...</td>\n",
       "      <td>...</td>\n",
       "    </tr>\n",
       "    <tr>\n",
       "      <td>395</td>\n",
       "      <td>-4.303205</td>\n",
       "      <td>-5.047659</td>\n",
       "      <td>-1.298057</td>\n",
       "      <td>-6.839982</td>\n",
       "      <td>-5.059095</td>\n",
       "      <td>-6.805462</td>\n",
       "      <td>-7.833048</td>\n",
       "      <td>-7.781214</td>\n",
       "      <td>-7.365018</td>\n",
       "      <td>-13.612470</td>\n",
       "      <td>-4.942391</td>\n",
       "      <td>4.804413</td>\n",
       "      <td>5.628227</td>\n",
       "      <td>3.438068</td>\n",
       "    </tr>\n",
       "    <tr>\n",
       "      <td>396</td>\n",
       "      <td>0.462869</td>\n",
       "      <td>-4.093421</td>\n",
       "      <td>-0.507443</td>\n",
       "      <td>-1.484122</td>\n",
       "      <td>-1.488672</td>\n",
       "      <td>-2.621776</td>\n",
       "      <td>-2.456891</td>\n",
       "      <td>-4.524672</td>\n",
       "      <td>-2.500099</td>\n",
       "      <td>-2.705056</td>\n",
       "      <td>0.164718</td>\n",
       "      <td>1.504289</td>\n",
       "      <td>3.318317</td>\n",
       "      <td>2.957292</td>\n",
       "    </tr>\n",
       "    <tr>\n",
       "      <td>397</td>\n",
       "      <td>-3.491604</td>\n",
       "      <td>-4.934117</td>\n",
       "      <td>-1.149029</td>\n",
       "      <td>-4.882545</td>\n",
       "      <td>-1.398725</td>\n",
       "      <td>-4.441218</td>\n",
       "      <td>-6.218866</td>\n",
       "      <td>-4.666983</td>\n",
       "      <td>-2.314257</td>\n",
       "      <td>-2.145704</td>\n",
       "      <td>-1.620163</td>\n",
       "      <td>2.547884</td>\n",
       "      <td>5.554034</td>\n",
       "      <td>3.860400</td>\n",
       "    </tr>\n",
       "    <tr>\n",
       "      <td>398</td>\n",
       "      <td>-2.132094</td>\n",
       "      <td>-4.540522</td>\n",
       "      <td>-0.275621</td>\n",
       "      <td>-3.535886</td>\n",
       "      <td>-0.497826</td>\n",
       "      <td>-2.110571</td>\n",
       "      <td>-1.487931</td>\n",
       "      <td>-3.714372</td>\n",
       "      <td>-0.972718</td>\n",
       "      <td>-0.851424</td>\n",
       "      <td>0.221327</td>\n",
       "      <td>0.637243</td>\n",
       "      <td>1.836430</td>\n",
       "      <td>2.145323</td>\n",
       "    </tr>\n",
       "    <tr>\n",
       "      <td>399</td>\n",
       "      <td>-6.932889</td>\n",
       "      <td>-8.806352</td>\n",
       "      <td>-2.683707</td>\n",
       "      <td>-10.835822</td>\n",
       "      <td>-6.730622</td>\n",
       "      <td>-11.620530</td>\n",
       "      <td>-13.649322</td>\n",
       "      <td>-12.913360</td>\n",
       "      <td>-12.353233</td>\n",
       "      <td>-23.777420</td>\n",
       "      <td>-9.074120</td>\n",
       "      <td>4.946501</td>\n",
       "      <td>7.367754</td>\n",
       "      <td>6.805341</td>\n",
       "    </tr>\n",
       "  </tbody>\n",
       "</table>\n",
       "<p>1386 rows × 14 columns</p>\n",
       "</div>"
      ],
      "text/plain": [
       "               V1         V3        V6         V7        V9        V10  \\\n",
       "18466    1.102804  -3.932870 -1.800904   1.672734 -2.783011  -1.884842   \n",
       "149357  -1.855061  -1.405809  1.178652  -3.459979  1.242229  -4.156354   \n",
       "238366   0.754316  -5.137274 -1.285451  -1.766684 -1.765722  -3.263007   \n",
       "15225  -19.856322 -22.464083 -4.346724 -15.648507 -3.974162  -8.859194   \n",
       "143188  -3.003459  -0.487030  0.251804  -4.328776 -0.985222  -3.995211   \n",
       "...           ...        ...       ...        ...       ...        ...   \n",
       "395     -4.303205  -5.047659 -1.298057  -6.839982 -5.059095  -6.805462   \n",
       "396      0.462869  -4.093421 -0.507443  -1.484122 -1.488672  -2.621776   \n",
       "397     -3.491604  -4.934117 -1.149029  -4.882545 -1.398725  -4.441218   \n",
       "398     -2.132094  -4.540522 -0.275621  -3.535886 -0.497826  -2.110571   \n",
       "399     -6.932889  -8.806352 -2.683707 -10.835822 -6.730622 -11.620530   \n",
       "\n",
       "              V12        V14        V16        V17       V18         V2  \\\n",
       "18466   -1.460471  -7.077361   2.493228   6.244987  2.971749   2.829168   \n",
       "149357  -5.122314  -3.103938  -2.425016  -3.960623 -0.125018   1.554964   \n",
       "238366  -2.772349  -6.281094  -2.679171  -1.385557  0.249057   2.379822   \n",
       "15225   -8.088034  -8.578973  -6.947746 -13.472897 -4.940211  12.095893   \n",
       "143188  -2.325179  -5.417499  -3.818086  -3.700707 -1.991412   2.096150   \n",
       "...           ...        ...        ...        ...       ...        ...   \n",
       "395     -7.833048  -7.781214  -7.365018 -13.612470 -4.942391   4.804413   \n",
       "396     -2.456891  -4.524672  -2.500099  -2.705056  0.164718   1.504289   \n",
       "397     -6.218866  -4.666983  -2.314257  -2.145704 -1.620163   2.547884   \n",
       "398     -1.487931  -3.714372  -0.972718  -0.851424  0.221327   0.637243   \n",
       "399    -13.649322 -12.913360 -12.353233 -23.777420 -9.074120   4.946501   \n",
       "\n",
       "              V4       V11  \n",
       "18466   4.707691  3.792565  \n",
       "149357  0.669327  2.209441  \n",
       "238366  3.818392  3.592797  \n",
       "15225   6.115541  5.730816  \n",
       "143188  3.069453  1.880602  \n",
       "...          ...       ...  \n",
       "395     5.628227  3.438068  \n",
       "396     3.318317  2.957292  \n",
       "397     5.554034  3.860400  \n",
       "398     1.836430  2.145323  \n",
       "399     7.367754  6.805341  \n",
       "\n",
       "[1386 rows x 14 columns]"
      ]
     },
     "execution_count": 156,
     "metadata": {},
     "output_type": "execute_result"
    }
   ],
   "source": [
    "# We will keep the same predictor variables as above.\n",
    "\n",
    "X_train_smote, y_train_smote = design_matrix(train_smote), train_smote['Class']\n",
    "\n",
    "# Let's also ensure that the classes are indeed balanced, or at least nearly balanced.\n",
    "print(\"Fraction of fraudulent cases:\", np.sum(y_train_smote) / len(y_train_smote))"
   ]
  },
  {
   "cell_type": "code",
   "execution_count": 144,
   "metadata": {},
   "outputs": [
    {
     "name": "stderr",
     "output_type": "stream",
     "text": [
      "/Users/jcp/opt/anaconda3/lib/python3.7/site-packages/sklearn/linear_model/logistic.py:432: FutureWarning: Default solver will be changed to 'lbfgs' in 0.22. Specify a solver to silence this warning.\n",
      "  FutureWarning)\n"
     ]
    }
   ],
   "source": [
    "# Let us create a logistic regression model, fit it, and make predictions!\n",
    "clf_smote = LogisticRegression(random_state=0)\n",
    "clf_smote.fit(X_train_smote, y_train_smote)\n",
    "preds = clf_smote.predict(XX_val)"
   ]
  },
  {
   "cell_type": "code",
   "execution_count": 145,
   "metadata": {},
   "outputs": [
    {
     "name": "stdout",
     "output_type": "stream",
     "text": [
      "Accuracy: 0.9843047752808989\n"
     ]
    }
   ],
   "source": [
    "acc_val = np.mean(preds == y_val)\n",
    "print(\"Accuracy:\", acc_val)"
   ]
  },
  {
   "cell_type": "code",
   "execution_count": 146,
   "metadata": {},
   "outputs": [
    {
     "data": {
      "image/png": "[encoded data removed]",
      "text/plain": [
       "<Figure size 648x432 with 1 Axes>"
      ]
     },
     "metadata": {},
     "output_type": "display_data"
    },
    {
     "data": {
      "image/png": "[encoded data removed]",
      "text/plain": [
       "<Figure size 648x432 with 1 Axes>"
      ]
     },
     "metadata": {},
     "output_type": "display_data"
    },
    {
     "name": "stdout",
     "output_type": "stream",
     "text": [
      "AUC for ROC: 0.9575169721059481\n",
      "AUC for precision-recall: 0.7968859425385454\n"
     ]
    }
   ],
   "source": [
    "probs = clf_smote.predict_proba(XX_val)\n",
    "curve_eval(y_val, probs[:,1])"
   ]
  },
  {
   "cell_type": "code",
   "execution_count": 147,
   "metadata": {},
   "outputs": [
    {
     "data": {
      "image/png": "[encoded data removed]",
      "text/plain": [
       "<Figure size 648x504 with 2 Axes>"
      ]
     },
     "metadata": {},
     "output_type": "display_data"
    }
   ],
   "source": [
    "make_confusion_matrix(y_val, preds)"
   ]
  },
  {
   "cell_type": "markdown",
   "metadata": {},
   "source": [
    "It looks like this is the same performance in terms of recall as last time, but the precision is reasonably better. Let's try to tune the hyperparameters to see if there's anything better."
   ]
  },
  {
   "cell_type": "code",
   "execution_count": 148,
   "metadata": {},
   "outputs": [
    {
     "name": "stdout",
     "output_type": "stream",
     "text": [
      "Threshold: 0.4 C: 0.01    Recall: 0.87    Precision: 0.11\n",
      "Threshold: 0.5 C: 0.1    Recall: 0.87    Precision: 0.11\n",
      "Threshold: 0.6 C: 1    Recall: 0.87    Precision: 0.12\n",
      "Threshold: 0.6 C: 10    Recall: 0.87    Precision: 0.11\n",
      "Threshold: 0.6 C: 100    Recall: 0.87    Precision: 0.11\n",
      "Threshold: 0.7 C: 10    Recall: 0.87    Precision: 0.14\n",
      "Threshold: 0.7 C: 100    Recall: 0.87    Precision: 0.13\n"
     ]
    }
   ],
   "source": [
    "threshold_reg_grid_search(X_train_smote, y_train_smote, XX_val, y_val, thresholds, c_vals)"
   ]
  },
  {
   "cell_type": "markdown",
   "metadata": {},
   "source": [
    "We see that the best hyperparameters on our validation set were given by threshold $=0.7,$ and $C=10.$ Sadly, SMOTE here did not significantly increase performance, but let us do a final check on the test set:"
   ]
  },
  {
   "cell_type": "code",
   "execution_count": 149,
   "metadata": {},
   "outputs": [
    {
     "data": {
      "image/png": "[encoded data removed]",
      "text/plain": [
       "<Figure size 648x504 with 2 Axes>"
      ]
     },
     "metadata": {},
     "output_type": "display_data"
    }
   ],
   "source": [
    "clf_smote_opt = LogisticRegression(C=10, random_state=0, solver='lbfgs')\n",
    "clf_smote_opt.fit(X_train_smote, y_train_smote)\n",
    "probs_test = clf_smote_opt.predict_proba(design_matrix(X_test))\n",
    "preds_test = np.where(probs_test[:,1] > 0.7, 1, 0)\n",
    "make_confusion_matrix(y_test, preds_test)"
   ]
  },
  {
   "cell_type": "markdown",
   "metadata": {},
   "source": [
    "The recall turned out to be exactly the same: $84/(84+13)=86.6\\%,$ but the precision is also around the same. Doing the calculations, it seems that about $0.9\\%$ of perfectly fine credit card transactions will be flagged as possibly fraudulent, so the company will have to find ways for customers to easily verify their transactions."
   ]
  },
  {
   "cell_type": "markdown",
   "metadata": {},
   "source": [
    "### Logistic Regression with LASSO\n",
    "\n",
    "Finally, let's check out the performance of logistic regression with L1-penalty. Now recall that L1 regularization is able to zero-out variables if they are insufficiently important to the model. This will depend on the hyperparameter $C$ in the loss function. Because of this, we can train and test out this model by using all the variables."
   ]
  },
  {
   "cell_type": "code",
   "execution_count": 221,
   "metadata": {},
   "outputs": [],
   "source": [
    "trainsmote = train_smote.drop(['Class'], axis=1)\n",
    "Xdev = X_val.drop(['Time', 'Amount'], axis=1)"
   ]
  },
  {
   "cell_type": "code",
   "execution_count": 224,
   "metadata": {
    "scrolled": true
   },
   "outputs": [
    {
     "name": "stderr",
     "output_type": "stream",
     "text": [
      "/Users/jcp/opt/anaconda3/lib/python3.7/site-packages/sklearn/linear_model/logistic.py:432: FutureWarning: Default solver will be changed to 'lbfgs' in 0.22. Specify a solver to silence this warning.\n",
      "  FutureWarning)\n",
      "/Users/jcp/opt/anaconda3/lib/python3.7/site-packages/sklearn/linear_model/logistic.py:432: FutureWarning: Default solver will be changed to 'lbfgs' in 0.22. Specify a solver to silence this warning.\n",
      "  FutureWarning)\n",
      "/Users/jcp/opt/anaconda3/lib/python3.7/site-packages/sklearn/linear_model/logistic.py:432: FutureWarning: Default solver will be changed to 'lbfgs' in 0.22. Specify a solver to silence this warning.\n",
      "  FutureWarning)\n",
      "/Users/jcp/opt/anaconda3/lib/python3.7/site-packages/sklearn/linear_model/logistic.py:432: FutureWarning: Default solver will be changed to 'lbfgs' in 0.22. Specify a solver to silence this warning.\n",
      "  FutureWarning)\n",
      "/Users/jcp/opt/anaconda3/lib/python3.7/site-packages/sklearn/linear_model/logistic.py:432: FutureWarning: Default solver will be changed to 'lbfgs' in 0.22. Specify a solver to silence this warning.\n",
      "  FutureWarning)\n",
      "/Users/jcp/opt/anaconda3/lib/python3.7/site-packages/sklearn/linear_model/logistic.py:432: FutureWarning: Default solver will be changed to 'lbfgs' in 0.22. Specify a solver to silence this warning.\n",
      "  FutureWarning)\n",
      "/Users/jcp/opt/anaconda3/lib/python3.7/site-packages/sklearn/linear_model/logistic.py:432: FutureWarning: Default solver will be changed to 'lbfgs' in 0.22. Specify a solver to silence this warning.\n",
      "  FutureWarning)\n",
      "/Users/jcp/opt/anaconda3/lib/python3.7/site-packages/sklearn/linear_model/logistic.py:432: FutureWarning: Default solver will be changed to 'lbfgs' in 0.22. Specify a solver to silence this warning.\n",
      "  FutureWarning)\n",
      "/Users/jcp/opt/anaconda3/lib/python3.7/site-packages/sklearn/linear_model/logistic.py:432: FutureWarning: Default solver will be changed to 'lbfgs' in 0.22. Specify a solver to silence this warning.\n",
      "  FutureWarning)\n",
      "/Users/jcp/opt/anaconda3/lib/python3.7/site-packages/sklearn/linear_model/logistic.py:432: FutureWarning: Default solver will be changed to 'lbfgs' in 0.22. Specify a solver to silence this warning.\n",
      "  FutureWarning)\n",
      "/Users/jcp/opt/anaconda3/lib/python3.7/site-packages/sklearn/linear_model/logistic.py:432: FutureWarning: Default solver will be changed to 'lbfgs' in 0.22. Specify a solver to silence this warning.\n",
      "  FutureWarning)\n",
      "/Users/jcp/opt/anaconda3/lib/python3.7/site-packages/sklearn/linear_model/logistic.py:432: FutureWarning: Default solver will be changed to 'lbfgs' in 0.22. Specify a solver to silence this warning.\n",
      "  FutureWarning)\n",
      "/Users/jcp/opt/anaconda3/lib/python3.7/site-packages/sklearn/linear_model/logistic.py:432: FutureWarning: Default solver will be changed to 'lbfgs' in 0.22. Specify a solver to silence this warning.\n",
      "  FutureWarning)\n",
      "/Users/jcp/opt/anaconda3/lib/python3.7/site-packages/sklearn/linear_model/logistic.py:432: FutureWarning: Default solver will be changed to 'lbfgs' in 0.22. Specify a solver to silence this warning.\n",
      "  FutureWarning)\n",
      "/Users/jcp/opt/anaconda3/lib/python3.7/site-packages/sklearn/linear_model/logistic.py:432: FutureWarning: Default solver will be changed to 'lbfgs' in 0.22. Specify a solver to silence this warning.\n",
      "  FutureWarning)\n",
      "/Users/jcp/opt/anaconda3/lib/python3.7/site-packages/sklearn/linear_model/logistic.py:432: FutureWarning: Default solver will be changed to 'lbfgs' in 0.22. Specify a solver to silence this warning.\n",
      "  FutureWarning)\n",
      "/Users/jcp/opt/anaconda3/lib/python3.7/site-packages/sklearn/linear_model/logistic.py:432: FutureWarning: Default solver will be changed to 'lbfgs' in 0.22. Specify a solver to silence this warning.\n",
      "  FutureWarning)\n",
      "/Users/jcp/opt/anaconda3/lib/python3.7/site-packages/sklearn/linear_model/logistic.py:432: FutureWarning: Default solver will be changed to 'lbfgs' in 0.22. Specify a solver to silence this warning.\n",
      "  FutureWarning)\n",
      "/Users/jcp/opt/anaconda3/lib/python3.7/site-packages/sklearn/linear_model/logistic.py:432: FutureWarning: Default solver will be changed to 'lbfgs' in 0.22. Specify a solver to silence this warning.\n",
      "  FutureWarning)\n",
      "/Users/jcp/opt/anaconda3/lib/python3.7/site-packages/sklearn/linear_model/logistic.py:432: FutureWarning: Default solver will be changed to 'lbfgs' in 0.22. Specify a solver to silence this warning.\n",
      "  FutureWarning)\n",
      "/Users/jcp/opt/anaconda3/lib/python3.7/site-packages/sklearn/linear_model/logistic.py:432: FutureWarning: Default solver will be changed to 'lbfgs' in 0.22. Specify a solver to silence this warning.\n",
      "  FutureWarning)\n",
      "/Users/jcp/opt/anaconda3/lib/python3.7/site-packages/sklearn/linear_model/logistic.py:432: FutureWarning: Default solver will be changed to 'lbfgs' in 0.22. Specify a solver to silence this warning.\n",
      "  FutureWarning)\n",
      "/Users/jcp/opt/anaconda3/lib/python3.7/site-packages/sklearn/linear_model/logistic.py:432: FutureWarning: Default solver will be changed to 'lbfgs' in 0.22. Specify a solver to silence this warning.\n",
      "  FutureWarning)\n",
      "/Users/jcp/opt/anaconda3/lib/python3.7/site-packages/sklearn/linear_model/logistic.py:432: FutureWarning: Default solver will be changed to 'lbfgs' in 0.22. Specify a solver to silence this warning.\n",
      "  FutureWarning)\n",
      "/Users/jcp/opt/anaconda3/lib/python3.7/site-packages/sklearn/linear_model/logistic.py:432: FutureWarning: Default solver will be changed to 'lbfgs' in 0.22. Specify a solver to silence this warning.\n",
      "  FutureWarning)\n",
      "/Users/jcp/opt/anaconda3/lib/python3.7/site-packages/sklearn/linear_model/logistic.py:432: FutureWarning: Default solver will be changed to 'lbfgs' in 0.22. Specify a solver to silence this warning.\n",
      "  FutureWarning)\n",
      "/Users/jcp/opt/anaconda3/lib/python3.7/site-packages/sklearn/linear_model/logistic.py:432: FutureWarning: Default solver will be changed to 'lbfgs' in 0.22. Specify a solver to silence this warning.\n",
      "  FutureWarning)\n",
      "/Users/jcp/opt/anaconda3/lib/python3.7/site-packages/sklearn/linear_model/logistic.py:432: FutureWarning: Default solver will be changed to 'lbfgs' in 0.22. Specify a solver to silence this warning.\n",
      "  FutureWarning)\n",
      "/Users/jcp/opt/anaconda3/lib/python3.7/site-packages/sklearn/linear_model/logistic.py:432: FutureWarning: Default solver will be changed to 'lbfgs' in 0.22. Specify a solver to silence this warning.\n",
      "  FutureWarning)\n",
      "/Users/jcp/opt/anaconda3/lib/python3.7/site-packages/sklearn/linear_model/logistic.py:432: FutureWarning: Default solver will be changed to 'lbfgs' in 0.22. Specify a solver to silence this warning.\n",
      "  FutureWarning)\n"
     ]
    },
    {
     "name": "stdout",
     "output_type": "stream",
     "text": [
      "Threshold: 0.6 C: 0.01    Recall: 0.86    Precision: 0.13\n",
      "Threshold: 0.6 C: 0.1    Recall: 0.86    Precision: 0.12\n",
      "Threshold: 0.7 C: 0.1    Recall: 0.86    Precision: 0.16\n",
      "Threshold: 0.7 C: 1    Recall: 0.86    Precision: 0.13\n",
      "Threshold: 0.7 C: 10    Recall: 0.86    Precision: 0.12\n"
     ]
    },
    {
     "name": "stderr",
     "output_type": "stream",
     "text": [
      "/Users/jcp/opt/anaconda3/lib/python3.7/site-packages/sklearn/linear_model/logistic.py:432: FutureWarning: Default solver will be changed to 'lbfgs' in 0.22. Specify a solver to silence this warning.\n",
      "  FutureWarning)\n",
      "/Users/jcp/opt/anaconda3/lib/python3.7/site-packages/sklearn/linear_model/logistic.py:432: FutureWarning: Default solver will be changed to 'lbfgs' in 0.22. Specify a solver to silence this warning.\n",
      "  FutureWarning)\n",
      "/Users/jcp/opt/anaconda3/lib/python3.7/site-packages/sklearn/linear_model/logistic.py:432: FutureWarning: Default solver will be changed to 'lbfgs' in 0.22. Specify a solver to silence this warning.\n",
      "  FutureWarning)\n",
      "/Users/jcp/opt/anaconda3/lib/python3.7/site-packages/sklearn/linear_model/logistic.py:432: FutureWarning: Default solver will be changed to 'lbfgs' in 0.22. Specify a solver to silence this warning.\n",
      "  FutureWarning)\n",
      "/Users/jcp/opt/anaconda3/lib/python3.7/site-packages/sklearn/linear_model/logistic.py:432: FutureWarning: Default solver will be changed to 'lbfgs' in 0.22. Specify a solver to silence this warning.\n",
      "  FutureWarning)\n",
      "/Users/jcp/opt/anaconda3/lib/python3.7/site-packages/sklearn/linear_model/logistic.py:432: FutureWarning: Default solver will be changed to 'lbfgs' in 0.22. Specify a solver to silence this warning.\n",
      "  FutureWarning)\n",
      "/Users/jcp/opt/anaconda3/lib/python3.7/site-packages/sklearn/linear_model/logistic.py:432: FutureWarning: Default solver will be changed to 'lbfgs' in 0.22. Specify a solver to silence this warning.\n",
      "  FutureWarning)\n",
      "/Users/jcp/opt/anaconda3/lib/python3.7/site-packages/sklearn/linear_model/logistic.py:432: FutureWarning: Default solver will be changed to 'lbfgs' in 0.22. Specify a solver to silence this warning.\n",
      "  FutureWarning)\n",
      "/Users/jcp/opt/anaconda3/lib/python3.7/site-packages/sklearn/linear_model/logistic.py:432: FutureWarning: Default solver will be changed to 'lbfgs' in 0.22. Specify a solver to silence this warning.\n",
      "  FutureWarning)\n",
      "/Users/jcp/opt/anaconda3/lib/python3.7/site-packages/sklearn/linear_model/logistic.py:432: FutureWarning: Default solver will be changed to 'lbfgs' in 0.22. Specify a solver to silence this warning.\n",
      "  FutureWarning)\n"
     ]
    },
    {
     "name": "stdout",
     "output_type": "stream",
     "text": [
      "Threshold: 0.7 C: 100    Recall: 0.86    Precision: 0.12\n",
      "Threshold: 0.8 C: 1    Recall: 0.86    Precision: 0.16\n",
      "Threshold: 0.8 C: 10    Recall: 0.86    Precision: 0.16\n",
      "Threshold: 0.8 C: 100    Recall: 0.86    Precision: 0.15\n",
      "Threshold: 0.9 C: 10    Recall: 0.86    Precision: 0.21\n",
      "Threshold: 0.9 C: 100    Recall: 0.86    Precision: 0.2\n"
     ]
    },
    {
     "name": "stderr",
     "output_type": "stream",
     "text": [
      "/Users/jcp/opt/anaconda3/lib/python3.7/site-packages/sklearn/linear_model/logistic.py:432: FutureWarning: Default solver will be changed to 'lbfgs' in 0.22. Specify a solver to silence this warning.\n",
      "  FutureWarning)\n",
      "/Users/jcp/opt/anaconda3/lib/python3.7/site-packages/sklearn/linear_model/logistic.py:432: FutureWarning: Default solver will be changed to 'lbfgs' in 0.22. Specify a solver to silence this warning.\n",
      "  FutureWarning)\n",
      "/Users/jcp/opt/anaconda3/lib/python3.7/site-packages/sklearn/linear_model/logistic.py:432: FutureWarning: Default solver will be changed to 'lbfgs' in 0.22. Specify a solver to silence this warning.\n",
      "  FutureWarning)\n",
      "/Users/jcp/opt/anaconda3/lib/python3.7/site-packages/sklearn/linear_model/logistic.py:432: FutureWarning: Default solver will be changed to 'lbfgs' in 0.22. Specify a solver to silence this warning.\n",
      "  FutureWarning)\n",
      "/Users/jcp/opt/anaconda3/lib/python3.7/site-packages/sklearn/linear_model/logistic.py:432: FutureWarning: Default solver will be changed to 'lbfgs' in 0.22. Specify a solver to silence this warning.\n",
      "  FutureWarning)\n"
     ]
    }
   ],
   "source": [
    "threshold_reg_grid_search(trainsmote, y_train_smote, Xdev, y_val, thresholds, c_vals, penalty='l1')"
   ]
  },
  {
   "cell_type": "markdown",
   "metadata": {},
   "source": [
    "It seems that the optimal values for the hyperparameters are with $C=10$ and threshold equal to $0.9.$ The final result on our test set is the following:"
   ]
  },
  {
   "cell_type": "code",
   "execution_count": 226,
   "metadata": {},
   "outputs": [
    {
     "name": "stderr",
     "output_type": "stream",
     "text": [
      "/Users/jcp/opt/anaconda3/lib/python3.7/site-packages/sklearn/linear_model/logistic.py:432: FutureWarning: Default solver will be changed to 'lbfgs' in 0.22. Specify a solver to silence this warning.\n",
      "  FutureWarning)\n"
     ]
    },
    {
     "data": {
      "image/png": "[encoded data removed]",
      "text/plain": [
       "<Figure size 648x504 with 2 Axes>"
      ]
     },
     "metadata": {},
     "output_type": "display_data"
    }
   ],
   "source": [
    "clf_smote_lasso_opt = LogisticRegression(C=10, random_state=0, penalty='l1')\n",
    "clf_smote_lasso_opt.fit(trainsmote, y_train_smote)\n",
    "probs_test = clf_smote_lasso_opt.predict_proba(X_test.drop(['Time', 'Amount'], axis=1))\n",
    "preds_test = np.where(probs_test[:,1] > 0.9, 1, 0)\n",
    "make_confusion_matrix(y_test, preds_test)"
   ]
  },
  {
   "cell_type": "markdown",
   "metadata": {},
   "source": [
    "This is the best performance we have seen so far! The recall is $85/97=87.6\\%,$ but the precision has increased substantially to $85/419=20.2\\%.$ Thankfully, now only about $0.59\\%$ of regular transactions will be flagged as fraudulent. In other words, about 1 in 170 regular transactions will be falsely marked as fraud. On the other hand, there are still about $12\\%$ of fraudulent transactions being missed, so a more complex model should be considered. In the end, a simple model such as logistic regression with LASSO and a technique such as SMOTE is good enough for this performance! \n",
    "\n",
    "There is no doubt that more expressive models (random forests, neural networks) are bound to do better. A good next step is an error analysis: perhaps there is a pattern in the examples that are incorrectly labeled."
   ]
  },
  {
   "cell_type": "markdown",
   "metadata": {},
   "source": [
    "### References\n",
    "\n",
    "Blagus, R., Lusa, L. SMOTE for high-dimensional class-imbalanced data. BMC Bioinformatics 14, 106 (2013). https://doi.org/10.1186/1471-2105-14-106"
   ]
  },
  {
   "cell_type": "code",
   "execution_count": null,
   "metadata": {},
   "outputs": [],
   "source": []
  }
 ],
 "metadata": {
  "kernelspec": {
   "display_name": "Python 3",
   "language": "python",
   "name": "python3"
  },
  "language_info": {
   "codemirror_mode": {
    "name": "ipython",
    "version": 3
   },
   "file_extension": ".py",
   "mimetype": "text/x-python",
   "name": "python",
   "nbconvert_exporter": "python",
   "pygments_lexer": "ipython3",
   "version": "3.7.4"
  }
 },
 "nbformat": 4,
 "nbformat_minor": 2
}
