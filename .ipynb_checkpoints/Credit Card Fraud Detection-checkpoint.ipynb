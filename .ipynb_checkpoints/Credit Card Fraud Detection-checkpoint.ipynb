{
 "cells": [
  {
   "cell_type": "markdown",
   "metadata": {},
   "source": [
    "# Credit Card Fraud Detection\n",
    "\n",
    "We obtain credit card data where each datapoint represents a specific transaction. Due to privacy concerns, a PCA is performed, and we are only given 28 dimensions, in addition to two quantitative variables. We wish to build a model that will predict whether a particular transaction was fraudulent or not.\n",
    "\n",
    "Almost everyone uses a credit card nowadays, and security is a very important issue to both the consumers and the credit card companies. Fraudulent transactions can really disrupt a consumer's finances and day-to-day life. A good predictor can automatically decide whether a transaction is fraudulent, without having to cause too much trouble on the consumer's part.\n",
    "\n",
    "As we will see, the data is highly unbalanced, so using accuracy might lead to a model that simply predicts that all transactions are not fraud. We probably want to focus more on recall that precision, since fraudulent transactions are very rare, and a false positive case is usually easy to resolve. Of course, we shouldn't bother consumers with too many false cases of credit card fraud. We will look both at the ROC curve and precision-recall curve, but the latter may be more useful due to the imbalanced nature of the dataset.\n",
    "\n",
    "### Dataset:\n",
    "This is a Kaggle project, so the data can be found here: https://www.kaggle.com/mlg-ulb/creditcardfraud. \n",
    "\n",
    "There are two quantitative variables, `time` and `Amount`, where `time` is the number of seconds since the first transaction in the dataset (`time = 0`). `Amount` is the dollar amount of the transaction. `Class` is a binary variable that indicates whether a particular transaction was fraud or not. The rest of the variables, `V1`-`V28`, are the resulting dimensions after a PCA was performed on the original data."
   ]
  },
  {
   "cell_type": "code",
   "execution_count": 1,
   "metadata": {},
   "outputs": [],
   "source": [
    "import numpy as np\n",
    "import pandas as pd\n",
    "import matplotlib.pyplot as plt\n",
    "import seaborn as sns"
   ]
  },
  {
   "cell_type": "code",
   "execution_count": 2,
   "metadata": {},
   "outputs": [
    {
     "data": {
      "text/html": [
       "<div>\n",
       "<style scoped>\n",
       "    .dataframe tbody tr th:only-of-type {\n",
       "        vertical-align: middle;\n",
       "    }\n",
       "\n",
       "    .dataframe tbody tr th {\n",
       "        vertical-align: top;\n",
       "    }\n",
       "\n",
       "    .dataframe thead th {\n",
       "        text-align: right;\n",
       "    }\n",
       "</style>\n",
       "<table border=\"1\" class=\"dataframe\">\n",
       "  <thead>\n",
       "    <tr style=\"text-align: right;\">\n",
       "      <th></th>\n",
       "      <th>Time</th>\n",
       "      <th>V1</th>\n",
       "      <th>V2</th>\n",
       "      <th>V3</th>\n",
       "      <th>V4</th>\n",
       "      <th>V5</th>\n",
       "      <th>V6</th>\n",
       "      <th>V7</th>\n",
       "      <th>V8</th>\n",
       "      <th>V9</th>\n",
       "      <th>...</th>\n",
       "      <th>V21</th>\n",
       "      <th>V22</th>\n",
       "      <th>V23</th>\n",
       "      <th>V24</th>\n",
       "      <th>V25</th>\n",
       "      <th>V26</th>\n",
       "      <th>V27</th>\n",
       "      <th>V28</th>\n",
       "      <th>Amount</th>\n",
       "      <th>Class</th>\n",
       "    </tr>\n",
       "  </thead>\n",
       "  <tbody>\n",
       "    <tr>\n",
       "      <td>0</td>\n",
       "      <td>0.0</td>\n",
       "      <td>-1.359807</td>\n",
       "      <td>-0.072781</td>\n",
       "      <td>2.536347</td>\n",
       "      <td>1.378155</td>\n",
       "      <td>-0.338321</td>\n",
       "      <td>0.462388</td>\n",
       "      <td>0.239599</td>\n",
       "      <td>0.098698</td>\n",
       "      <td>0.363787</td>\n",
       "      <td>...</td>\n",
       "      <td>-0.018307</td>\n",
       "      <td>0.277838</td>\n",
       "      <td>-0.110474</td>\n",
       "      <td>0.066928</td>\n",
       "      <td>0.128539</td>\n",
       "      <td>-0.189115</td>\n",
       "      <td>0.133558</td>\n",
       "      <td>-0.021053</td>\n",
       "      <td>149.62</td>\n",
       "      <td>0</td>\n",
       "    </tr>\n",
       "    <tr>\n",
       "      <td>1</td>\n",
       "      <td>0.0</td>\n",
       "      <td>1.191857</td>\n",
       "      <td>0.266151</td>\n",
       "      <td>0.166480</td>\n",
       "      <td>0.448154</td>\n",
       "      <td>0.060018</td>\n",
       "      <td>-0.082361</td>\n",
       "      <td>-0.078803</td>\n",
       "      <td>0.085102</td>\n",
       "      <td>-0.255425</td>\n",
       "      <td>...</td>\n",
       "      <td>-0.225775</td>\n",
       "      <td>-0.638672</td>\n",
       "      <td>0.101288</td>\n",
       "      <td>-0.339846</td>\n",
       "      <td>0.167170</td>\n",
       "      <td>0.125895</td>\n",
       "      <td>-0.008983</td>\n",
       "      <td>0.014724</td>\n",
       "      <td>2.69</td>\n",
       "      <td>0</td>\n",
       "    </tr>\n",
       "    <tr>\n",
       "      <td>2</td>\n",
       "      <td>1.0</td>\n",
       "      <td>-1.358354</td>\n",
       "      <td>-1.340163</td>\n",
       "      <td>1.773209</td>\n",
       "      <td>0.379780</td>\n",
       "      <td>-0.503198</td>\n",
       "      <td>1.800499</td>\n",
       "      <td>0.791461</td>\n",
       "      <td>0.247676</td>\n",
       "      <td>-1.514654</td>\n",
       "      <td>...</td>\n",
       "      <td>0.247998</td>\n",
       "      <td>0.771679</td>\n",
       "      <td>0.909412</td>\n",
       "      <td>-0.689281</td>\n",
       "      <td>-0.327642</td>\n",
       "      <td>-0.139097</td>\n",
       "      <td>-0.055353</td>\n",
       "      <td>-0.059752</td>\n",
       "      <td>378.66</td>\n",
       "      <td>0</td>\n",
       "    </tr>\n",
       "    <tr>\n",
       "      <td>3</td>\n",
       "      <td>1.0</td>\n",
       "      <td>-0.966272</td>\n",
       "      <td>-0.185226</td>\n",
       "      <td>1.792993</td>\n",
       "      <td>-0.863291</td>\n",
       "      <td>-0.010309</td>\n",
       "      <td>1.247203</td>\n",
       "      <td>0.237609</td>\n",
       "      <td>0.377436</td>\n",
       "      <td>-1.387024</td>\n",
       "      <td>...</td>\n",
       "      <td>-0.108300</td>\n",
       "      <td>0.005274</td>\n",
       "      <td>-0.190321</td>\n",
       "      <td>-1.175575</td>\n",
       "      <td>0.647376</td>\n",
       "      <td>-0.221929</td>\n",
       "      <td>0.062723</td>\n",
       "      <td>0.061458</td>\n",
       "      <td>123.50</td>\n",
       "      <td>0</td>\n",
       "    </tr>\n",
       "    <tr>\n",
       "      <td>4</td>\n",
       "      <td>2.0</td>\n",
       "      <td>-1.158233</td>\n",
       "      <td>0.877737</td>\n",
       "      <td>1.548718</td>\n",
       "      <td>0.403034</td>\n",
       "      <td>-0.407193</td>\n",
       "      <td>0.095921</td>\n",
       "      <td>0.592941</td>\n",
       "      <td>-0.270533</td>\n",
       "      <td>0.817739</td>\n",
       "      <td>...</td>\n",
       "      <td>-0.009431</td>\n",
       "      <td>0.798278</td>\n",
       "      <td>-0.137458</td>\n",
       "      <td>0.141267</td>\n",
       "      <td>-0.206010</td>\n",
       "      <td>0.502292</td>\n",
       "      <td>0.219422</td>\n",
       "      <td>0.215153</td>\n",
       "      <td>69.99</td>\n",
       "      <td>0</td>\n",
       "    </tr>\n",
       "  </tbody>\n",
       "</table>\n",
       "<p>5 rows × 31 columns</p>\n",
       "</div>"
      ],
      "text/plain": [
       "   Time        V1        V2        V3        V4        V5        V6        V7  \\\n",
       "0   0.0 -1.359807 -0.072781  2.536347  1.378155 -0.338321  0.462388  0.239599   \n",
       "1   0.0  1.191857  0.266151  0.166480  0.448154  0.060018 -0.082361 -0.078803   \n",
       "2   1.0 -1.358354 -1.340163  1.773209  0.379780 -0.503198  1.800499  0.791461   \n",
       "3   1.0 -0.966272 -0.185226  1.792993 -0.863291 -0.010309  1.247203  0.237609   \n",
       "4   2.0 -1.158233  0.877737  1.548718  0.403034 -0.407193  0.095921  0.592941   \n",
       "\n",
       "         V8        V9  ...       V21       V22       V23       V24       V25  \\\n",
       "0  0.098698  0.363787  ... -0.018307  0.277838 -0.110474  0.066928  0.128539   \n",
       "1  0.085102 -0.255425  ... -0.225775 -0.638672  0.101288 -0.339846  0.167170   \n",
       "2  0.247676 -1.514654  ...  0.247998  0.771679  0.909412 -0.689281 -0.327642   \n",
       "3  0.377436 -1.387024  ... -0.108300  0.005274 -0.190321 -1.175575  0.647376   \n",
       "4 -0.270533  0.817739  ... -0.009431  0.798278 -0.137458  0.141267 -0.206010   \n",
       "\n",
       "        V26       V27       V28  Amount  Class  \n",
       "0 -0.189115  0.133558 -0.021053  149.62      0  \n",
       "1  0.125895 -0.008983  0.014724    2.69      0  \n",
       "2 -0.139097 -0.055353 -0.059752  378.66      0  \n",
       "3 -0.221929  0.062723  0.061458  123.50      0  \n",
       "4  0.502292  0.219422  0.215153   69.99      0  \n",
       "\n",
       "[5 rows x 31 columns]"
      ]
     },
     "execution_count": 2,
     "metadata": {},
     "output_type": "execute_result"
    }
   ],
   "source": [
    "data = pd.read_csv('creditcard.csv')\n",
    "data.head()"
   ]
  },
  {
   "cell_type": "markdown",
   "metadata": {},
   "source": [
    "## Exploratory Analysis"
   ]
  },
  {
   "cell_type": "code",
   "execution_count": 3,
   "metadata": {},
   "outputs": [
    {
     "data": {
      "text/html": [
       "<div>\n",
       "<style scoped>\n",
       "    .dataframe tbody tr th:only-of-type {\n",
       "        vertical-align: middle;\n",
       "    }\n",
       "\n",
       "    .dataframe tbody tr th {\n",
       "        vertical-align: top;\n",
       "    }\n",
       "\n",
       "    .dataframe thead th {\n",
       "        text-align: right;\n",
       "    }\n",
       "</style>\n",
       "<table border=\"1\" class=\"dataframe\">\n",
       "  <thead>\n",
       "    <tr style=\"text-align: right;\">\n",
       "      <th></th>\n",
       "      <th>Time</th>\n",
       "      <th>V1</th>\n",
       "      <th>V2</th>\n",
       "      <th>V3</th>\n",
       "      <th>V4</th>\n",
       "      <th>V5</th>\n",
       "      <th>V6</th>\n",
       "      <th>V7</th>\n",
       "      <th>V8</th>\n",
       "      <th>V9</th>\n",
       "      <th>...</th>\n",
       "      <th>V21</th>\n",
       "      <th>V22</th>\n",
       "      <th>V23</th>\n",
       "      <th>V24</th>\n",
       "      <th>V25</th>\n",
       "      <th>V26</th>\n",
       "      <th>V27</th>\n",
       "      <th>V28</th>\n",
       "      <th>Amount</th>\n",
       "      <th>Class</th>\n",
       "    </tr>\n",
       "  </thead>\n",
       "  <tbody>\n",
       "    <tr>\n",
       "      <td>count</td>\n",
       "      <td>284807.000000</td>\n",
       "      <td>2.848070e+05</td>\n",
       "      <td>2.848070e+05</td>\n",
       "      <td>2.848070e+05</td>\n",
       "      <td>2.848070e+05</td>\n",
       "      <td>2.848070e+05</td>\n",
       "      <td>2.848070e+05</td>\n",
       "      <td>2.848070e+05</td>\n",
       "      <td>2.848070e+05</td>\n",
       "      <td>2.848070e+05</td>\n",
       "      <td>...</td>\n",
       "      <td>2.848070e+05</td>\n",
       "      <td>2.848070e+05</td>\n",
       "      <td>2.848070e+05</td>\n",
       "      <td>2.848070e+05</td>\n",
       "      <td>2.848070e+05</td>\n",
       "      <td>2.848070e+05</td>\n",
       "      <td>2.848070e+05</td>\n",
       "      <td>2.848070e+05</td>\n",
       "      <td>284807.000000</td>\n",
       "      <td>284807.000000</td>\n",
       "    </tr>\n",
       "    <tr>\n",
       "      <td>mean</td>\n",
       "      <td>94813.859575</td>\n",
       "      <td>3.919560e-15</td>\n",
       "      <td>5.688174e-16</td>\n",
       "      <td>-8.769071e-15</td>\n",
       "      <td>2.782312e-15</td>\n",
       "      <td>-1.552563e-15</td>\n",
       "      <td>2.010663e-15</td>\n",
       "      <td>-1.694249e-15</td>\n",
       "      <td>-1.927028e-16</td>\n",
       "      <td>-3.137024e-15</td>\n",
       "      <td>...</td>\n",
       "      <td>1.537294e-16</td>\n",
       "      <td>7.959909e-16</td>\n",
       "      <td>5.367590e-16</td>\n",
       "      <td>4.458112e-15</td>\n",
       "      <td>1.453003e-15</td>\n",
       "      <td>1.699104e-15</td>\n",
       "      <td>-3.660161e-16</td>\n",
       "      <td>-1.206049e-16</td>\n",
       "      <td>88.349619</td>\n",
       "      <td>0.001727</td>\n",
       "    </tr>\n",
       "    <tr>\n",
       "      <td>std</td>\n",
       "      <td>47488.145955</td>\n",
       "      <td>1.958696e+00</td>\n",
       "      <td>1.651309e+00</td>\n",
       "      <td>1.516255e+00</td>\n",
       "      <td>1.415869e+00</td>\n",
       "      <td>1.380247e+00</td>\n",
       "      <td>1.332271e+00</td>\n",
       "      <td>1.237094e+00</td>\n",
       "      <td>1.194353e+00</td>\n",
       "      <td>1.098632e+00</td>\n",
       "      <td>...</td>\n",
       "      <td>7.345240e-01</td>\n",
       "      <td>7.257016e-01</td>\n",
       "      <td>6.244603e-01</td>\n",
       "      <td>6.056471e-01</td>\n",
       "      <td>5.212781e-01</td>\n",
       "      <td>4.822270e-01</td>\n",
       "      <td>4.036325e-01</td>\n",
       "      <td>3.300833e-01</td>\n",
       "      <td>250.120109</td>\n",
       "      <td>0.041527</td>\n",
       "    </tr>\n",
       "    <tr>\n",
       "      <td>min</td>\n",
       "      <td>0.000000</td>\n",
       "      <td>-5.640751e+01</td>\n",
       "      <td>-7.271573e+01</td>\n",
       "      <td>-4.832559e+01</td>\n",
       "      <td>-5.683171e+00</td>\n",
       "      <td>-1.137433e+02</td>\n",
       "      <td>-2.616051e+01</td>\n",
       "      <td>-4.355724e+01</td>\n",
       "      <td>-7.321672e+01</td>\n",
       "      <td>-1.343407e+01</td>\n",
       "      <td>...</td>\n",
       "      <td>-3.483038e+01</td>\n",
       "      <td>-1.093314e+01</td>\n",
       "      <td>-4.480774e+01</td>\n",
       "      <td>-2.836627e+00</td>\n",
       "      <td>-1.029540e+01</td>\n",
       "      <td>-2.604551e+00</td>\n",
       "      <td>-2.256568e+01</td>\n",
       "      <td>-1.543008e+01</td>\n",
       "      <td>0.000000</td>\n",
       "      <td>0.000000</td>\n",
       "    </tr>\n",
       "    <tr>\n",
       "      <td>25%</td>\n",
       "      <td>54201.500000</td>\n",
       "      <td>-9.203734e-01</td>\n",
       "      <td>-5.985499e-01</td>\n",
       "      <td>-8.903648e-01</td>\n",
       "      <td>-8.486401e-01</td>\n",
       "      <td>-6.915971e-01</td>\n",
       "      <td>-7.682956e-01</td>\n",
       "      <td>-5.540759e-01</td>\n",
       "      <td>-2.086297e-01</td>\n",
       "      <td>-6.430976e-01</td>\n",
       "      <td>...</td>\n",
       "      <td>-2.283949e-01</td>\n",
       "      <td>-5.423504e-01</td>\n",
       "      <td>-1.618463e-01</td>\n",
       "      <td>-3.545861e-01</td>\n",
       "      <td>-3.171451e-01</td>\n",
       "      <td>-3.269839e-01</td>\n",
       "      <td>-7.083953e-02</td>\n",
       "      <td>-5.295979e-02</td>\n",
       "      <td>5.600000</td>\n",
       "      <td>0.000000</td>\n",
       "    </tr>\n",
       "    <tr>\n",
       "      <td>50%</td>\n",
       "      <td>84692.000000</td>\n",
       "      <td>1.810880e-02</td>\n",
       "      <td>6.548556e-02</td>\n",
       "      <td>1.798463e-01</td>\n",
       "      <td>-1.984653e-02</td>\n",
       "      <td>-5.433583e-02</td>\n",
       "      <td>-2.741871e-01</td>\n",
       "      <td>4.010308e-02</td>\n",
       "      <td>2.235804e-02</td>\n",
       "      <td>-5.142873e-02</td>\n",
       "      <td>...</td>\n",
       "      <td>-2.945017e-02</td>\n",
       "      <td>6.781943e-03</td>\n",
       "      <td>-1.119293e-02</td>\n",
       "      <td>4.097606e-02</td>\n",
       "      <td>1.659350e-02</td>\n",
       "      <td>-5.213911e-02</td>\n",
       "      <td>1.342146e-03</td>\n",
       "      <td>1.124383e-02</td>\n",
       "      <td>22.000000</td>\n",
       "      <td>0.000000</td>\n",
       "    </tr>\n",
       "    <tr>\n",
       "      <td>75%</td>\n",
       "      <td>139320.500000</td>\n",
       "      <td>1.315642e+00</td>\n",
       "      <td>8.037239e-01</td>\n",
       "      <td>1.027196e+00</td>\n",
       "      <td>7.433413e-01</td>\n",
       "      <td>6.119264e-01</td>\n",
       "      <td>3.985649e-01</td>\n",
       "      <td>5.704361e-01</td>\n",
       "      <td>3.273459e-01</td>\n",
       "      <td>5.971390e-01</td>\n",
       "      <td>...</td>\n",
       "      <td>1.863772e-01</td>\n",
       "      <td>5.285536e-01</td>\n",
       "      <td>1.476421e-01</td>\n",
       "      <td>4.395266e-01</td>\n",
       "      <td>3.507156e-01</td>\n",
       "      <td>2.409522e-01</td>\n",
       "      <td>9.104512e-02</td>\n",
       "      <td>7.827995e-02</td>\n",
       "      <td>77.165000</td>\n",
       "      <td>0.000000</td>\n",
       "    </tr>\n",
       "    <tr>\n",
       "      <td>max</td>\n",
       "      <td>172792.000000</td>\n",
       "      <td>2.454930e+00</td>\n",
       "      <td>2.205773e+01</td>\n",
       "      <td>9.382558e+00</td>\n",
       "      <td>1.687534e+01</td>\n",
       "      <td>3.480167e+01</td>\n",
       "      <td>7.330163e+01</td>\n",
       "      <td>1.205895e+02</td>\n",
       "      <td>2.000721e+01</td>\n",
       "      <td>1.559499e+01</td>\n",
       "      <td>...</td>\n",
       "      <td>2.720284e+01</td>\n",
       "      <td>1.050309e+01</td>\n",
       "      <td>2.252841e+01</td>\n",
       "      <td>4.584549e+00</td>\n",
       "      <td>7.519589e+00</td>\n",
       "      <td>3.517346e+00</td>\n",
       "      <td>3.161220e+01</td>\n",
       "      <td>3.384781e+01</td>\n",
       "      <td>25691.160000</td>\n",
       "      <td>1.000000</td>\n",
       "    </tr>\n",
       "  </tbody>\n",
       "</table>\n",
       "<p>8 rows × 31 columns</p>\n",
       "</div>"
      ],
      "text/plain": [
       "                Time            V1            V2            V3            V4  \\\n",
       "count  284807.000000  2.848070e+05  2.848070e+05  2.848070e+05  2.848070e+05   \n",
       "mean    94813.859575  3.919560e-15  5.688174e-16 -8.769071e-15  2.782312e-15   \n",
       "std     47488.145955  1.958696e+00  1.651309e+00  1.516255e+00  1.415869e+00   \n",
       "min         0.000000 -5.640751e+01 -7.271573e+01 -4.832559e+01 -5.683171e+00   \n",
       "25%     54201.500000 -9.203734e-01 -5.985499e-01 -8.903648e-01 -8.486401e-01   \n",
       "50%     84692.000000  1.810880e-02  6.548556e-02  1.798463e-01 -1.984653e-02   \n",
       "75%    139320.500000  1.315642e+00  8.037239e-01  1.027196e+00  7.433413e-01   \n",
       "max    172792.000000  2.454930e+00  2.205773e+01  9.382558e+00  1.687534e+01   \n",
       "\n",
       "                 V5            V6            V7            V8            V9  \\\n",
       "count  2.848070e+05  2.848070e+05  2.848070e+05  2.848070e+05  2.848070e+05   \n",
       "mean  -1.552563e-15  2.010663e-15 -1.694249e-15 -1.927028e-16 -3.137024e-15   \n",
       "std    1.380247e+00  1.332271e+00  1.237094e+00  1.194353e+00  1.098632e+00   \n",
       "min   -1.137433e+02 -2.616051e+01 -4.355724e+01 -7.321672e+01 -1.343407e+01   \n",
       "25%   -6.915971e-01 -7.682956e-01 -5.540759e-01 -2.086297e-01 -6.430976e-01   \n",
       "50%   -5.433583e-02 -2.741871e-01  4.010308e-02  2.235804e-02 -5.142873e-02   \n",
       "75%    6.119264e-01  3.985649e-01  5.704361e-01  3.273459e-01  5.971390e-01   \n",
       "max    3.480167e+01  7.330163e+01  1.205895e+02  2.000721e+01  1.559499e+01   \n",
       "\n",
       "       ...           V21           V22           V23           V24  \\\n",
       "count  ...  2.848070e+05  2.848070e+05  2.848070e+05  2.848070e+05   \n",
       "mean   ...  1.537294e-16  7.959909e-16  5.367590e-16  4.458112e-15   \n",
       "std    ...  7.345240e-01  7.257016e-01  6.244603e-01  6.056471e-01   \n",
       "min    ... -3.483038e+01 -1.093314e+01 -4.480774e+01 -2.836627e+00   \n",
       "25%    ... -2.283949e-01 -5.423504e-01 -1.618463e-01 -3.545861e-01   \n",
       "50%    ... -2.945017e-02  6.781943e-03 -1.119293e-02  4.097606e-02   \n",
       "75%    ...  1.863772e-01  5.285536e-01  1.476421e-01  4.395266e-01   \n",
       "max    ...  2.720284e+01  1.050309e+01  2.252841e+01  4.584549e+00   \n",
       "\n",
       "                V25           V26           V27           V28         Amount  \\\n",
       "count  2.848070e+05  2.848070e+05  2.848070e+05  2.848070e+05  284807.000000   \n",
       "mean   1.453003e-15  1.699104e-15 -3.660161e-16 -1.206049e-16      88.349619   \n",
       "std    5.212781e-01  4.822270e-01  4.036325e-01  3.300833e-01     250.120109   \n",
       "min   -1.029540e+01 -2.604551e+00 -2.256568e+01 -1.543008e+01       0.000000   \n",
       "25%   -3.171451e-01 -3.269839e-01 -7.083953e-02 -5.295979e-02       5.600000   \n",
       "50%    1.659350e-02 -5.213911e-02  1.342146e-03  1.124383e-02      22.000000   \n",
       "75%    3.507156e-01  2.409522e-01  9.104512e-02  7.827995e-02      77.165000   \n",
       "max    7.519589e+00  3.517346e+00  3.161220e+01  3.384781e+01   25691.160000   \n",
       "\n",
       "               Class  \n",
       "count  284807.000000  \n",
       "mean        0.001727  \n",
       "std         0.041527  \n",
       "min         0.000000  \n",
       "25%         0.000000  \n",
       "50%         0.000000  \n",
       "75%         0.000000  \n",
       "max         1.000000  \n",
       "\n",
       "[8 rows x 31 columns]"
      ]
     },
     "execution_count": 3,
     "metadata": {},
     "output_type": "execute_result"
    }
   ],
   "source": [
    "desc = data.describe()\n",
    "desc"
   ]
  },
  {
   "cell_type": "markdown",
   "metadata": {},
   "source": [
    "We see that there are 284,807 rows in the dataset. The last transaction in this dataset took place 172,792 seconds, about 48 days, after the first transaction in this dataset. The other explanatory quantitative variable is `Amount`, whose mean is 88 dollars and median is 22 dollars. Furthermore, all the other variables which correspond to principal components seem to be standardized: mean is close to zero, and standard deviation is close to 1. Let's quickly check for any missing variables."
   ]
  },
  {
   "cell_type": "code",
   "execution_count": 4,
   "metadata": {},
   "outputs": [],
   "source": [
    "# Check for missing data\n",
    "for var in data.columns:\n",
    "    if len(data[data[var].isnull()]) > 0:\n",
    "        print(var)"
   ]
  },
  {
   "cell_type": "markdown",
   "metadata": {},
   "source": [
    "Since nothing printed, this means that there are no missing data!"
   ]
  },
  {
   "cell_type": "markdown",
   "metadata": {},
   "source": [
    "We know that this dataset is unbalanced. Let us see exactly the distribution of the data between fraud/not fraud. We see that only about 0.17% of the credit card transactions in this dataset are fraud! This mirrors reality: security is a very important issue and is continuously being improved; barely anyone ever makes a fraudulent transaction. "
   ]
  },
  {
   "cell_type": "code",
   "execution_count": 5,
   "metadata": {},
   "outputs": [
    {
     "name": "stdout",
     "output_type": "stream",
     "text": [
      "Number of Frauds in Dataset: 492\n",
      "Fraud: 0.001727485630620034\n",
      "Not fraud: 0.9982725143693799\n"
     ]
    }
   ],
   "source": [
    "n_fraud = len(data[data['Class'] == 1])\n",
    "print('Number of Frauds in Dataset:', n_fraud)\n",
    "print('Fraud:', len(data[data['Class'] == 1]) / len(data))\n",
    "print('Not fraud:', len(data[data['Class'] == 0]) / len(data))"
   ]
  },
  {
   "cell_type": "markdown",
   "metadata": {},
   "source": [
    "For completeness, let's look at the distribution of the time variable. Since our dataset looks at transactions over a 48-day period, there is perhaps a periodic trend in the number of transactions over time, with a period of about 100,000 seconds, or about 27 days. However, we don't know much more about the data, i.e., perhaps this is a subset of credit card transactions so this periodic trend is only present in this case."
   ]
  },
  {
   "cell_type": "code",
   "execution_count": 6,
   "metadata": {},
   "outputs": [
    {
     "data": {
      "image/png": "[encoded data removed]",
      "text/plain": [
       "<Figure size 648x432 with 1 Axes>"
      ]
     },
     "metadata": {
      "needs_background": "light"
     },
     "output_type": "display_data"
    }
   ],
   "source": [
    "plt.figure(figsize=(9, 6))\n",
    "plt.xlabel('Time', fontsize=16)\n",
    "plt.title('Distribution of Time', fontsize=20)\n",
    "sns.distplot(data['Time']);"
   ]
  },
  {
   "cell_type": "markdown",
   "metadata": {},
   "source": [
    "Let's now take a look at the distribution of `Time` based on whether the transaction was fraud or not. To do this, we will make a violin plot. We see that the distributions are very similar: later we will judge from a correlation plot to determine if we shall keep this variable to use in our model."
   ]
  },
  {
   "cell_type": "code",
   "execution_count": 7,
   "metadata": {},
   "outputs": [
    {
     "data": {
      "image/png": "[encoded data removed]",
      "text/plain": [
       "<Figure size 648x432 with 1 Axes>"
      ]
     },
     "metadata": {
      "needs_background": "light"
     },
     "output_type": "display_data"
    }
   ],
   "source": [
    "plt.figure(figsize=(9, 6))\n",
    "plt.title('Distribution of Time on Class', fontsize=16)\n",
    "sns.violinplot(x='Class', y='Time', data=data)\n",
    "plt.xlabel('Not Fraud = 0, Fraud = 1');"
   ]
  },
  {
   "cell_type": "markdown",
   "metadata": {},
   "source": [
    "Below is a boxplot of the `Amount` values. We see that it is highly skewed to the right, with the vast majority of transaction amounts close to zero. In fact, about 99% of the transactions in this dataset were less than 1000 dollars in amount."
   ]
  },
  {
   "cell_type": "code",
   "execution_count": 8,
   "metadata": {},
   "outputs": [
    {
     "data": {
      "image/png": "[encoded data removed]",
      "text/plain": [
       "<Figure size 648x432 with 1 Axes>"
      ]
     },
     "metadata": {
      "needs_background": "light"
     },
     "output_type": "display_data"
    }
   ],
   "source": [
    "plt.figure(figsize=(9, 6))\n",
    "plt.title('Amount Boxplot', fontsize=18)\n",
    "sns.boxplot(data['Amount']);"
   ]
  },
  {
   "cell_type": "code",
   "execution_count": 9,
   "metadata": {},
   "outputs": [
    {
     "name": "stdout",
     "output_type": "stream",
     "text": [
      "Number of transactions bigger than 1000: 2940\n",
      "Fraction of transactions bigger than 1000: 0.010322779987851423\n"
     ]
    }
   ],
   "source": [
    "# How many transactions were bigger than 1000 dollars?\n",
    "print(\"Number of transactions bigger than 1000:\", np.sum(data['Amount'] > 1000))\n",
    "print(\"Fraction of transactions bigger than 1000:\", np.sum(data['Amount'] > 1000) / len(data))"
   ]
  },
  {
   "cell_type": "markdown",
   "metadata": {},
   "source": [
    "## Baseline Logistic Regression\n",
    "\n",
    "A popular and effective technique in order to deal with such an imbalanced dataset is to perform undersampling: typical machine learning algorithms will not perform well on a dataset where 99.8% percent of the data are in the negative class. In fact, in this case, a useful baseline is to perform logistic regression on the original dataset."
   ]
  },
  {
   "cell_type": "code",
   "execution_count": 10,
   "metadata": {},
   "outputs": [
    {
     "name": "stdout",
     "output_type": "stream",
     "text": [
      "Train-shape: (170884, 31) Validation-shape: (56961, 31)\n"
     ]
    }
   ],
   "source": [
    "# First, let's divide our data into training, validation, and test sets\n",
    "from sklearn.model_selection import train_test_split\n",
    "\n",
    "train, val_test = train_test_split(data, train_size=0.6, test_size=0.4, random_state=0)\n",
    "validation, test = train_test_split(val_test, train_size=0.5, test_size=0.5, random_state=0)\n",
    "print('Train-shape:', train.shape, 'Validation-shape:', validation.shape)"
   ]
  },
  {
   "cell_type": "code",
   "execution_count": 11,
   "metadata": {},
   "outputs": [],
   "source": [
    "# We have to normalize the time and amount variables\n",
    "from sklearn.preprocessing import StandardScaler\n",
    "\n",
    "scaler = StandardScaler()\n",
    "time_amt = ['Time', 'Amount']\n",
    "pcs = ['V'+str(i) for i in range(1,29)]\n",
    "scaler.fit(train[time_amt])\n",
    "\n",
    "def unbalanced_design_matrix(df):\n",
    "    scaled = df[time_amt].copy()\n",
    "    scaled.iloc[:,:] = scaler.transform(scaled) # Convert numerical variables to standard units\n",
    "    return pd.concat([scaled, df[pcs]], axis=1)"
   ]
  },
  {
   "cell_type": "code",
   "execution_count": 12,
   "metadata": {},
   "outputs": [
    {
     "data": {
      "text/html": [
       "<div>\n",
       "<style scoped>\n",
       "    .dataframe tbody tr th:only-of-type {\n",
       "        vertical-align: middle;\n",
       "    }\n",
       "\n",
       "    .dataframe tbody tr th {\n",
       "        vertical-align: top;\n",
       "    }\n",
       "\n",
       "    .dataframe thead th {\n",
       "        text-align: right;\n",
       "    }\n",
       "</style>\n",
       "<table border=\"1\" class=\"dataframe\">\n",
       "  <thead>\n",
       "    <tr style=\"text-align: right;\">\n",
       "      <th></th>\n",
       "      <th>Time</th>\n",
       "      <th>Amount</th>\n",
       "      <th>V1</th>\n",
       "      <th>V2</th>\n",
       "      <th>V3</th>\n",
       "      <th>V4</th>\n",
       "      <th>V5</th>\n",
       "      <th>V6</th>\n",
       "      <th>V7</th>\n",
       "      <th>V8</th>\n",
       "      <th>...</th>\n",
       "      <th>V19</th>\n",
       "      <th>V20</th>\n",
       "      <th>V21</th>\n",
       "      <th>V22</th>\n",
       "      <th>V23</th>\n",
       "      <th>V24</th>\n",
       "      <th>V25</th>\n",
       "      <th>V26</th>\n",
       "      <th>V27</th>\n",
       "      <th>V28</th>\n",
       "    </tr>\n",
       "  </thead>\n",
       "  <tbody>\n",
       "    <tr>\n",
       "      <td>59047</td>\n",
       "      <td>-0.972223</td>\n",
       "      <td>-0.193419</td>\n",
       "      <td>1.412600</td>\n",
       "      <td>-1.126481</td>\n",
       "      <td>0.769823</td>\n",
       "      <td>-0.989608</td>\n",
       "      <td>-1.786631</td>\n",
       "      <td>-0.784095</td>\n",
       "      <td>-0.970396</td>\n",
       "      <td>-0.237039</td>\n",
       "      <td>...</td>\n",
       "      <td>0.006248</td>\n",
       "      <td>-0.231025</td>\n",
       "      <td>-0.205919</td>\n",
       "      <td>0.017792</td>\n",
       "      <td>-0.034302</td>\n",
       "      <td>0.768072</td>\n",
       "      <td>0.530205</td>\n",
       "      <td>-0.128744</td>\n",
       "      <td>0.051052</td>\n",
       "      <td>0.028766</td>\n",
       "    </tr>\n",
       "    <tr>\n",
       "      <td>249388</td>\n",
       "      <td>1.254119</td>\n",
       "      <td>-0.340674</td>\n",
       "      <td>-0.195457</td>\n",
       "      <td>1.203437</td>\n",
       "      <td>0.093016</td>\n",
       "      <td>0.881471</td>\n",
       "      <td>0.966096</td>\n",
       "      <td>-0.597060</td>\n",
       "      <td>1.277143</td>\n",
       "      <td>-0.139324</td>\n",
       "      <td>...</td>\n",
       "      <td>1.013858</td>\n",
       "      <td>0.058876</td>\n",
       "      <td>0.171365</td>\n",
       "      <td>0.782775</td>\n",
       "      <td>-0.293318</td>\n",
       "      <td>0.032989</td>\n",
       "      <td>-0.018812</td>\n",
       "      <td>-0.397271</td>\n",
       "      <td>0.435604</td>\n",
       "      <td>0.234196</td>\n",
       "    </tr>\n",
       "    <tr>\n",
       "      <td>209679</td>\n",
       "      <td>0.901896</td>\n",
       "      <td>0.921211</td>\n",
       "      <td>1.489838</td>\n",
       "      <td>-1.878344</td>\n",
       "      <td>-0.818912</td>\n",
       "      <td>-0.166904</td>\n",
       "      <td>-1.315812</td>\n",
       "      <td>-0.133650</td>\n",
       "      <td>-0.573227</td>\n",
       "      <td>0.030370</td>\n",
       "      <td>...</td>\n",
       "      <td>-0.452403</td>\n",
       "      <td>-0.062737</td>\n",
       "      <td>-0.390032</td>\n",
       "      <td>-1.304630</td>\n",
       "      <td>0.157790</td>\n",
       "      <td>-0.518679</td>\n",
       "      <td>-0.680248</td>\n",
       "      <td>-0.685603</td>\n",
       "      <td>-0.013874</td>\n",
       "      <td>0.010068</td>\n",
       "    </tr>\n",
       "    <tr>\n",
       "      <td>77120</td>\n",
       "      <td>-0.798966</td>\n",
       "      <td>7.191808</td>\n",
       "      <td>-4.868190</td>\n",
       "      <td>-7.675231</td>\n",
       "      <td>-1.319904</td>\n",
       "      <td>-1.697120</td>\n",
       "      <td>6.188912</td>\n",
       "      <td>-0.193839</td>\n",
       "      <td>-7.037926</td>\n",
       "      <td>-1.889607</td>\n",
       "      <td>...</td>\n",
       "      <td>-1.769975</td>\n",
       "      <td>3.728925</td>\n",
       "      <td>-0.011464</td>\n",
       "      <td>-2.070683</td>\n",
       "      <td>-13.458938</td>\n",
       "      <td>1.756353</td>\n",
       "      <td>-2.325517</td>\n",
       "      <td>-0.610821</td>\n",
       "      <td>0.292135</td>\n",
       "      <td>0.908701</td>\n",
       "    </tr>\n",
       "    <tr>\n",
       "      <td>139325</td>\n",
       "      <td>-0.247097</td>\n",
       "      <td>4.327861</td>\n",
       "      <td>-1.047580</td>\n",
       "      <td>-4.326320</td>\n",
       "      <td>-0.376047</td>\n",
       "      <td>-0.436771</td>\n",
       "      <td>-2.388023</td>\n",
       "      <td>0.157283</td>\n",
       "      <td>0.637982</td>\n",
       "      <td>-0.047648</td>\n",
       "      <td>...</td>\n",
       "      <td>0.167343</td>\n",
       "      <td>2.188855</td>\n",
       "      <td>0.894630</td>\n",
       "      <td>0.203169</td>\n",
       "      <td>-1.066856</td>\n",
       "      <td>0.353260</td>\n",
       "      <td>-0.087154</td>\n",
       "      <td>-0.006810</td>\n",
       "      <td>-0.162687</td>\n",
       "      <td>0.210510</td>\n",
       "    </tr>\n",
       "    <tr>\n",
       "      <td>...</td>\n",
       "      <td>...</td>\n",
       "      <td>...</td>\n",
       "      <td>...</td>\n",
       "      <td>...</td>\n",
       "      <td>...</td>\n",
       "      <td>...</td>\n",
       "      <td>...</td>\n",
       "      <td>...</td>\n",
       "      <td>...</td>\n",
       "      <td>...</td>\n",
       "      <td>...</td>\n",
       "      <td>...</td>\n",
       "      <td>...</td>\n",
       "      <td>...</td>\n",
       "      <td>...</td>\n",
       "      <td>...</td>\n",
       "      <td>...</td>\n",
       "      <td>...</td>\n",
       "      <td>...</td>\n",
       "      <td>...</td>\n",
       "      <td>...</td>\n",
       "    </tr>\n",
       "    <tr>\n",
       "      <td>276262</td>\n",
       "      <td>1.519555</td>\n",
       "      <td>-0.265581</td>\n",
       "      <td>-2.952994</td>\n",
       "      <td>-1.824516</td>\n",
       "      <td>0.359597</td>\n",
       "      <td>-0.764571</td>\n",
       "      <td>2.734655</td>\n",
       "      <td>3.952105</td>\n",
       "      <td>-1.629640</td>\n",
       "      <td>1.615446</td>\n",
       "      <td>...</td>\n",
       "      <td>-0.259063</td>\n",
       "      <td>-0.550307</td>\n",
       "      <td>-0.255501</td>\n",
       "      <td>0.414575</td>\n",
       "      <td>0.867611</td>\n",
       "      <td>0.675507</td>\n",
       "      <td>0.873748</td>\n",
       "      <td>0.779119</td>\n",
       "      <td>0.091631</td>\n",
       "      <td>-0.482405</td>\n",
       "    </tr>\n",
       "    <tr>\n",
       "      <td>166601</td>\n",
       "      <td>0.491907</td>\n",
       "      <td>-0.259679</td>\n",
       "      <td>-0.485210</td>\n",
       "      <td>0.344235</td>\n",
       "      <td>0.221036</td>\n",
       "      <td>-0.376490</td>\n",
       "      <td>0.523579</td>\n",
       "      <td>-0.191886</td>\n",
       "      <td>0.458142</td>\n",
       "      <td>-0.120024</td>\n",
       "      <td>...</td>\n",
       "      <td>0.085290</td>\n",
       "      <td>-0.393747</td>\n",
       "      <td>0.410211</td>\n",
       "      <td>1.543127</td>\n",
       "      <td>-0.274449</td>\n",
       "      <td>0.822912</td>\n",
       "      <td>-0.655752</td>\n",
       "      <td>-0.208407</td>\n",
       "      <td>-0.076853</td>\n",
       "      <td>0.282545</td>\n",
       "    </tr>\n",
       "    <tr>\n",
       "      <td>65737</td>\n",
       "      <td>-0.907970</td>\n",
       "      <td>-0.335708</td>\n",
       "      <td>1.410134</td>\n",
       "      <td>-0.594223</td>\n",
       "      <td>0.526813</td>\n",
       "      <td>-0.646531</td>\n",
       "      <td>-1.327381</td>\n",
       "      <td>-1.102720</td>\n",
       "      <td>-0.711772</td>\n",
       "      <td>-0.058902</td>\n",
       "      <td>...</td>\n",
       "      <td>0.625307</td>\n",
       "      <td>-0.089450</td>\n",
       "      <td>-0.124381</td>\n",
       "      <td>-0.590389</td>\n",
       "      <td>0.166563</td>\n",
       "      <td>0.306337</td>\n",
       "      <td>0.150430</td>\n",
       "      <td>-0.473381</td>\n",
       "      <td>-0.004932</td>\n",
       "      <td>0.017185</td>\n",
       "    </tr>\n",
       "    <tr>\n",
       "      <td>116606</td>\n",
       "      <td>-0.431306</td>\n",
       "      <td>0.540659</td>\n",
       "      <td>-0.981988</td>\n",
       "      <td>0.576658</td>\n",
       "      <td>-0.029528</td>\n",
       "      <td>-0.785391</td>\n",
       "      <td>-0.392180</td>\n",
       "      <td>-0.556021</td>\n",
       "      <td>1.427904</td>\n",
       "      <td>0.128512</td>\n",
       "      <td>...</td>\n",
       "      <td>-0.154414</td>\n",
       "      <td>0.450837</td>\n",
       "      <td>0.164154</td>\n",
       "      <td>0.253027</td>\n",
       "      <td>0.386842</td>\n",
       "      <td>-0.054459</td>\n",
       "      <td>-0.264299</td>\n",
       "      <td>0.857956</td>\n",
       "      <td>0.122012</td>\n",
       "      <td>0.173873</td>\n",
       "    </tr>\n",
       "    <tr>\n",
       "      <td>72481</td>\n",
       "      <td>-0.844665</td>\n",
       "      <td>-0.332452</td>\n",
       "      <td>-0.509988</td>\n",
       "      <td>0.962787</td>\n",
       "      <td>1.224843</td>\n",
       "      <td>-0.461420</td>\n",
       "      <td>0.570889</td>\n",
       "      <td>-0.805843</td>\n",
       "      <td>0.841091</td>\n",
       "      <td>-0.101692</td>\n",
       "      <td>...</td>\n",
       "      <td>-0.491920</td>\n",
       "      <td>-0.042652</td>\n",
       "      <td>-0.207099</td>\n",
       "      <td>-0.693835</td>\n",
       "      <td>-0.076196</td>\n",
       "      <td>-0.200768</td>\n",
       "      <td>-0.285931</td>\n",
       "      <td>-0.052684</td>\n",
       "      <td>0.068357</td>\n",
       "      <td>0.137021</td>\n",
       "    </tr>\n",
       "  </tbody>\n",
       "</table>\n",
       "<p>100 rows × 30 columns</p>\n",
       "</div>"
      ],
      "text/plain": [
       "            Time    Amount        V1        V2        V3        V4        V5  \\\n",
       "59047  -0.972223 -0.193419  1.412600 -1.126481  0.769823 -0.989608 -1.786631   \n",
       "249388  1.254119 -0.340674 -0.195457  1.203437  0.093016  0.881471  0.966096   \n",
       "209679  0.901896  0.921211  1.489838 -1.878344 -0.818912 -0.166904 -1.315812   \n",
       "77120  -0.798966  7.191808 -4.868190 -7.675231 -1.319904 -1.697120  6.188912   \n",
       "139325 -0.247097  4.327861 -1.047580 -4.326320 -0.376047 -0.436771 -2.388023   \n",
       "...          ...       ...       ...       ...       ...       ...       ...   \n",
       "276262  1.519555 -0.265581 -2.952994 -1.824516  0.359597 -0.764571  2.734655   \n",
       "166601  0.491907 -0.259679 -0.485210  0.344235  0.221036 -0.376490  0.523579   \n",
       "65737  -0.907970 -0.335708  1.410134 -0.594223  0.526813 -0.646531 -1.327381   \n",
       "116606 -0.431306  0.540659 -0.981988  0.576658 -0.029528 -0.785391 -0.392180   \n",
       "72481  -0.844665 -0.332452 -0.509988  0.962787  1.224843 -0.461420  0.570889   \n",
       "\n",
       "              V6        V7        V8  ...       V19       V20       V21  \\\n",
       "59047  -0.784095 -0.970396 -0.237039  ...  0.006248 -0.231025 -0.205919   \n",
       "249388 -0.597060  1.277143 -0.139324  ...  1.013858  0.058876  0.171365   \n",
       "209679 -0.133650 -0.573227  0.030370  ... -0.452403 -0.062737 -0.390032   \n",
       "77120  -0.193839 -7.037926 -1.889607  ... -1.769975  3.728925 -0.011464   \n",
       "139325  0.157283  0.637982 -0.047648  ...  0.167343  2.188855  0.894630   \n",
       "...          ...       ...       ...  ...       ...       ...       ...   \n",
       "276262  3.952105 -1.629640  1.615446  ... -0.259063 -0.550307 -0.255501   \n",
       "166601 -0.191886  0.458142 -0.120024  ...  0.085290 -0.393747  0.410211   \n",
       "65737  -1.102720 -0.711772 -0.058902  ...  0.625307 -0.089450 -0.124381   \n",
       "116606 -0.556021  1.427904  0.128512  ... -0.154414  0.450837  0.164154   \n",
       "72481  -0.805843  0.841091 -0.101692  ... -0.491920 -0.042652 -0.207099   \n",
       "\n",
       "             V22        V23       V24       V25       V26       V27       V28  \n",
       "59047   0.017792  -0.034302  0.768072  0.530205 -0.128744  0.051052  0.028766  \n",
       "249388  0.782775  -0.293318  0.032989 -0.018812 -0.397271  0.435604  0.234196  \n",
       "209679 -1.304630   0.157790 -0.518679 -0.680248 -0.685603 -0.013874  0.010068  \n",
       "77120  -2.070683 -13.458938  1.756353 -2.325517 -0.610821  0.292135  0.908701  \n",
       "139325  0.203169  -1.066856  0.353260 -0.087154 -0.006810 -0.162687  0.210510  \n",
       "...          ...        ...       ...       ...       ...       ...       ...  \n",
       "276262  0.414575   0.867611  0.675507  0.873748  0.779119  0.091631 -0.482405  \n",
       "166601  1.543127  -0.274449  0.822912 -0.655752 -0.208407 -0.076853  0.282545  \n",
       "65737  -0.590389   0.166563  0.306337  0.150430 -0.473381 -0.004932  0.017185  \n",
       "116606  0.253027   0.386842 -0.054459 -0.264299  0.857956  0.122012  0.173873  \n",
       "72481  -0.693835  -0.076196 -0.200768 -0.285931 -0.052684  0.068357  0.137021  \n",
       "\n",
       "[100 rows x 30 columns]"
      ]
     },
     "execution_count": 12,
     "metadata": {},
     "output_type": "execute_result"
    }
   ],
   "source": [
    "X_train, y_train = unbalanced_design_matrix(train), train['Class']\n",
    "X_val, y_val = unbalanced_design_matrix(validation), validation['Class']\n",
    "X_test, y_test = unbalanced_design_matrix(test), test['Class']\n",
    "X_train.head(100)"
   ]
  },
  {
   "cell_type": "code",
   "execution_count": 17,
   "metadata": {},
   "outputs": [
    {
     "name": "stderr",
     "output_type": "stream",
     "text": [
      "/Users/jcp/opt/anaconda3/lib/python3.7/site-packages/sklearn/linear_model/logistic.py:432: FutureWarning: Default solver will be changed to 'lbfgs' in 0.22. Specify a solver to silence this warning.\n",
      "  FutureWarning)\n"
     ]
    },
    {
     "name": "stdout",
     "output_type": "stream",
     "text": [
      "Number of fraudulent cases in test set: 90\n",
      "Number of predicted fraudulent cases: 57\n"
     ]
    }
   ],
   "source": [
    "# Let's now perform logistic regression\n",
    "from sklearn.linear_model import LogisticRegression\n",
    "\n",
    "classifier_base = LogisticRegression(random_state=0)\n",
    "classifier_base.fit(X_train, y_train)\n",
    "classifications = classifier_base.predict(X_val)\n",
    "\n",
    "print(\"Number of fraudulent cases in test set:\", np.sum(y_val))\n",
    "print(\"Number of predicted fraudulent cases:\", np.sum(classifications))"
   ]
  },
  {
   "cell_type": "markdown",
   "metadata": {},
   "source": [
    "Now we will measure the performance of this model through various ways. First, we will take a look at the ROC and precision-recall curves."
   ]
  },
  {
   "cell_type": "code",
   "execution_count": 21,
   "metadata": {},
   "outputs": [],
   "source": [
    "from sklearn import metrics\n",
    "\n",
    "def curve_eval(y_true, probs, title_addition=\"\"):\n",
    "    \"\"\"This function plots both the ROC and precision-recall curves for given \n",
    "       class values and predicted probabilities. They must both be one-dimensional\n",
    "       vectors of the same shape.\"\"\"\n",
    "    \n",
    "    # ROC curve\n",
    "    fpr, tpr, thresholds = metrics.roc_curve(y_true, probs)\n",
    "    plt.figure(figsize=(9,6))\n",
    "    plt.plot(fpr, tpr)\n",
    "    plt.title(\"ROC curve\" + \" \" + title_addition, fontsize=18)\n",
    "    plt.show()\n",
    "    \n",
    "    # Precision-recall curve\n",
    "    precision, recall, _ = metrics.precision_recall_curve(y_true, probs)\n",
    "    plt.figure(figsize=(9,6))\n",
    "    plt.plot(recall, precision)\n",
    "    plt.title(\"Precision-recall curve\" + \" \" + title_addition, fontsize=18)\n",
    "    plt.show()\n",
    "    \n",
    "    # Give area-under-the-curve scores\n",
    "    print(\"AUC for ROC:\", metrics.auc(fpr, tpr))\n",
    "    print(\"AUC for precision-recall:\", metrics.auc(recall, precision))"
   ]
  },
  {
   "cell_type": "code",
   "execution_count": 22,
   "metadata": {},
   "outputs": [
    {
     "data": {
      "image/png": "[encoded data removed]",
      "text/plain": [
       "<Figure size 648x432 with 1 Axes>"
      ]
     },
     "metadata": {
      "needs_background": "light"
     },
     "output_type": "display_data"
    },
    {
     "data": {
      "image/png": "[encoded data removed]",
      "text/plain": [
       "<Figure size 648x432 with 1 Axes>"
      ]
     },
     "metadata": {
      "needs_background": "light"
     },
     "output_type": "display_data"
    },
    {
     "name": "stdout",
     "output_type": "stream",
     "text": [
      "AUC for ROC: 0.9631251233297972\n",
      "AUC for precision-recall: 0.7354801781816164\n"
     ]
    }
   ],
   "source": [
    "probs = classifier_base.predict_proba(X_val)\n",
    "curve_eval(y_val, probs[:,1], title_addition=\"Baseline Logistic Regression\")"
   ]
  },
  {
   "cell_type": "markdown",
   "metadata": {},
   "source": [
    "From above, we notice that the ROC curve suggests that this model is actually quite good; however, the precision-recall curve shows that our classifier can definitely improve quite a bit. Indeed, below is a confusion matrix. In the test set, we know of $90$ fraudulent transactions, of which the classifier was able to detect $52$. On the other hand, of the $57$ times we predicted a fraudulent case, $5$ of them were not fraud. Thus:\n",
    "\n",
    "$$\\text{Baseline Performance:}$$\n",
    "\n",
    "$$\\text{Precision}=\\frac{52}{57}=91.2\\%$$\n",
    "\n",
    "$$\\text{Recall}=\\frac{52}{90}=57.8\\%$$\n",
    "\n",
    "This is because the ROC curve, similar to accuracy, measures performance for __both__ classes, while the precision-recall curve focuses on performance for the positive, or fraudulent, class. Since we prefer to identify fraudulent cases, unfortunately this performance is not too good, as the recall in this case is too close to 50% (random classifier)."
   ]
  },
  {
   "cell_type": "code",
   "execution_count": 92,
   "metadata": {},
   "outputs": [],
   "source": [
    "def make_confusion_matrix(y_true, preds):\n",
    "    cf_mat = metrics.confusion_matrix(y_true, preds)\n",
    "    df_cf_mat = pd.DataFrame(cf_mat)\n",
    "    plt.figure(figsize = (9,7))\n",
    "    sns.heatmap(df_cf_mat, annot=True, fmt=\"d\", annot_kws={'size':20})\n",
    "    plt.xticks([0.5, 1.5],labels=[0, 1])\n",
    "    plt.yticks([0, 2],labels=[0, 1])\n",
    "    plt.xlabel('Predicted', fontsize=16)\n",
    "    plt.ylabel('Actual', fontsize=16)\n",
    "    plt.title('Confusion Matrix', fontsize=20)\n",
    "    plt.show()"
   ]
  },
  {
   "cell_type": "code",
   "execution_count": 93,
   "metadata": {},
   "outputs": [
    {
     "data": {
      "image/png": "[encoded data removed]",
      "text/plain": [
       "<Figure size 648x504 with 2 Axes>"
      ]
     },
     "metadata": {
      "needs_background": "light"
     },
     "output_type": "display_data"
    }
   ],
   "source": [
    "make_confusion_matrix(y_val, classifications)"
   ]
  },
  {
   "cell_type": "markdown",
   "metadata": {},
   "source": [
    "## Feature Selection and Undersampling\n",
    "\n",
    "The method of undersampling has become more popular in this current age of \"big data.\" In the past, a popular technique was oversampling because collecting large amounts of data was indeed an issue. With too much data, particularly too much data in the majority class, this can be a nuisance. The idea is quite simple: randomly get rid of enough data in the majority class so that the resulting dataset is balanced. Note that this introduces bias since we train our model on only a subset of our entire dataset."
   ]
  },
  {
   "cell_type": "code",
   "execution_count": 24,
   "metadata": {},
   "outputs": [
    {
     "data": {
      "text/html": [
       "<div>\n",
       "<style scoped>\n",
       "    .dataframe tbody tr th:only-of-type {\n",
       "        vertical-align: middle;\n",
       "    }\n",
       "\n",
       "    .dataframe tbody tr th {\n",
       "        vertical-align: top;\n",
       "    }\n",
       "\n",
       "    .dataframe thead th {\n",
       "        text-align: right;\n",
       "    }\n",
       "</style>\n",
       "<table border=\"1\" class=\"dataframe\">\n",
       "  <thead>\n",
       "    <tr style=\"text-align: right;\">\n",
       "      <th></th>\n",
       "      <th>Time</th>\n",
       "      <th>V1</th>\n",
       "      <th>V2</th>\n",
       "      <th>V3</th>\n",
       "      <th>V4</th>\n",
       "      <th>V5</th>\n",
       "      <th>V6</th>\n",
       "      <th>V7</th>\n",
       "      <th>V8</th>\n",
       "      <th>V9</th>\n",
       "      <th>...</th>\n",
       "      <th>V21</th>\n",
       "      <th>V22</th>\n",
       "      <th>V23</th>\n",
       "      <th>V24</th>\n",
       "      <th>V25</th>\n",
       "      <th>V26</th>\n",
       "      <th>V27</th>\n",
       "      <th>V28</th>\n",
       "      <th>Amount</th>\n",
       "      <th>Class</th>\n",
       "    </tr>\n",
       "  </thead>\n",
       "  <tbody>\n",
       "    <tr>\n",
       "      <td>18466</td>\n",
       "      <td>29526.0</td>\n",
       "      <td>1.102804</td>\n",
       "      <td>2.829168</td>\n",
       "      <td>-3.932870</td>\n",
       "      <td>4.707691</td>\n",
       "      <td>2.937967</td>\n",
       "      <td>-1.800904</td>\n",
       "      <td>1.672734</td>\n",
       "      <td>-0.300240</td>\n",
       "      <td>-2.783011</td>\n",
       "      <td>...</td>\n",
       "      <td>-0.106994</td>\n",
       "      <td>-0.250050</td>\n",
       "      <td>-0.521627</td>\n",
       "      <td>-0.448950</td>\n",
       "      <td>1.291646</td>\n",
       "      <td>0.516327</td>\n",
       "      <td>0.009146</td>\n",
       "      <td>0.153318</td>\n",
       "      <td>0.68</td>\n",
       "      <td>1</td>\n",
       "    </tr>\n",
       "    <tr>\n",
       "      <td>50537</td>\n",
       "      <td>44532.0</td>\n",
       "      <td>-0.234922</td>\n",
       "      <td>0.355413</td>\n",
       "      <td>1.972183</td>\n",
       "      <td>-1.255593</td>\n",
       "      <td>-0.681387</td>\n",
       "      <td>-0.665732</td>\n",
       "      <td>0.059110</td>\n",
       "      <td>-0.003153</td>\n",
       "      <td>1.122451</td>\n",
       "      <td>...</td>\n",
       "      <td>0.220670</td>\n",
       "      <td>0.912107</td>\n",
       "      <td>-0.286338</td>\n",
       "      <td>0.451208</td>\n",
       "      <td>0.188315</td>\n",
       "      <td>-0.531846</td>\n",
       "      <td>0.123185</td>\n",
       "      <td>0.039581</td>\n",
       "      <td>1.00</td>\n",
       "      <td>1</td>\n",
       "    </tr>\n",
       "    <tr>\n",
       "      <td>150677</td>\n",
       "      <td>93879.0</td>\n",
       "      <td>-13.086519</td>\n",
       "      <td>7.352148</td>\n",
       "      <td>-18.256576</td>\n",
       "      <td>10.648505</td>\n",
       "      <td>-11.731476</td>\n",
       "      <td>-3.659167</td>\n",
       "      <td>-14.873658</td>\n",
       "      <td>8.810473</td>\n",
       "      <td>-5.418204</td>\n",
       "      <td>...</td>\n",
       "      <td>2.761157</td>\n",
       "      <td>-0.266162</td>\n",
       "      <td>-0.412861</td>\n",
       "      <td>0.519952</td>\n",
       "      <td>-0.743909</td>\n",
       "      <td>-0.167808</td>\n",
       "      <td>-2.498300</td>\n",
       "      <td>-0.711066</td>\n",
       "      <td>30.31</td>\n",
       "      <td>1</td>\n",
       "    </tr>\n",
       "    <tr>\n",
       "      <td>95534</td>\n",
       "      <td>65358.0</td>\n",
       "      <td>1.193916</td>\n",
       "      <td>-0.571085</td>\n",
       "      <td>0.742522</td>\n",
       "      <td>-0.014588</td>\n",
       "      <td>-0.624561</td>\n",
       "      <td>0.832162</td>\n",
       "      <td>-0.833350</td>\n",
       "      <td>0.272897</td>\n",
       "      <td>1.169425</td>\n",
       "      <td>...</td>\n",
       "      <td>-0.049502</td>\n",
       "      <td>0.207265</td>\n",
       "      <td>-0.265272</td>\n",
       "      <td>-0.679294</td>\n",
       "      <td>0.511812</td>\n",
       "      <td>1.246604</td>\n",
       "      <td>-0.028671</td>\n",
       "      <td>-0.006112</td>\n",
       "      <td>31.91</td>\n",
       "      <td>1</td>\n",
       "    </tr>\n",
       "    <tr>\n",
       "      <td>15225</td>\n",
       "      <td>26585.0</td>\n",
       "      <td>-19.856322</td>\n",
       "      <td>12.095893</td>\n",
       "      <td>-22.464083</td>\n",
       "      <td>6.115541</td>\n",
       "      <td>-15.148022</td>\n",
       "      <td>-4.346724</td>\n",
       "      <td>-15.648507</td>\n",
       "      <td>13.276805</td>\n",
       "      <td>-3.974162</td>\n",
       "      <td>...</td>\n",
       "      <td>1.750730</td>\n",
       "      <td>-1.409636</td>\n",
       "      <td>-0.809809</td>\n",
       "      <td>0.121397</td>\n",
       "      <td>1.350300</td>\n",
       "      <td>-0.224292</td>\n",
       "      <td>1.597621</td>\n",
       "      <td>0.476920</td>\n",
       "      <td>99.99</td>\n",
       "      <td>1</td>\n",
       "    </tr>\n",
       "    <tr>\n",
       "      <td>...</td>\n",
       "      <td>...</td>\n",
       "      <td>...</td>\n",
       "      <td>...</td>\n",
       "      <td>...</td>\n",
       "      <td>...</td>\n",
       "      <td>...</td>\n",
       "      <td>...</td>\n",
       "      <td>...</td>\n",
       "      <td>...</td>\n",
       "      <td>...</td>\n",
       "      <td>...</td>\n",
       "      <td>...</td>\n",
       "      <td>...</td>\n",
       "      <td>...</td>\n",
       "      <td>...</td>\n",
       "      <td>...</td>\n",
       "      <td>...</td>\n",
       "      <td>...</td>\n",
       "      <td>...</td>\n",
       "      <td>...</td>\n",
       "      <td>...</td>\n",
       "    </tr>\n",
       "    <tr>\n",
       "      <td>46602</td>\n",
       "      <td>42852.0</td>\n",
       "      <td>1.482121</td>\n",
       "      <td>-1.397533</td>\n",
       "      <td>-1.135031</td>\n",
       "      <td>-2.349665</td>\n",
       "      <td>0.912676</td>\n",
       "      <td>3.403611</td>\n",
       "      <td>-1.453708</td>\n",
       "      <td>0.779990</td>\n",
       "      <td>-1.778852</td>\n",
       "      <td>...</td>\n",
       "      <td>-0.414824</td>\n",
       "      <td>-0.956024</td>\n",
       "      <td>0.014166</td>\n",
       "      <td>0.975786</td>\n",
       "      <td>0.510790</td>\n",
       "      <td>-0.289236</td>\n",
       "      <td>0.030440</td>\n",
       "      <td>0.021079</td>\n",
       "      <td>54.23</td>\n",
       "      <td>0</td>\n",
       "    </tr>\n",
       "    <tr>\n",
       "      <td>268282</td>\n",
       "      <td>163147.0</td>\n",
       "      <td>1.774139</td>\n",
       "      <td>-0.571971</td>\n",
       "      <td>0.010043</td>\n",
       "      <td>1.243734</td>\n",
       "      <td>-0.761922</td>\n",
       "      <td>0.267853</td>\n",
       "      <td>-0.832498</td>\n",
       "      <td>0.250957</td>\n",
       "      <td>1.056642</td>\n",
       "      <td>...</td>\n",
       "      <td>0.141768</td>\n",
       "      <td>0.366443</td>\n",
       "      <td>0.151679</td>\n",
       "      <td>-0.459274</td>\n",
       "      <td>-0.357607</td>\n",
       "      <td>-0.732692</td>\n",
       "      <td>0.059837</td>\n",
       "      <td>-0.022578</td>\n",
       "      <td>76.00</td>\n",
       "      <td>0</td>\n",
       "    </tr>\n",
       "    <tr>\n",
       "      <td>73021</td>\n",
       "      <td>54942.0</td>\n",
       "      <td>0.842692</td>\n",
       "      <td>-0.515093</td>\n",
       "      <td>1.145420</td>\n",
       "      <td>1.417123</td>\n",
       "      <td>-1.211701</td>\n",
       "      <td>-0.157417</td>\n",
       "      <td>-0.541751</td>\n",
       "      <td>0.229793</td>\n",
       "      <td>0.738211</td>\n",
       "      <td>...</td>\n",
       "      <td>0.212570</td>\n",
       "      <td>0.272371</td>\n",
       "      <td>-0.033182</td>\n",
       "      <td>0.338963</td>\n",
       "      <td>0.103180</td>\n",
       "      <td>-0.359291</td>\n",
       "      <td>0.039894</td>\n",
       "      <td>0.060042</td>\n",
       "      <td>144.00</td>\n",
       "      <td>0</td>\n",
       "    </tr>\n",
       "    <tr>\n",
       "      <td>246212</td>\n",
       "      <td>153082.0</td>\n",
       "      <td>1.996607</td>\n",
       "      <td>0.070629</td>\n",
       "      <td>-1.620084</td>\n",
       "      <td>0.343304</td>\n",
       "      <td>0.398532</td>\n",
       "      <td>-0.574251</td>\n",
       "      <td>0.072089</td>\n",
       "      <td>-0.069104</td>\n",
       "      <td>0.240498</td>\n",
       "      <td>...</td>\n",
       "      <td>-0.292509</td>\n",
       "      <td>-0.790769</td>\n",
       "      <td>0.351421</td>\n",
       "      <td>0.606877</td>\n",
       "      <td>-0.334396</td>\n",
       "      <td>0.147945</td>\n",
       "      <td>-0.065371</td>\n",
       "      <td>-0.038416</td>\n",
       "      <td>8.99</td>\n",
       "      <td>0</td>\n",
       "    </tr>\n",
       "    <tr>\n",
       "      <td>27890</td>\n",
       "      <td>34754.0</td>\n",
       "      <td>1.391007</td>\n",
       "      <td>-1.469809</td>\n",
       "      <td>1.168768</td>\n",
       "      <td>-1.134833</td>\n",
       "      <td>-2.088535</td>\n",
       "      <td>0.077296</td>\n",
       "      <td>-1.733541</td>\n",
       "      <td>0.245543</td>\n",
       "      <td>-0.810584</td>\n",
       "      <td>...</td>\n",
       "      <td>-0.226671</td>\n",
       "      <td>-0.138953</td>\n",
       "      <td>0.106559</td>\n",
       "      <td>0.034314</td>\n",
       "      <td>0.121243</td>\n",
       "      <td>-0.161810</td>\n",
       "      <td>0.084089</td>\n",
       "      <td>0.027576</td>\n",
       "      <td>22.00</td>\n",
       "      <td>0</td>\n",
       "    </tr>\n",
       "  </tbody>\n",
       "</table>\n",
       "<p>586 rows × 31 columns</p>\n",
       "</div>"
      ],
      "text/plain": [
       "            Time         V1         V2         V3         V4         V5  \\\n",
       "18466    29526.0   1.102804   2.829168  -3.932870   4.707691   2.937967   \n",
       "50537    44532.0  -0.234922   0.355413   1.972183  -1.255593  -0.681387   \n",
       "150677   93879.0 -13.086519   7.352148 -18.256576  10.648505 -11.731476   \n",
       "95534    65358.0   1.193916  -0.571085   0.742522  -0.014588  -0.624561   \n",
       "15225    26585.0 -19.856322  12.095893 -22.464083   6.115541 -15.148022   \n",
       "...          ...        ...        ...        ...        ...        ...   \n",
       "46602    42852.0   1.482121  -1.397533  -1.135031  -2.349665   0.912676   \n",
       "268282  163147.0   1.774139  -0.571971   0.010043   1.243734  -0.761922   \n",
       "73021    54942.0   0.842692  -0.515093   1.145420   1.417123  -1.211701   \n",
       "246212  153082.0   1.996607   0.070629  -1.620084   0.343304   0.398532   \n",
       "27890    34754.0   1.391007  -1.469809   1.168768  -1.134833  -2.088535   \n",
       "\n",
       "              V6         V7         V8        V9  ...       V21       V22  \\\n",
       "18466  -1.800904   1.672734  -0.300240 -2.783011  ... -0.106994 -0.250050   \n",
       "50537  -0.665732   0.059110  -0.003153  1.122451  ...  0.220670  0.912107   \n",
       "150677 -3.659167 -14.873658   8.810473 -5.418204  ...  2.761157 -0.266162   \n",
       "95534   0.832162  -0.833350   0.272897  1.169425  ... -0.049502  0.207265   \n",
       "15225  -4.346724 -15.648507  13.276805 -3.974162  ...  1.750730 -1.409636   \n",
       "...          ...        ...        ...       ...  ...       ...       ...   \n",
       "46602   3.403611  -1.453708   0.779990 -1.778852  ... -0.414824 -0.956024   \n",
       "268282  0.267853  -0.832498   0.250957  1.056642  ...  0.141768  0.366443   \n",
       "73021  -0.157417  -0.541751   0.229793  0.738211  ...  0.212570  0.272371   \n",
       "246212 -0.574251   0.072089  -0.069104  0.240498  ... -0.292509 -0.790769   \n",
       "27890   0.077296  -1.733541   0.245543 -0.810584  ... -0.226671 -0.138953   \n",
       "\n",
       "             V23       V24       V25       V26       V27       V28  Amount  \\\n",
       "18466  -0.521627 -0.448950  1.291646  0.516327  0.009146  0.153318    0.68   \n",
       "50537  -0.286338  0.451208  0.188315 -0.531846  0.123185  0.039581    1.00   \n",
       "150677 -0.412861  0.519952 -0.743909 -0.167808 -2.498300 -0.711066   30.31   \n",
       "95534  -0.265272 -0.679294  0.511812  1.246604 -0.028671 -0.006112   31.91   \n",
       "15225  -0.809809  0.121397  1.350300 -0.224292  1.597621  0.476920   99.99   \n",
       "...          ...       ...       ...       ...       ...       ...     ...   \n",
       "46602   0.014166  0.975786  0.510790 -0.289236  0.030440  0.021079   54.23   \n",
       "268282  0.151679 -0.459274 -0.357607 -0.732692  0.059837 -0.022578   76.00   \n",
       "73021  -0.033182  0.338963  0.103180 -0.359291  0.039894  0.060042  144.00   \n",
       "246212  0.351421  0.606877 -0.334396  0.147945 -0.065371 -0.038416    8.99   \n",
       "27890   0.106559  0.034314  0.121243 -0.161810  0.084089  0.027576   22.00   \n",
       "\n",
       "        Class  \n",
       "18466       1  \n",
       "50537       1  \n",
       "150677      1  \n",
       "95534       1  \n",
       "15225       1  \n",
       "...       ...  \n",
       "46602       0  \n",
       "268282      0  \n",
       "73021       0  \n",
       "246212      0  \n",
       "27890       0  \n",
       "\n",
       "[586 rows x 31 columns]"
      ]
     },
     "execution_count": 24,
     "metadata": {},
     "output_type": "execute_result"
    }
   ],
   "source": [
    "# Undersampling\n",
    "n_fraud = len(train[train['Class'] == 1])\n",
    "class0_samples = train[train['Class'] == 0].sample(n=n_fraud, random_state=0)\n",
    "\n",
    "# Append to all fraud samples\n",
    "frauds = train[train['Class'] == 1]\n",
    "train_u = pd.concat([frauds, class0_samples], axis=0)\n",
    "train_u"
   ]
  },
  {
   "cell_type": "markdown",
   "metadata": {},
   "source": [
    "Let's now perform feature selection to extract only the features that can best predict whether a transaction was fraudulent or not. To do this, we make a correlation heatmap and visually pick out the features that are most negatively/positively correlated with the `Class` variable."
   ]
  },
  {
   "cell_type": "code",
   "execution_count": 25,
   "metadata": {},
   "outputs": [
    {
     "data": {
      "image/png": "[encoded data removed]",
      "text/plain": [
       "<Figure size 1080x864 with 2 Axes>"
      ]
     },
     "metadata": {
      "needs_background": "light"
     },
     "output_type": "display_data"
    }
   ],
   "source": [
    "# Feature selection\n",
    "# Make correlation heatmap to select the columns that are most positively/negatively correlated with\n",
    "# whether the transaction was fraud or not\n",
    "plt.figure(figsize=(15, 12))\n",
    "sns.heatmap(train_u.corr(), cmap='coolwarm');"
   ]
  },
  {
   "cell_type": "markdown",
   "metadata": {},
   "source": [
    "Below, we pick out the most effective explanatory variables visually."
   ]
  },
  {
   "cell_type": "code",
   "execution_count": 26,
   "metadata": {},
   "outputs": [],
   "source": [
    "# We can just do this visually\n",
    "# Negatively correlated variables:\n",
    "neg_vars = ['V1', 'V3', 'V5', 'V6', 'V7', 'V9', 'V10', 'V12', 'V14', 'V16', 'V17', 'V18']\n",
    "# Positively correlated variables:\n",
    "pos_vars = ['V2', 'V4', 'V11']\n",
    "\n",
    "def design_matrix(df):\n",
    "    return df[neg_vars + pos_vars]"
   ]
  },
  {
   "cell_type": "markdown",
   "metadata": {},
   "source": [
    "Let's see some boxplots of some of these variables by fraud/not fraud. Indeed, these boxplots represent the correlations we see in the heatmap. For example, values for `V1` on average tend to be lower for fraudulent transactions than non-fraudulent transactions. Similarly, values for `V2` tend to be higher for frauds than non-frauds."
   ]
  },
  {
   "cell_type": "code",
   "execution_count": 27,
   "metadata": {},
   "outputs": [
    {
     "data": {
      "image/png": "[encoded data removed]",
      "text/plain": [
       "<Figure size 648x432 with 1 Axes>"
      ]
     },
     "metadata": {
      "needs_background": "light"
     },
     "output_type": "display_data"
    }
   ],
   "source": [
    "# V1\n",
    "plt.figure(figsize=(9,6))\n",
    "sns.boxplot(x='Class', y='V1', data=train_u)\n",
    "plt.xlabel('Class', fontsize=16)\n",
    "plt.title('Boxplot of V1', fontsize=18);"
   ]
  },
  {
   "cell_type": "code",
   "execution_count": 28,
   "metadata": {},
   "outputs": [
    {
     "data": {
      "image/png": "[encoded data removed]",
      "text/plain": [
       "<Figure size 648x432 with 1 Axes>"
      ]
     },
     "metadata": {
      "needs_background": "light"
     },
     "output_type": "display_data"
    }
   ],
   "source": [
    "# V2\n",
    "plt.figure(figsize=(9,6))\n",
    "sns.boxplot(x='Class', y='V2', data=train_u)\n",
    "plt.xlabel('Class', fontsize=16)\n",
    "plt.title('Boxplot of V2', fontsize=18);"
   ]
  },
  {
   "cell_type": "markdown",
   "metadata": {},
   "source": [
    "## Logistic Regression with Undersampling\n",
    "\n",
    "We now try to fit a logistic regression model on the undersampled data."
   ]
  },
  {
   "cell_type": "code",
   "execution_count": 95,
   "metadata": {},
   "outputs": [
    {
     "name": "stderr",
     "output_type": "stream",
     "text": [
      "/Users/jcp/opt/anaconda3/lib/python3.7/site-packages/sklearn/linear_model/logistic.py:432: FutureWarning: Default solver will be changed to 'lbfgs' in 0.22. Specify a solver to silence this warning.\n",
      "  FutureWarning)\n"
     ]
    }
   ],
   "source": [
    "X_train_u, y_train_u = design_matrix(train_u.drop('Class', axis=1)), train_u['Class']\n",
    "XX_val = design_matrix(X_val)\n",
    "\n",
    "clf_u = LogisticRegression(random_state=0)\n",
    "clf_u.fit(X_train_u, y_train_u)\n",
    "preds = clf_u.predict(XX_val)"
   ]
  },
  {
   "cell_type": "code",
   "execution_count": 96,
   "metadata": {},
   "outputs": [
    {
     "name": "stdout",
     "output_type": "stream",
     "text": [
      "Accuracy: 0.9724021699057249\n"
     ]
    }
   ],
   "source": [
    "# Accuracy seems pretty good, but it is misleading!\n",
    "acc_val = np.mean(preds == y_val)\n",
    "print(\"Accuracy:\", acc_val)"
   ]
  },
  {
   "cell_type": "markdown",
   "metadata": {},
   "source": [
    "Again, let's plot a ROC curve and a precision-recall curve, knowing that we prefer looking at the precision-recall curve."
   ]
  },
  {
   "cell_type": "code",
   "execution_count": 97,
   "metadata": {},
   "outputs": [
    {
     "data": {
      "image/png": "[encoded data removed]",
      "text/plain": [
       "<Figure size 648x432 with 1 Axes>"
      ]
     },
     "metadata": {
      "needs_background": "light"
     },
     "output_type": "display_data"
    },
    {
     "data": {
      "image/png": "[encoded data removed]",
      "text/plain": [
       "<Figure size 648x432 with 1 Axes>"
      ]
     },
     "metadata": {
      "needs_background": "light"
     },
     "output_type": "display_data"
    },
    {
     "name": "stdout",
     "output_type": "stream",
     "text": [
      "AUC for ROC: 0.9609638968503768\n",
      "AUC for precision-recall: 0.6924507296811296\n"
     ]
    }
   ],
   "source": [
    "probs = clf_u.predict_proba(XX_val)\n",
    "curve_eval(y_val, probs[:,1])"
   ]
  },
  {
   "cell_type": "markdown",
   "metadata": {},
   "source": [
    "It seems that the AUC for the precision-recall curve actually decreased, but we indeed get similar performance looking at the top-right corner of the plot. We will use the validation set to find an optimal threshold value. From below, our recall improved quite a bit, but the precision is quite low.\n",
    "\n",
    "$$\\text{Validation With Undersampling:}$$\n",
    "\n",
    "$$\\text{Precision}=\\frac{76}{76+1558}=4.65\\%$$\n",
    "\n",
    "$$\\text{Recall}=\\frac{76}{76+14}=84.4\\%$$"
   ]
  },
  {
   "cell_type": "code",
   "execution_count": 98,
   "metadata": {},
   "outputs": [
    {
     "data": {
      "image/png": "[encoded data removed]",
      "text/plain": [
       "<Figure size 648x504 with 2 Axes>"
      ]
     },
     "metadata": {
      "needs_background": "light"
     },
     "output_type": "display_data"
    }
   ],
   "source": [
    "make_confusion_matrix(y_val, preds)"
   ]
  },
  {
   "cell_type": "code",
   "execution_count": 99,
   "metadata": {},
   "outputs": [
    {
     "name": "stdout",
     "output_type": "stream",
     "text": [
      "Threshold: 0.5 C: 0.01    Recall: 0.82    Precision: 0.12\n",
      "Threshold: 0.6 C: 0.01    Recall: 0.82    Precision: 0.26\n",
      "Threshold: 0.7 C: 0.01    Recall: 0.81    Precision: 0.47\n",
      "Threshold: 0.7 C: 0.1    Recall: 0.81    Precision: 0.13\n",
      "Threshold: 0.8 C: 0.1    Recall: 0.81    Precision: 0.22\n",
      "Threshold: 0.8 C: 1    Recall: 0.81    Precision: 0.13\n",
      "Threshold: 0.8 C: 10    Recall: 0.82    Precision: 0.13\n",
      "Threshold: 0.8 C: 100    Recall: 0.82    Precision: 0.12\n"
     ]
    }
   ],
   "source": [
    "thresholds = np.arange(start = 0.1, stop = 0.9, step = 0.1)\n",
    "\n",
    "for t in thresholds:\n",
    "    for c in [0.01, 0.1, 1, 10, 100]:\n",
    "        clf_u_ct = LogisticRegression(C=c, random_state=0, solver='lbfgs')\n",
    "        clf_u_ct.fit(X_train_u, y_train_u)\n",
    "        probs = clf_u_ct.predict_proba(XX_val)\n",
    "        preds = np.where(probs[:,1] > t, 1, 0)\n",
    "        true_pos = np.sum((preds == y_val) & (preds == 1))\n",
    "        recall = true_pos / np.sum(y_val)\n",
    "        precision = true_pos / np.sum(preds)\n",
    "        if recall > 0.8 and precision > 0.1:\n",
    "            print(\"Threshold:\", round(t, 2), \"C:\", c, \"   Recall:\", round(recall, 2), \"   Precision:\", round(precision, 2))"
   ]
  },
  {
   "cell_type": "markdown",
   "metadata": {},
   "source": [
    "From the script above, we see that the best performance seems to occur when we set the threshold at 0.6 and $C$ at 0.01. Note that depending on the company's/application's needs and desires, we can tune the threshold and $C$-value appropriately."
   ]
  },
  {
   "cell_type": "code",
   "execution_count": 100,
   "metadata": {},
   "outputs": [
    {
     "data": {
      "image/png": "[encoded data removed]",
      "text/plain": [
       "<Figure size 648x504 with 2 Axes>"
      ]
     },
     "metadata": {
      "needs_background": "light"
     },
     "output_type": "display_data"
    }
   ],
   "source": [
    "clf_u_opt = LogisticRegression(C=0.01, random_state=0, solver='lbfgs')\n",
    "clf_u_opt.fit(X_train_u, y_train_u)\n",
    "probs = clf_u_opt.predict_proba(XX_val)\n",
    "preds = np.where(probs[:,1] > 0.6, 1, 0)\n",
    "make_confusion_matrix(y_val, preds)"
   ]
  },
  {
   "cell_type": "markdown",
   "metadata": {},
   "source": [
    "Finally, we see this model's performance on the test set. It suffices to look at the confusion matrix. Here, we get the following final results for the precision and recall.\n",
    "\n",
    "\n",
    "$$\\text{Final Test With Undersampling:}$$\n",
    "\n",
    "$$\\text{Precision}=\\frac{97}{97+209}=31.7\\%$$\n",
    "\n",
    "$$\\text{Recall}=\\frac{97}{97+12}=89.0\\%$$"
   ]
  },
  {
   "cell_type": "code",
   "execution_count": 101,
   "metadata": {},
   "outputs": [
    {
     "data": {
      "image/png": "[encoded data removed]",
      "text/plain": [
       "<Figure size 648x504 with 2 Axes>"
      ]
     },
     "metadata": {
      "needs_background": "light"
     },
     "output_type": "display_data"
    }
   ],
   "source": [
    "probs_test = clf_u_opt.predict_proba(design_matrix(X_test))\n",
    "preds_test = np.where(probs_test[:,1] > 0.6, 1, 0)\n",
    "make_confusion_matrix(y_test, preds_test)"
   ]
  },
  {
   "cell_type": "markdown",
   "metadata": {},
   "source": [
    "A logistic regression model performs considerably well in detecting fraudulent samples as long as we perform the undersampling method. With undersampling, the recall considerably improves, although precision may decrease as a result. However, as in the test set, we notice that $209/(209+56644)=0.37\\%$ of non-fraudulent transactions were flagged falsely as fraud. Of course, we could continue work in order to improve the performance of a classifier that both increases detection and decreases false positives.\n",
    "\n",
    "For now, we will have to deal with consumers having to appropriately react to an accusation of fraud. However, it is important to note that it may be relatively easy for a consumer to confirm one's own transaction, and thus clear any accusation of fraud."
   ]
  },
  {
   "cell_type": "markdown",
   "metadata": {},
   "source": [
    "### References\n",
    "\n",
    "Blagus, R., Lusa, L. SMOTE for high-dimensional class-imbalanced data. BMC Bioinformatics 14, 106 (2013). https://doi.org/10.1186/1471-2105-14-106"
   ]
  },
  {
   "cell_type": "code",
   "execution_count": null,
   "metadata": {},
   "outputs": [],
   "source": []
  }
 ],
 "metadata": {
  "kernelspec": {
   "display_name": "Python 3",
   "language": "python",
   "name": "python3"
  },
  "language_info": {
   "codemirror_mode": {
    "name": "ipython",
    "version": 3
   },
   "file_extension": ".py",
   "mimetype": "text/x-python",
   "name": "python",
   "nbconvert_exporter": "python",
   "pygments_lexer": "ipython3",
   "version": "3.7.4"
  }
 },
 "nbformat": 4,
 "nbformat_minor": 2
}
